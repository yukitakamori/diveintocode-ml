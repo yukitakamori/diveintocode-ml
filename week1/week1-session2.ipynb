{
 "cells": [
  {
   "cell_type": "markdown",
   "metadata": {},
   "source": [
    "# 2.何回折ったら富士山を超えるか問題"
   ]
  },
  {
   "cell_type": "markdown",
   "metadata": {},
   "source": [
    "## 【課題】富士山を超える最小の折る回数"
   ]
  },
  {
   "cell_type": "code",
   "execution_count": 2,
   "metadata": {},
   "outputs": [
    {
     "name": "stdout",
     "output_type": "stream",
     "text": [
      "26\n"
     ]
    }
   ],
   "source": [
    "def count_folded(thickness, distance):\n",
    "    count = 0\n",
    "    folded = thickness\n",
    "    while distance > folded: # 紙の厚さが距離を超えるまで繰り返す\n",
    "        count += 1\n",
    "        folded = thickness*(2**count)\n",
    "\n",
    "    return count\n",
    "\n",
    "\n",
    "print(count_folded(0.00008, 3776))\n",
    "\n",
    "# 富士山の高さまで２６回紙を折る"
   ]
  },
  {
   "cell_type": "markdown",
   "metadata": {},
   "source": [
    "## 【課題】任意の厚さに対応した関数を作成"
   ]
  },
  {
   "cell_type": "code",
   "execution_count": 9,
   "metadata": {},
   "outputs": [
    {
     "name": "stdout",
     "output_type": "stream",
     "text": [
      "69\n"
     ]
    }
   ],
   "source": [
    "def count_folded(thickness, distance):\n",
    "    count = 0\n",
    "    folded = thickness\n",
    "    while distance > folded:\n",
    "        count += 1\n",
    "        folded = thickness*(2**count)\n",
    "\n",
    "    return count\n",
    "\n",
    "\n",
    "# プロキシマ・ケンタウリまでの距離（メートル）\n",
    "print(count_folded(0.00008, 4.01418794e+16))\n",
    "\n",
    "# プロキシマ・ケンタウリまで６９回紙を折る"
   ]
  },
  {
   "cell_type": "markdown",
   "metadata": {},
   "source": [
    "## 【課題】必要な紙の長さ"
   ]
  },
  {
   "cell_type": "code",
   "execution_count": 8,
   "metadata": {},
   "outputs": [
    {
     "name": "stdout",
     "output_type": "stream",
     "text": [
      "188646348487.24017\n"
     ]
    }
   ],
   "source": [
    "import math\n",
    "pai = math.pi\n",
    "\n",
    "\n",
    "def toiletpaper(thickness, distance):\n",
    "    index = count_folded(thickness, distance)\n",
    "    power2 = 2**index\n",
    "    length = pai*thickness/6 * (power2+4) * (power2-1)\n",
    "\n",
    "    return length\n",
    "\n",
    "\n",
    "print(toiletpaper(0.00008, 3776))\n",
    "\n",
    "# 富士山の高さを超えるまで紙を折ると、188646348487.24017メートルの長さの紙が必要"
   ]
  },
  {
   "cell_type": "code",
   "execution_count": null,
   "metadata": {},
   "outputs": [],
   "source": []
  }
 ],
 "metadata": {
  "kernelspec": {
   "display_name": "Python 3",
   "language": "python",
   "name": "python3"
  },
  "language_info": {
   "codemirror_mode": {
    "name": "ipython",
    "version": 3
   },
   "file_extension": ".py",
   "mimetype": "text/x-python",
   "name": "python",
   "nbconvert_exporter": "python",
   "pygments_lexer": "ipython3",
   "version": "3.7.2"
  },
  "toc": {
   "base_numbering": 1,
   "nav_menu": {},
   "number_sections": true,
   "sideBar": true,
   "skip_h1_title": false,
   "title_cell": "Table of Contents",
   "title_sidebar": "Contents",
   "toc_cell": false,
   "toc_position": {},
   "toc_section_display": true,
   "toc_window_display": false
  },
  "varInspector": {
   "cols": {
    "lenName": 16,
    "lenType": 16,
    "lenVar": 40
   },
   "kernels_config": {
    "python": {
     "delete_cmd_postfix": "",
     "delete_cmd_prefix": "del ",
     "library": "var_list.py",
     "varRefreshCmd": "print(var_dic_list())"
    },
    "r": {
     "delete_cmd_postfix": ") ",
     "delete_cmd_prefix": "rm(",
     "library": "var_list.r",
     "varRefreshCmd": "cat(var_dic_list()) "
    }
   },
   "types_to_exclude": [
    "module",
    "function",
    "builtin_function_or_method",
    "instance",
    "_Feature"
   ],
   "window_display": false
  }
 },
 "nbformat": 4,
 "nbformat_minor": 2
}
