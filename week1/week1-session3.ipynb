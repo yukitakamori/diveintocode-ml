{
 "cells": [
  {
   "cell_type": "markdown",
   "metadata": {},
   "source": [
    "# 2.栗まんじゅう問題"
   ]
  },
  {
   "cell_type": "markdown",
   "metadata": {},
   "source": [
    "## 【問題】栗まんじゅうが太陽系を覆う日"
   ]
  },
  {
   "cell_type": "code",
   "execution_count": 2,
   "metadata": {
    "ExecuteTime": {
     "end_time": "2019-07-12T04:29:28.476300Z",
     "start_time": "2019-07-12T04:29:28.091334Z"
    }
   },
   "outputs": [
    {
     "name": "stdout",
     "output_type": "stream",
     "text": [
      "540\n"
     ]
    },
    {
     "data": {
      "image/png": "[encoded data removed]",
      "text/plain": [
       "<Figure size 432x288 with 1 Axes>"
      ]
     },
     "metadata": {
      "needs_background": "light"
     },
     "output_type": "display_data"
    }
   ],
   "source": [
    "import math\n",
    "import matplotlib.pyplot as plt\n",
    "%matplotlib inline\n",
    "\n",
    "pai = math.pi\n",
    "totalmanju_volume = []\n",
    "time = [0]\n",
    "\n",
    "\n",
    "# 引数は饅頭の体積と太陽系の体積を仮定する\n",
    "def bibyne(manju_volume, solarsystem_volume):\n",
    "    count = 0\n",
    "    totalmanju_volume.append(manju_volume) # 饅頭の体積をリストに追加\n",
    "    while solarsystem_volume > totalmanju_volume[-1]: #饅頭の総体積が太陽系の体積を超えるまで繰り返す\n",
    "        count += 1\n",
    "        totalmanju_volume.append((2**count)*manju_volume)\n",
    "        time.append(5*count)\n",
    "    return 5*count\n",
    "\n",
    "\n",
    "def sphere_volume(r): #球の体積の計算\n",
    "    volume = 4/3*pai*r**3\n",
    "    return volume\n",
    "\n",
    "# print(sphere_volume(4800000000))\n",
    "# print(sphere_volume(0.07))\n",
    "\n",
    "\n",
    "# 太陽系の半径を４８億kmとする(体積：4.632466863277365e+29m*3)\n",
    "# 栗饅頭の半径を７cmとする　(体積：0.0014367550402417323m*3)\n",
    "print(bibyne(0.0014367550402417323, 4.632466863277365e+29))\n",
    "\n",
    "plt.title(\"bibyne\")\n",
    "plt.xlabel(\"minutes\")\n",
    "plt.ylabel(\"manju_volume\")\n",
    "plt.tick_params(labelsize=20)\n",
    "plt.plot(time, totalmanju_volume)\n",
    "plt.show()\n",
    "\n",
    "# 回答：540分"
   ]
  },
  {
   "cell_type": "code",
   "execution_count": null,
   "metadata": {},
   "outputs": [],
   "source": []
  }
 ],
 "metadata": {
  "kernelspec": {
   "display_name": "Python 3",
   "language": "python",
   "name": "python3"
  },
  "language_info": {
   "codemirror_mode": {
    "name": "ipython",
    "version": 3
   },
   "file_extension": ".py",
   "mimetype": "text/x-python",
   "name": "python",
   "nbconvert_exporter": "python",
   "pygments_lexer": "ipython3",
   "version": "3.7.2"
  },
  "toc": {
   "base_numbering": 1,
   "nav_menu": {},
   "number_sections": true,
   "sideBar": true,
   "skip_h1_title": false,
   "title_cell": "Table of Contents",
   "title_sidebar": "Contents",
   "toc_cell": false,
   "toc_position": {},
   "toc_section_display": true,
   "toc_window_display": false
  },
  "varInspector": {
   "cols": {
    "lenName": 16,
    "lenType": 16,
    "lenVar": 40
   },
   "kernels_config": {
    "python": {
     "delete_cmd_postfix": "",
     "delete_cmd_prefix": "del ",
     "library": "var_list.py",
     "varRefreshCmd": "print(var_dic_list())"
    },
    "r": {
     "delete_cmd_postfix": ") ",
     "delete_cmd_prefix": "rm(",
     "library": "var_list.r",
     "varRefreshCmd": "cat(var_dic_list()) "
    }
   },
   "types_to_exclude": [
    "module",
    "function",
    "builtin_function_or_method",
    "instance",
    "_Feature"
   ],
   "window_display": false
  }
 },
 "nbformat": 4,
 "nbformat_minor": 2
}
