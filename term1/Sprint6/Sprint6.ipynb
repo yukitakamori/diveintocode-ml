{
 "cells": [
  {
   "cell_type": "markdown",
   "metadata": {},
   "source": [
    "# 決定木学習"
   ]
  },
  {
   "cell_type": "code",
   "execution_count": 1,
   "metadata": {},
   "outputs": [],
   "source": [
    "import numpy as np\n",
    "import pandas as pd\n",
    "import matplotlib.pyplot as plt\n",
    "from matplotlib.colors import ListedColormap\n",
    "import matplotlib.patches as mpatches\n",
    "\n",
    "from sklearn.model_selection import train_test_split\n"
   ]
  },
  {
   "cell_type": "code",
   "execution_count": 2,
   "metadata": {},
   "outputs": [],
   "source": [
    "class ScratchDecesionTreeClassifierDepth1():\n",
    "    \"\"\"\n",
    "    深さ1の決定木分類器のスクラッチ実装\n",
    "\n",
    "    Parameters\n",
    "    ----------\n",
    "    verbose : bool\n",
    "      学習過程を出力する場合はTrue\n",
    "    \"\"\"\n",
    "\n",
    "    def __init__(self, verbose=False):\n",
    "        # ハイパーパラメータを属性として記録\n",
    "        self.verbose = verbose\n",
    "        self.ig_max = 0\n",
    "    \n",
    "    def gini(self,y):\n",
    "        \"\"\"\n",
    "        ジニ不純度を計算する。\n",
    "\n",
    "        \"\"\"\n",
    "        #yをnumpy化する\n",
    "        y = np.array(y)\n",
    "        #yをXのサンプル数に合わせた形にする\n",
    "        ind_num = y.shape[0]\n",
    "        y = np.reshape(y, (ind_num, 1))\n",
    "\n",
    "        #クラスの種類を数える\n",
    "        y_ele = np.unique(y)\n",
    "        y_count = len(y_ele)\n",
    "\n",
    "        #クラスの出現頻度を数える\n",
    "        y_ele_count = {}\n",
    "        for i in y_ele:\n",
    "            y_ele_count[i] = np.count_nonzero(y == i)\n",
    "\n",
    "\n",
    "        gini = 1\n",
    "        #ジニ不純度を求める\n",
    "        for i in y_ele_count.values():\n",
    "            gini  -= (i / ind_num)**2\n",
    "\n",
    "        return gini\n",
    "    \n",
    "    def IG(self, left_array_y, right_array_y):\n",
    "    \n",
    "        return self.gini(y) - (left_array_y.shape[0] / y.shape[0] * self.gini(left_array_y)) - (right_array_y.shape[0] / y.shape[0] * self.gini(right_array_y))\n",
    "    \n",
    "\n",
    "    def fit(self, X, y):\n",
    "        \"\"\"\n",
    "        決定木分類器を学習する\n",
    "        Parameters\n",
    "        ----------\n",
    "        X : 次の形のndarray, shape (n_samples, n_features)\n",
    "            学習用データの特徴量\n",
    "        y : 次の形のndarray, shape (n_samples, )\n",
    "            学習用データの正解値\n",
    "        \"\"\"\n",
    "        #Xをnumpy化\n",
    "        X = np.array(X)\n",
    "        y = np.reshape(y,(y.shape[0],1))\n",
    "\n",
    "        #Xとyを結合\n",
    "        Xy_ndarray = np.concatenate([X,y], axis =1)\n",
    "\n",
    "        ig_ndarray = np.reshape(np.zeros(X.shape[0]*X.shape[1]*(X.shape[1]+3)), (X.shape[0]*X.shape[1],(X.shape[1]+3)))\n",
    "        for i in range(X.shape[1]):\n",
    "            for j in range(X.shape[0]):\n",
    "                left_array = Xy_ndarray[Xy_ndarray[:, i] < X[j,i]]\n",
    "                right_array = Xy_ndarray[Xy_ndarray[:, i] >= X[j, i]]\n",
    "                ig = self.IG(left_array[:,2], right_array[:,2])\n",
    "\n",
    "                # ig_ndarray[IG, 使用した特徴量, axis, 左の葉ノードのクラス, 右の葉ノードのクラス]に記録していく\n",
    "\n",
    "                #IGの記録\n",
    "                ig_ndarray[j+(i*X.shape[0]), 0] = ig\n",
    "\n",
    "                #使用した特徴量の記録\n",
    "                ig_ndarray[j+(i*X.shape[0]), 1] = X[j, i]\n",
    "\n",
    "                #axisの記録\n",
    "                ig_ndarray[j+(i*X.shape[0]), 2] = i        \n",
    "\n",
    "                #クラスを多数決で記録\n",
    "                left_y_0 = np.count_nonzero(left_array[:,2] == 0)\n",
    "                right_y_0 = np.count_nonzero(right_array[:,2] == 0)\n",
    "\n",
    "                #左の葉ノードのクラスの多数決\n",
    "                if left_y_0 > left_array.shape[0] - left_y_0:\n",
    "                    ig_ndarray[j+(i*X.shape[0]), 3] = 0\n",
    "                else:\n",
    "                    ig_ndarray[j+(i*X.shape[0]), 3] = 1\n",
    "\n",
    "                #右の葉ノードのクラスの多数決\n",
    "                if right_y_0 > right_array.shape[0] - right_y_0:\n",
    "                    ig_ndarray[j+(i*X.shape[0]), 4] = 0\n",
    "                else:\n",
    "                    ig_ndarray[j+(i*X.shape[0]), 4] = 1\n",
    "\n",
    "        ig_ndarray = ig_ndarray[np.argsort(ig_ndarray[:, 0])[::-1]]\n",
    "        self.ig_max = ig_ndarray[[0]]\n",
    "        \n",
    "        return self.ig_max\n",
    "\n",
    "\n",
    "        \n",
    "        \"\"\"\n",
    "        if self.verbose:\n",
    "            #verboseをTrueにした際は学習過程を出力\n",
    "            print()\n",
    "        \"\"\"\n",
    "\n",
    "    def predict(self,X_test):\n",
    "        X_test = np.array(X_test)\n",
    "        y_pred = np.array([])\n",
    "        \n",
    "        self.X_ig = X_test[:, int(self.ig_max[0,2])] - self.ig_max[0,1]\n",
    "            \n",
    "        for i in self.X_ig:\n",
    "            if i < 0:\n",
    "                y_pred = np.append(y_pred,0)\n",
    "            \n",
    "            else:\n",
    "                y_pred = np.append(y_pred,1)\n",
    "        \n",
    "        \"\"\"\n",
    "        left_array = X_test[X_test[:, int(self.ig_max[0,2])] < self.ig_max[0,1]]\n",
    "        right_array = X_test[X_test[:,int(self.ig_max[0,2])] >= self.ig_max[0,1]]\n",
    "        \n",
    "        left_y = np.zeros((left_array.shape[0],))\n",
    "        right_y = np.ones((right_array.shape[0],))\n",
    "        \n",
    "\n",
    "        \n",
    "        \n",
    "        left_y = np.zeros((left_array.shape[0], 1))\n",
    "        right_y = np.ones((right_array.shape[0], 1))\n",
    "\n",
    "        \n",
    "        left_array_xy = np.concatenate([left_array,left_y],axis = 1)\n",
    "        right_array_xy = np.concatenate([right_array,right_y],axis = 1)\n",
    "\n",
    "        left_right = np.concatenate([left_array_xy,right_array_xy],axis = 0)\n",
    "        \n",
    "        \n",
    "        return left_right\n",
    "        \"\"\"\n",
    "        \n",
    "        return y_pred"
   ]
  },
  {
   "cell_type": "code",
   "execution_count": 3,
   "metadata": {},
   "outputs": [],
   "source": [
    "X = np.array([[-0.44699 , -2.8073  ],[-1.4621  , -2.4586  ],\n",
    "       [ 0.10645 ,  1.9242  ],[-3.5944  , -4.0112  ],\n",
    "       [-0.9888  ,  4.5718  ],[-3.1625  , -3.9606  ],\n",
    "       [ 0.56421 ,  0.72888 ],[-0.60216 ,  8.4636  ],\n",
    "       [-0.61251 , -0.75345 ],[-0.73535 , -2.2718  ],\n",
    "       [-0.80647 , -2.2135  ],[ 0.86291 ,  2.3946  ],\n",
    "       [-3.1108  ,  0.15394 ],[-2.9362  ,  2.5462  ],\n",
    "       [-0.57242 , -2.9915  ],[ 1.4771  ,  3.4896  ],\n",
    "       [ 0.58619 ,  0.37158 ],[ 0.6017  ,  4.3439  ],\n",
    "       [-2.1086  ,  8.3428  ],[-4.1013  , -4.353   ],\n",
    "       [-1.9948  , -1.3927  ],[ 0.35084 , -0.031994],\n",
    "       [ 0.96765 ,  7.8929  ],[-1.281   , 15.6824  ],\n",
    "       [ 0.96765 , 10.083   ],[ 1.3763  ,  1.3347  ],\n",
    "       [-2.234   , -2.5323  ],[-2.9452  , -1.8219  ],\n",
    "       [ 0.14654 , -0.28733 ],[ 0.5461  ,  5.8245  ],\n",
    "       [-0.65259 ,  9.3444  ],[ 0.59912 ,  5.3524  ],\n",
    "       [ 0.50214 , -0.31818 ],[-3.0603  , -3.6461  ],\n",
    "       [-6.6797  ,  0.67661 ],[-2.353   , -0.72261 ],\n",
    "       [ 1.1319  ,  2.4023  ],[-0.12243 ,  9.0162  ],\n",
    "       [-2.5677  , 13.1779  ],[ 0.057313,  5.4681  ]])\n",
    "y = np.array([0, 0, 0, 0, 0, 0, 0, 0, 0, 0, 0, 0, 0, 0, 0, 0, 0, 0, 0, 0, 1, 1,\n",
    "       1, 1, 1, 1, 1, 1, 1, 1, 1, 1, 1, 1, 1, 1, 1, 1, 1, 1])"
   ]
  },
  {
   "cell_type": "code",
   "execution_count": 4,
   "metadata": {},
   "outputs": [
    {
     "data": {
      "text/plain": [
       "array([[0, 1],\n",
       "       [2, 3]])"
      ]
     },
     "execution_count": 4,
     "metadata": {},
     "output_type": "execute_result"
    }
   ],
   "source": [
    "a =np.array([[0,1],\n",
    "    [2,3]])\n",
    "\n",
    "\n",
    "a_shape = a.shape[1]*2\n",
    "\n",
    "b = np.reshape(a, (1,a_shape))\n",
    "\n",
    "c = np.reshape(b, (a.shape[0], a.shape[1]))\n",
    "\n",
    "c"
   ]
  },
  {
   "cell_type": "markdown",
   "metadata": {},
   "source": [
    "## 分割の条件を学習で求める"
   ]
  },
  {
   "cell_type": "markdown",
   "metadata": {},
   "source": [
    "## 【問題1】不純度を求める関数\n"
   ]
  },
  {
   "cell_type": "code",
   "execution_count": 5,
   "metadata": {},
   "outputs": [],
   "source": [
    "def gini(y):\n",
    "    \"\"\"\n",
    "    ジニ不純度を計算する。\n",
    "\n",
    "    \"\"\"\n",
    "    #yをnumpy化する\n",
    "    y = np.array(y)\n",
    "    #yをXのサンプル数に合わせた形にする\n",
    "    ind_num = y.shape[0]\n",
    "    y = np.reshape(y, (ind_num, 1))\n",
    "\n",
    "    #クラスの種類を数える\n",
    "    y_ele = np.unique(y)\n",
    "    y_count = len(y_ele)\n",
    "\n",
    "    #クラスの出現頻度を数える\n",
    "    y_ele_count = {}\n",
    "    for i in y_ele:\n",
    "        y_ele_count[i] = np.count_nonzero(y == i)\n",
    "        \n",
    "\n",
    "    gini = 1\n",
    "    #ジニ不純度を求める\n",
    "    for i in y_ele_count.values():\n",
    "        gini  -= (i / ind_num)**2\n",
    "\n",
    "    return gini"
   ]
  },
  {
   "cell_type": "markdown",
   "metadata": {},
   "source": [
    "## 【問題2】情報利得を求める関数\n"
   ]
  },
  {
   "cell_type": "code",
   "execution_count": 6,
   "metadata": {},
   "outputs": [],
   "source": [
    "def IG(left_array_y, right_array_y):\n",
    "    \n",
    "    return gini(y) - (left_array_y.shape[0] / y.shape[0] * gini(left_array_y)) - (right_array_y.shape[0] / y.shape[0] * gini(right_array_y))"
   ]
  },
  {
   "cell_type": "markdown",
   "metadata": {},
   "source": [
    "## 【問題3】学習"
   ]
  },
  {
   "cell_type": "code",
   "execution_count": 7,
   "metadata": {
    "scrolled": false
   },
   "outputs": [],
   "source": [
    "def fit(X,y):\n",
    "\n",
    "    #Xをnumpy化\n",
    "    X = np.array(X)\n",
    "\n",
    "    #Xとyを結合\n",
    "    Xy_ndarray = np.concatenate([X,y], axis =1)\n",
    "\n",
    "    ig_ndarray = np.reshape(np.zeros(X.shape[0]*X.shape[1]*(X.shape[1]+3)), (X.shape[0]*X.shape[1],(X.shape[1]+3)))\n",
    "    for i in range(X.shape[1]):\n",
    "        for j in range(X.shape[0]):\n",
    "            left_array = Xy_ndarray[Xy_ndarray[:, i] < X[j,i]]\n",
    "            right_array = Xy_ndarray[Xy_ndarray[:, i] >= X[j, i]]\n",
    "            ig = IG(left_array[:,2], right_array[:,2])\n",
    "\n",
    "            # ig_ndarray[IG, 使用した特徴量, axis, 左の葉ノードのクラス, 右の葉ノードのクラス]に記録していく\n",
    "\n",
    "            #IGの記録\n",
    "            ig_ndarray[j+(i*X.shape[0]), 0] = ig\n",
    "\n",
    "            #使用した特徴量の記録\n",
    "            ig_ndarray[j+(i*X.shape[0]), 1] = X[j, i]\n",
    "\n",
    "            #axisの記録\n",
    "            ig_ndarray[j+(i*X.shape[0]), 2] = i        \n",
    "\n",
    "            #クラスを多数決で記録\n",
    "            left_y_0 = np.count_nonzero(left_array[:,2] == 0)\n",
    "            right_y_0 = np.count_nonzero(right_array[:,2] == 0)\n",
    "\n",
    "            #左の葉ノードのクラスの多数決\n",
    "            if left_y_0 > left_array.shape[0] - left_y_0:\n",
    "                ig_ndarray[j+(i*X.shape[0]), 3] = 0\n",
    "            else:\n",
    "                ig_ndarray[j+(i*X.shape[0]), 3] = 1\n",
    "\n",
    "            #右の葉ノードのクラスの多数決\n",
    "            if right_y_0 > right_array.shape[0] - right_y_0:\n",
    "                ig_ndarray[j+(i*X.shape[0]), 4] = 0\n",
    "            else:\n",
    "                ig_ndarray[j+(i*X.shape[0]), 4] = 1\n",
    "\n",
    "    ig_ndarray = ig_ndarray[np.argsort(ig_ndarray[:, 0])[::-1]]\n",
    "    ig_max = ig_ndarray[[0]]\n",
    "    return ig_max"
   ]
  },
  {
   "cell_type": "markdown",
   "metadata": {},
   "source": [
    "## 【問題4】推定\n"
   ]
  },
  {
   "cell_type": "code",
   "execution_count": 8,
   "metadata": {},
   "outputs": [],
   "source": [
    "def predict(X_test):\n",
    "        X_test = np.array(X_test)\n",
    "        \n",
    "        \n",
    "        \n",
    "        \"\"\"\n",
    "        left_array = X_test[X_test[:, int(ig_max[0,2])] < ig_max[0,1]]\n",
    "        right_array = X_test[X_test[:,int(ig_max[0,2])] >= ig_max[0,1]]\n",
    "\n",
    "        left_y = np.zeros((left_array.shape[0], 1))\n",
    "        right_y = np.ones((right_array.shape[0], 1))\n",
    "\n",
    "        left_array_xy = np.concatenate([left_array,left_y],axis = 1)\n",
    "        right_array_xy = np.concatenate([right_array,right_y],axis = 1)\n",
    "\n",
    "        left_right = np.concatenate([left_array_xy,right_array_xy],axis =0)\n",
    "        \"\"\"\n",
    "        return left_right\n"
   ]
  },
  {
   "cell_type": "markdown",
   "metadata": {},
   "source": [
    "# 検証\n"
   ]
  },
  {
   "cell_type": "markdown",
   "metadata": {},
   "source": [
    "## 【問題5】学習と推定\n"
   ]
  },
  {
   "cell_type": "code",
   "execution_count": 9,
   "metadata": {},
   "outputs": [
    {
     "name": "stderr",
     "output_type": "stream",
     "text": [
      "/Users/takamoriyuki/.pyenv/versions/anaconda3-5.3.1/lib/python3.7/site-packages/sklearn/model_selection/_split.py:2026: FutureWarning: From version 0.21, test_size will always complement train_size unless both are specified.\n",
      "  FutureWarning)\n"
     ]
    }
   ],
   "source": [
    "X_train, X_test, y_train, y_test = train_test_split(X, y,train_size=0.3, random_state=0)"
   ]
  },
  {
   "cell_type": "code",
   "execution_count": 10,
   "metadata": {},
   "outputs": [],
   "source": [
    "dt = ScratchDecesionTreeClassifierDepth1()\n",
    "dt.fit(X_train, y_train)\n",
    "y_pred = dt.predict(X_test)"
   ]
  },
  {
   "cell_type": "code",
   "execution_count": 11,
   "metadata": {},
   "outputs": [
    {
     "data": {
      "text/plain": [
       "array([1, 1, 1, 0, 0, 0, 1, 0, 0, 1, 1, 1, 1, 0, 1, 1, 1, 0, 1, 0, 0, 0,\n",
       "       0, 0, 1, 0, 1, 0])"
      ]
     },
     "execution_count": 11,
     "metadata": {},
     "output_type": "execute_result"
    }
   ],
   "source": [
    "y_test"
   ]
  },
  {
   "cell_type": "code",
   "execution_count": 12,
   "metadata": {},
   "outputs": [
    {
     "data": {
      "text/plain": [
       "(28,)"
      ]
     },
     "execution_count": 12,
     "metadata": {},
     "output_type": "execute_result"
    }
   ],
   "source": [
    "y_test.shape"
   ]
  },
  {
   "cell_type": "code",
   "execution_count": 13,
   "metadata": {},
   "outputs": [
    {
     "data": {
      "text/plain": [
       "array([1., 0., 0., 0., 0., 0., 0., 0., 1., 1., 0., 0., 1., 0., 1., 1., 0.,\n",
       "       0., 0., 0., 0., 0., 0., 0., 0., 1., 0., 0.])"
      ]
     },
     "execution_count": 13,
     "metadata": {},
     "output_type": "execute_result"
    }
   ],
   "source": [
    "y_pred"
   ]
  },
  {
   "cell_type": "code",
   "execution_count": 14,
   "metadata": {},
   "outputs": [
    {
     "data": {
      "text/plain": [
       "(28,)"
      ]
     },
     "execution_count": 14,
     "metadata": {},
     "output_type": "execute_result"
    }
   ],
   "source": [
    "y_pred.shape"
   ]
  },
  {
   "cell_type": "markdown",
   "metadata": {},
   "source": [
    "## 【問題6】決定領域の可視化"
   ]
  },
  {
   "cell_type": "code",
   "execution_count": 15,
   "metadata": {},
   "outputs": [],
   "source": [
    "\n",
    "def decision_region(X, y, model, step=0.01, title='decision region', xlabel='xlabel', ylabel='ylabel', target_names=['versicolor', 'virginica']):\n",
    "    \"\"\"\n",
    "    2値分類を2次元の特徴量で学習したモデルの決定領域を描く。\n",
    "    背景の色が学習したモデルによる推定値から描画される。\n",
    "    散布図の点は訓練データまたは検証データである。\n",
    "\n",
    "    Parameters\n",
    "    ----------------\n",
    "    X : ndarray, shape(n_samples, 2)\n",
    "        特徴量\n",
    "    y : ndarray, shape(n_samples,)\n",
    "        ラベル\n",
    "    model : object\n",
    "        学習したモデルのインスンタスを入れる\n",
    "    step : float, (default : 0.1)\n",
    "        推定値を計算する間隔を設定する\n",
    "    title : str\n",
    "        グラフのタイトルの文章を与える\n",
    "    xlabel, ylabel : str\n",
    "        軸ラベルの文章を与える\n",
    "    target_names= : list of str\n",
    "        凡例の一覧を与える\n",
    "    \"\"\"\n",
    "    # setting\n",
    "    scatter_color = ['red', 'blue']\n",
    "    contourf_color = ['pink', 'skyblue']\n",
    "    n_class = 2\n",
    "\n",
    "    # pred\n",
    "    mesh_f0, mesh_f1  = np.meshgrid(np.arange(np.min(X[:,0])-0.5, np.max(X[:,0])+0.5, step), np.arange(np.min(X[:,1])-0.5, np.max(X[:,1])+0.5, step))\n",
    "    mesh = np.c_[np.ravel(mesh_f0),np.ravel(mesh_f1)]\n",
    "    y_pred = model.predict(mesh).reshape(mesh_f0.shape)\n",
    "\n",
    "    # plot\n",
    "    plt.title(title)\n",
    "    plt.xlabel(xlabel)\n",
    "    plt.ylabel(ylabel)\n",
    "    plt.contourf(mesh_f0, mesh_f1, y_pred, n_class-1, cmap=ListedColormap(contourf_color))\n",
    "    plt.contour(mesh_f0, mesh_f1, y_pred, n_class-1, colors='y', linewidths=3, alpha=0.5)\n",
    "    for i, target in enumerate(set(y)):\n",
    "        plt.scatter(X[y==target][:, 0], X[y==target][:, 1], s=80, color=scatter_color[i], label=target_names[i], marker='o')\n",
    "    patches = [mpatches.Patch(color=scatter_color[i], label=target_names[i]) for i in range(n_class)]\n",
    "    plt.legend(handles=patches)\n",
    "    plt.legend()\n",
    "    plt.show()"
   ]
  },
  {
   "cell_type": "code",
   "execution_count": 16,
   "metadata": {},
   "outputs": [
    {
     "data": {
      "image/png": "[encoded data removed]",
      "text/plain": [
       "<Figure size 432x288 with 1 Axes>"
      ]
     },
     "metadata": {
      "needs_background": "light"
     },
     "output_type": "display_data"
    }
   ],
   "source": [
    "decision_region(X_train, y_train,dt)"
   ]
  },
  {
   "cell_type": "code",
   "execution_count": null,
   "metadata": {},
   "outputs": [],
   "source": []
  },
  {
   "cell_type": "code",
   "execution_count": null,
   "metadata": {},
   "outputs": [],
   "source": []
  },
  {
   "cell_type": "code",
   "execution_count": null,
   "metadata": {},
   "outputs": [],
   "source": []
  }
 ],
 "metadata": {
  "kernelspec": {
   "display_name": "Python 3",
   "language": "python",
   "name": "python3"
  },
  "language_info": {
   "codemirror_mode": {
    "name": "ipython",
    "version": 3
   },
   "file_extension": ".py",
   "mimetype": "text/x-python",
   "name": "python",
   "nbconvert_exporter": "python",
   "pygments_lexer": "ipython3",
   "version": "3.7.0"
  },
  "toc": {
   "base_numbering": 1,
   "nav_menu": {},
   "number_sections": true,
   "sideBar": true,
   "skip_h1_title": false,
   "title_cell": "Table of Contents",
   "title_sidebar": "Contents",
   "toc_cell": false,
   "toc_position": {},
   "toc_section_display": true,
   "toc_window_display": false
  },
  "varInspector": {
   "cols": {
    "lenName": 16,
    "lenType": 16,
    "lenVar": 40
   },
   "kernels_config": {
    "python": {
     "delete_cmd_postfix": "",
     "delete_cmd_prefix": "del ",
     "library": "var_list.py",
     "varRefreshCmd": "print(var_dic_list())"
    },
    "r": {
     "delete_cmd_postfix": ") ",
     "delete_cmd_prefix": "rm(",
     "library": "var_list.r",
     "varRefreshCmd": "cat(var_dic_list()) "
    }
   },
   "types_to_exclude": [
    "module",
    "function",
    "builtin_function_or_method",
    "instance",
    "_Feature"
   ],
   "window_display": false
  }
 },
 "nbformat": 4,
 "nbformat_minor": 2
}
