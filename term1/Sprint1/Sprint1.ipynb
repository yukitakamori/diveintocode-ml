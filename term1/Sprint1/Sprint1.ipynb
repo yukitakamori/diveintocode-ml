{
 "cells": [
  {
   "cell_type": "markdown",
   "metadata": {},
   "source": [
    "# 機械学習フロー"
   ]
  },
  {
   "cell_type": "markdown",
   "metadata": {},
   "source": [
    "## 事前準備"
   ]
  },
  {
   "cell_type": "code",
   "execution_count": 1,
   "metadata": {
    "scrolled": true
   },
   "outputs": [
    {
     "name": "stderr",
     "output_type": "stream",
     "text": [
      "/Users/takamoriyuki/.pyenv/versions/anaconda3-5.3.1/lib/python3.7/site-packages/sklearn/ensemble/weight_boosting.py:29: DeprecationWarning: numpy.core.umath_tests is an internal NumPy module and should not be imported. It will be removed in a future NumPy release.\n",
      "  from numpy.core.umath_tests import inner1d\n"
     ]
    }
   ],
   "source": [
    "from sklearn.model_selection import train_test_split\n",
    "from sklearn.metrics import (roc_curve, auc, accuracy_score)\n",
    "from sklearn.ensemble import RandomForestClassifier"
   ]
  },
  {
   "cell_type": "markdown",
   "metadata": {},
   "source": [
    "### テストデータの加工"
   ]
  },
  {
   "cell_type": "code",
   "execution_count": 19,
   "metadata": {},
   "outputs": [],
   "source": [
    "testdf = pd.read_csv(\"application_test3.csv\")\n",
    "\n",
    "# 数値データを取り出す\n",
    "testdf_number = testdf.select_dtypes(include='number')\n",
    "#文字データの列を取り出す\n",
    "testdf_str = testdf.select_dtypes(include=object)\n",
    "\n",
    "#全ての文字データの数値化\n",
    "temp = pd.Series(testdf_str.columns.values)\n",
    "testdf_str_count = {}\n",
    "testdf_str_label_number = {}\n",
    "for i in temp:\n",
    "    vc = testdf_str[i].value_counts()\n",
    "    #print(vc)\n",
    "    testdf_str_count[i] = vc\n",
    "#print(df_str_count)\n",
    "\n",
    "#辞書内のリストのキーを辞書化し、０、１とナンバリング\n",
    "for j in testdf_str_count.keys():\n",
    "    testdf_str_count[j]\n",
    "    count = 0\n",
    "    for key in testdf_str_count[j].keys():\n",
    "        if key not in testdf_str_label_number:\n",
    "            testdf_str_label_number[key] = count\n",
    "            count += 1\n",
    "\n",
    "#値を置き換え\n",
    "testdf_str_number = testdf_str.replace(testdf_str_label_number)\n",
    "#文字データの項目のナンバリングに成功\n",
    "\n",
    "testdf_number_strnumber = pd.concat([testdf_str_number,testdf_number], axis=1)\n",
    "\n",
    "# 欠損データは列毎の最頻値で埋める\n",
    "testdf_delete_nan = testdf_number_strnumber.fillna(testdf_number_strnumber.mode().iloc[0])\n"
   ]
  },
  {
   "cell_type": "code",
   "execution_count": 26,
   "metadata": {},
   "outputs": [],
   "source": [
    "testdata = testdf_delete_nan.drop([\"SK_ID_CURR\"],axis=1)"
   ]
  },
  {
   "cell_type": "code",
   "execution_count": 27,
   "metadata": {},
   "outputs": [
    {
     "data": {
      "text/plain": [
       "(48744, 120)"
      ]
     },
     "execution_count": 27,
     "metadata": {},
     "output_type": "execute_result"
    }
   ],
   "source": [
    "testdata.shape"
   ]
  },
  {
   "cell_type": "code",
   "execution_count": 2,
   "metadata": {
    "collapsed": true
   },
   "outputs": [
    {
     "name": "stdout",
     "output_type": "stream",
     "text": [
      "0    282686\n",
      "1     24825\n",
      "Name: TARGET, dtype: int64\n"
     ]
    },
    {
     "data": {
      "image/png": "[encoded data removed]",
      "text/plain": [
       "<Figure size 432x288 with 1 Axes>"
      ]
     },
     "metadata": {},
     "output_type": "display_data"
    },
    {
     "name": "stdout",
     "output_type": "stream",
     "text": [
      "{'Cash loans': 0, 'Revolving loans': 1, 'F': 0, 'M': 1, 'XNA': 2, 'N': 0, 'Y': 1, 'Unaccompanied': 0, 'Family': 1, 'Spouse, partner': 2, 'Children': 3, 'Other_B': 4, 'Other_A': 5, 'Group of people': 6, 'Working': 0, 'Commercial associate': 1, 'Pensioner': 2, 'State servant': 3, 'Unemployed': 4, 'Student': 5, 'Businessman': 6, 'Maternity leave': 7, 'Secondary / secondary special': 0, 'Higher education': 1, 'Incomplete higher': 2, 'Lower secondary': 3, 'Academic degree': 4, 'Married': 0, 'Single / not married': 1, 'Civil marriage': 2, 'Separated': 3, 'Widow': 4, 'Unknown': 5, 'House / apartment': 0, 'With parents': 1, 'Municipal apartment': 2, 'Rented apartment': 3, 'Office apartment': 4, 'Co-op apartment': 5, 'Laborers': 0, 'Sales staff': 1, 'Core staff': 2, 'Managers': 3, 'Drivers': 4, 'High skill tech staff': 5, 'Accountants': 6, 'Medicine staff': 7, 'Security staff': 8, 'Cooking staff': 9, 'Cleaning staff': 10, 'Private service staff': 11, 'Low-skill Laborers': 12, 'Waiters/barmen staff': 13, 'Secretaries': 14, 'Realty agents': 15, 'HR staff': 16, 'IT staff': 17, 'TUESDAY': 0, 'WEDNESDAY': 1, 'MONDAY': 2, 'THURSDAY': 3, 'FRIDAY': 4, 'SATURDAY': 5, 'SUNDAY': 6, 'Business Entity Type 3': 0, 'Self-employed': 1, 'Other': 2, 'Medicine': 3, 'Business Entity Type 2': 4, 'Government': 5, 'School': 6, 'Trade: type 7': 7, 'Kindergarten': 8, 'Construction': 9, 'Business Entity Type 1': 10, 'Transport: type 4': 11, 'Trade: type 3': 12, 'Industry: type 9': 13, 'Industry: type 3': 14, 'Security': 15, 'Housing': 16, 'Industry: type 11': 17, 'Military': 18, 'Bank': 19, 'Agriculture': 20, 'Police': 21, 'Transport: type 2': 22, 'Postal': 23, 'Security Ministries': 24, 'Trade: type 2': 25, 'Restaurant': 26, 'Services': 27, 'University': 28, 'Industry: type 7': 29, 'Transport: type 3': 30, 'Industry: type 1': 31, 'Hotel': 32, 'Electricity': 33, 'Industry: type 4': 34, 'Trade: type 6': 35, 'Industry: type 5': 36, 'Insurance': 37, 'Telecom': 38, 'Emergency': 39, 'Industry: type 2': 40, 'Advertising': 41, 'Realtor': 42, 'Culture': 43, 'Industry: type 12': 44, 'Trade: type 1': 45, 'Mobile': 46, 'Legal Services': 47, 'Cleaning': 48, 'Transport: type 1': 49, 'Industry: type 6': 50, 'Industry: type 10': 51, 'Religion': 52, 'Industry: type 13': 53, 'Trade: type 4': 54, 'Trade: type 5': 55, 'Industry: type 8': 56, 'reg oper account': 0, 'reg oper spec account': 1, 'not specified': 2, 'org spec account': 3, 'block of flats': 0, 'specific housing': 1, 'terraced house': 2, 'Panel': 0, 'Stone, brick': 1, 'Block': 2, 'Wooden': 3, 'Mixed': 4, 'Monolithic': 5, 'Others': 6, 'No': 0, 'Yes': 1}\n"
     ]
    }
   ],
   "source": [
    "import pandas as pd\n",
    "import numpy as np\n",
    "%matplotlib inline\n",
    "import matplotlib.pyplot as plt\n",
    "import seaborn as sns\n",
    "import scipy.stats as stats\n",
    "\n",
    "df = pd.read_csv(\"application_train3.csv\")\n",
    "\n",
    "df.shape\n",
    "\n",
    "column_null = df.isnull().sum()\n",
    "\n",
    "#クラス毎のデータ数\n",
    "target_count = df[\"TARGET\"].value_counts()\n",
    "print(target_count)\n",
    "\n",
    "\n",
    "plt.pie(target_count, startangle=90, autopct=\"%1.1f%%\")\n",
    "plt.axis('equal')\n",
    "plt.show()\n",
    "\n",
    "# デフォルトした人のデータを取り出してみる\n",
    "target1 = df[df.TARGET == 1]\n",
    "target0 = df[df.TARGET == 0]\n",
    "\n",
    "# 欠損率をみる\n",
    "target1_missing_ratio = target1.isnull().sum() / 24825 * 100\n",
    "target0_missing_ratio = target0.isnull().sum() / 282686 * 100\n",
    "\n",
    "# 欠損率の　デフォルト　ー　返済した人\n",
    "\n",
    "missing_ratio_gap = target1_missing_ratio - target0_missing_ratio\n",
    "\n",
    "# 欠損率の差が０でない値を取り出す\n",
    "#(~~~MODE,MEDI,AVGは扱いがわからないが欠損していることに意味があるかも)\n",
    "\n",
    "missing_ratio_gap_not0 = missing_ratio_gap[missing_ratio_gap != 0].sort_values(ascending=False)\n",
    "missing_ratio_gap_not0[30:70]\n",
    "\n",
    "# AMT_REQ_CREDIT_BUREAU_YEAR, OWN_CAR_AGE, \n",
    "# OCCUPATION_TYPE, OBS_30_CNT_SOCIAL_CIRCLE, DEF_30_CNT_SOCIAL_CIRCLE, OBS_60_CNT_SOCIAL_CIRCLE, DEF_60_CNT_SOCIAL_CIRCLE\n",
    "#あたりが気になる\n",
    "\n",
    "#文字データの列を取り出す\n",
    "df_str = df.select_dtypes(include=object)\n",
    "\n",
    "# 数字データの列を取り出す\n",
    "df_number = df.select_dtypes(include='number')\n",
    "\n",
    "# 数値データから〜〜〜MODE,MEDI,AVGを消す\n",
    "temp = pd.Series(df_number.columns.values)\n",
    "\n",
    "mode = temp[temp.str.contains('MODE')]\n",
    "medi = temp[temp.str.contains('MEDI')]\n",
    "avg = temp[temp.str.contains('AVG')]\n",
    "\n",
    "delete_clumns = pd.concat([mode, medi, avg])\n",
    "\n",
    "df_number_delete_MODE = df_number.drop(delete_clumns, axis=1)\n",
    "\n",
    "#データまとめ\n",
    "\n",
    "# 人数\n",
    "number_people0 = 282686\n",
    "number_people1 = 24825\n",
    "\n",
    "#全体\n",
    "df\n",
    "\n",
    "#デフォルトしたか、しないか\n",
    "target1 = df[df.TARGET == 1]\n",
    "target0 = df[df.TARGET == 0]\n",
    "\n",
    "#数値データの列\n",
    "df_number = df.select_dtypes(include='number')\n",
    "#数値データの中から~~~MODE,MEDI,AVGを除外したもの\n",
    "df_number_delete_MODE\n",
    "\n",
    "#文字データの列\n",
    "df_str = df.select_dtypes(include=object)\n",
    "\n",
    "#数値データの中でデフォルトしたか\n",
    "target1_number = df_number[df_number.TARGET == 1]\n",
    "target0_number = df_number[df_number.TARGET == 0]\n",
    "\n",
    "#文字データの中でデフォルトしたか\n",
    "target1_str = target1.select_dtypes(include=object)\n",
    "target0_str = target0.select_dtypes(include=object)\n",
    "\n",
    "# 数値データの相関係数\n",
    "df_number_corr = df_number.corr()\n",
    "corr_about_target = df_number_corr.TARGET.sort_values(ascending=False)\n",
    "\n",
    "#全ての文字データの数値化に挑戦してみる\n",
    "\n",
    "temp = pd.Series(df_str.columns.values)\n",
    "df_str_count = {}\n",
    "df_str_label_number = {}\n",
    "for i in temp:\n",
    "    vc = df_str[i].value_counts()\n",
    "    #print(vc)\n",
    "    df_str_count[i] = vc\n",
    "#print(df_str_count)\n",
    "\n",
    "#辞書内のリストのキーを辞書化し、０、１とナンバリング\n",
    "for j in df_str_count.keys():\n",
    "    df_str_count[j]\n",
    "    count = 0\n",
    "    for key in df_str_count[j].keys():\n",
    "        if key not in df_str_label_number:\n",
    "            df_str_label_number[key] = count\n",
    "            count += 1\n",
    "\n",
    "#値を置き換え\n",
    "df_str_number = df_str.replace(df_str_label_number)\n",
    "\n",
    "print(df_str_label_number)\n",
    "#文字データの項目のナンバリングに成功\n",
    "#ただ、この方法では、no,yesなどの、かぶった項目をユニークなものとしていない\n",
    "#また、出現した順に数字を振るので、順序がある項目に順序をつけられない方法である\n",
    "\n",
    "#TARGETと結合\n",
    "df_str_numbers = pd.concat([df_str_number,df[\"TARGET\"]], axis=1)\n",
    "\n",
    "### 欠損率が高いのはデフォルトした人ではないか\n",
    "### 欠損値からは\n",
    "#AMT_REQ_CREDIT_BUREAU_YEAR, OWN_CAR_AGE, OCCUPATION_TYPE, OBS_30_CNT_SOCIAL_CIRCLE, DEF_30_CNT_SOCIAL_CIRCLE, OBS_60_CNT_SOCIAL_CIRCLE, DEF_60_CNT_SOCIAL_CIRCLE\n",
    "### 相関係数が高いものは、\n",
    "#DAYS_BIRTH, REGION_RATING_CLIENT_W_CITY, REGION_RATING_CLIENT, DAYS_LAST_PHONE_CHANGE, DAYS_ID_PUBLISH , REG_CITY_NOT_WORK_CITY\n",
    "### 相関係数が低いものは、\n",
    "#DAYS_EMPLOYED, AMT_GOODS_PRICE, REGION_POPULATION_RELATIVE, AMT_CREDIT, HOUR_APPR_PROCESS_START"
   ]
  },
  {
   "cell_type": "code",
   "execution_count": 3,
   "metadata": {},
   "outputs": [],
   "source": [
    "df_number_strnumber = pd.concat([df_str_number,df_number], axis=1)\n",
    "df_columns = df_number_strnumber.columns\n",
    "\n",
    "# 欠損データは列毎の最頻値で埋める\n",
    "df_delete_nan = df_number_strnumber.fillna(df_number_strnumber.mode().iloc[0])\n",
    "\n"
   ]
  },
  {
   "cell_type": "code",
   "execution_count": 4,
   "metadata": {},
   "outputs": [],
   "source": [
    "df_delete_nan_X = df_delete_nan.drop([\"SK_ID_CURR\",\"TARGET\"],axis=1)\n",
    "\n",
    "X, y  = np.array(df_delete_nan_X), np.array(df_delete_nan[\"TARGET\"])"
   ]
  },
  {
   "cell_type": "code",
   "execution_count": 5,
   "metadata": {},
   "outputs": [],
   "source": [
    "X_train, X_test, y_train, y_test = train_test_split(X, y, test_size=0.25, random_state=0)"
   ]
  },
  {
   "cell_type": "code",
   "execution_count": 6,
   "metadata": {},
   "outputs": [
    {
     "data": {
      "text/plain": [
       "0.9198210151148573"
      ]
     },
     "execution_count": 6,
     "metadata": {},
     "output_type": "execute_result"
    }
   ],
   "source": [
    "#ランダムフォレスト\n",
    "clf = RandomForestClassifier(random_state=0)\n",
    "clf = clf.fit(X_train, y_train)\n",
    "pred = clf.predict(X_test)\n",
    "fpr, tpr, thresholds = roc_curve(y_test, pred, pos_label=1)\n",
    "auc(fpr, tpr)\n",
    "accuracy_score(pred, y_test)"
   ]
  },
  {
   "cell_type": "code",
   "execution_count": 7,
   "metadata": {},
   "outputs": [
    {
     "data": {
      "text/plain": [
       "0.5055613841369181"
      ]
     },
     "execution_count": 7,
     "metadata": {},
     "output_type": "execute_result"
    }
   ],
   "source": [
    "auc(fpr, tpr)"
   ]
  },
  {
   "cell_type": "markdown",
   "metadata": {},
   "source": [
    "## 【問題1】クロスバリデーション"
   ]
  },
  {
   "cell_type": "code",
   "execution_count": 8,
   "metadata": {},
   "outputs": [],
   "source": [
    "from sklearn.metrics import (roc_curve, auc, accuracy_score)\n",
    "from sklearn.ensemble import RandomForestClassifier\n",
    "from sklearn.model_selection import cross_val_score\n",
    "from sklearn.model_selection import StratifiedKFold\n",
    "\n",
    "kfold = StratifiedKFold(n_splits=3)\n",
    "rfc = RandomForestClassifier(random_state=0)\n",
    "score_list = cross_val_score(rfc, X_train, y_train, cv=kfold, scoring = \"roc_auc\")"
   ]
  },
  {
   "cell_type": "code",
   "execution_count": 9,
   "metadata": {},
   "outputs": [
    {
     "data": {
      "text/plain": [
       "0.6244012726898256"
      ]
     },
     "execution_count": 9,
     "metadata": {},
     "output_type": "execute_result"
    }
   ],
   "source": [
    "score_list.mean()"
   ]
  },
  {
   "cell_type": "markdown",
   "metadata": {},
   "source": [
    "## 【問題2】グリッドサーチ\n"
   ]
  },
  {
   "cell_type": "code",
   "execution_count": 12,
   "metadata": {},
   "outputs": [],
   "source": [
    " from sklearn.grid_search import GridSearchCV\n",
    "\n",
    " # use a full grid over all parameters\n",
    " param_grid = {\"n_estimators\":[10,20,30],\n",
    "                           \"criterion\": [\"gini\", \"entropy\"]}\n",
    "\n",
    "forest_grid = GridSearchCV(estimator=RandomForestClassifier(random_state=0),\n",
    "                 param_grid = param_grid,   \n",
    "                 scoring=\"roc_auc\",  #metrics\n",
    "                 cv = 5,              #cross-validation\n",
    "                    )  "
   ]
  },
  {
   "cell_type": "code",
   "execution_count": 13,
   "metadata": {
    "scrolled": true
   },
   "outputs": [
    {
     "data": {
      "text/plain": [
       "GridSearchCV(cv=5, error_score='raise',\n",
       "       estimator=RandomForestClassifier(bootstrap=True, class_weight=None, criterion='gini',\n",
       "            max_depth=None, max_features='auto', max_leaf_nodes=None,\n",
       "            min_impurity_decrease=0.0, min_impurity_split=None,\n",
       "            min_samples_leaf=1, min_samples_split=2,\n",
       "            min_weight_fraction_leaf=0.0, n_estimators=10, n_jobs=1,\n",
       "            oob_score=False, random_state=0, verbose=0, warm_start=False),\n",
       "       fit_params={}, iid=True, n_jobs=1,\n",
       "       param_grid={'n_estimators': [10, 20, 30], 'criterion': ['gini', 'entropy']},\n",
       "       pre_dispatch='2*n_jobs', refit=True, scoring='roc_auc', verbose=0)"
      ]
     },
     "execution_count": 13,
     "metadata": {},
     "output_type": "execute_result"
    }
   ],
   "source": [
    "forest_grid.fit(X_train,y_train)"
   ]
  },
  {
   "cell_type": "code",
   "execution_count": 14,
   "metadata": {},
   "outputs": [],
   "source": [
    "#ベストスコアを出したモデルを保存\n",
    "best_rfc = forest_grid.best_estimator_"
   ]
  },
  {
   "cell_type": "code",
   "execution_count": 28,
   "metadata": {},
   "outputs": [],
   "source": [
    "y_pred = best_rfc.predict_proba(testdata)"
   ]
  },
  {
   "cell_type": "code",
   "execution_count": 29,
   "metadata": {},
   "outputs": [
    {
     "data": {
      "text/plain": [
       "array([[1.        , 0.        ],\n",
       "       [1.        , 0.        ],\n",
       "       [1.        , 0.        ],\n",
       "       ...,\n",
       "       [1.        , 0.        ],\n",
       "       [0.93333333, 0.06666667],\n",
       "       [0.76666667, 0.23333333]])"
      ]
     },
     "execution_count": 29,
     "metadata": {},
     "output_type": "execute_result"
    }
   ],
   "source": [
    "y_pred"
   ]
  },
  {
   "cell_type": "code",
   "execution_count": 32,
   "metadata": {},
   "outputs": [],
   "source": [
    "#提出ファイルを作る関数   \n",
    "\n",
    "def submit_csv(y_pred,testdata):\n",
    "    \n",
    "    submission5 = y_pred\n",
    "\n",
    "    list4 =[0, \"TARGET\"]\n",
    "\n",
    "    submission4_df = pd.DataFrame(submission5,columns=list4)\n",
    "    submission_file4 = pd.concat([testdata[\"SK_ID_CURR\"], submission4_df[\"TARGET\"]], axis=1) \n",
    "\n",
    "    return submission_file4\n",
    "\n",
    "#submission_file4.to_csv(\"kaggle_homecredit\", index=False)"
   ]
  },
  {
   "cell_type": "code",
   "execution_count": 34,
   "metadata": {},
   "outputs": [],
   "source": [
    "submit_csv(y_pred,testdf_delete_nan).to_csv(\"kaggle_homecredit1\", index=False)"
   ]
  },
  {
   "cell_type": "markdown",
   "metadata": {},
   "source": [
    "提出したところ、<br>\n",
    "AUC:0.67268<br>\n",
    "となった。"
   ]
  },
  {
   "cell_type": "markdown",
   "metadata": {},
   "source": [
    "## 【問題3】Kernelからの調査"
   ]
  },
  {
   "cell_type": "code",
   "execution_count": null,
   "metadata": {},
   "outputs": [],
   "source": [
    "#　Kernel:Random Forest & K-Fold Cross Validationより\n",
    "\n",
    "#　n_estimators=50で学習されていて、AUC：０.７３を達成している\n",
    "#　n_estimatersが足りないようだ\n",
    "\n",
    "# bootstrapもTrueにするべきかもしれない\n",
    "#bootstrapとは\n",
    "#ブートストラップサンプリングにより標本データ群から無作為に抽出されたデータ・特徴量から決定木を作成し、\n",
    "#作成された決定木を多数決的に結合することで適切なモデルを生成するアルゴリズム。\n",
    "\n",
    "\n",
    "\n",
    "\n",
    "\"\"\"\n",
    "clf = RandomForestClassifier(\n",
    "    n_estimators=50,\n",
    "    criterion='gini',\n",
    "    max_depth=5,\n",
    "    min_samples_split=2,\n",
    "    min_samples_leaf=1,\n",
    "    min_weight_fraction_leaf=0.0,\n",
    "    max_features='auto',\n",
    "    max_leaf_nodes=None,\n",
    "    min_impurity_decrease=0.0,\n",
    "    min_impurity_split=None,\n",
    "    bootstrap=True,\n",
    "    oob_score=False,\n",
    "    n_jobs=-1,\n",
    "    random_state=0,\n",
    "    verbose=0,\n",
    "    warm_start=False,\n",
    "    class_weight='balanced'\n",
    ")\n",
    "\"\"\""
   ]
  },
  {
   "cell_type": "markdown",
   "metadata": {},
   "source": [
    "## 【問題4】高い汎化性能のモデル作成\n"
   ]
  },
  {
   "cell_type": "markdown",
   "metadata": {},
   "source": [
    "### bootstrapをtrueにする\n"
   ]
  },
  {
   "cell_type": "code",
   "execution_count": 37,
   "metadata": {},
   "outputs": [],
   "source": [
    "param_grid1 = {\"n_estimators\":[10,20,30],\n",
    "                           \"criterion\": [\"gini\", \"entropy\"]}\n",
    "\n",
    "forest_grid1 = GridSearchCV(estimator=RandomForestClassifier(bootstrap=True,random_state=0),\n",
    "                 param_grid = param_grid1,   \n",
    "                 scoring=\"roc_auc\",  #metrics\n",
    "                 cv = 5,              #cross-validation\n",
    "                    )  "
   ]
  },
  {
   "cell_type": "code",
   "execution_count": 38,
   "metadata": {},
   "outputs": [
    {
     "data": {
      "text/plain": [
       "GridSearchCV(cv=5, error_score='raise',\n",
       "       estimator=RandomForestClassifier(bootstrap=True, class_weight=None, criterion='gini',\n",
       "            max_depth=None, max_features='auto', max_leaf_nodes=None,\n",
       "            min_impurity_decrease=0.0, min_impurity_split=None,\n",
       "            min_samples_leaf=1, min_samples_split=2,\n",
       "            min_weight_fraction_leaf=0.0, n_estimators=10, n_jobs=1,\n",
       "            oob_score=False, random_state=0, verbose=0, warm_start=False),\n",
       "       fit_params={}, iid=True, n_jobs=1,\n",
       "       param_grid={'n_estimators': [10, 20, 30], 'criterion': ['gini', 'entropy']},\n",
       "       pre_dispatch='2*n_jobs', refit=True, scoring='roc_auc', verbose=0)"
      ]
     },
     "execution_count": 38,
     "metadata": {},
     "output_type": "execute_result"
    }
   ],
   "source": [
    "forest_grid1.fit(X_train,y_train)"
   ]
  },
  {
   "cell_type": "code",
   "execution_count": 39,
   "metadata": {},
   "outputs": [],
   "source": [
    "best_rfc1 = forest_grid1.best_estimator_"
   ]
  },
  {
   "cell_type": "code",
   "execution_count": 40,
   "metadata": {},
   "outputs": [],
   "source": [
    "y_pred1 = best_rfc1.predict_proba(testdata)"
   ]
  },
  {
   "cell_type": "code",
   "execution_count": 41,
   "metadata": {},
   "outputs": [],
   "source": [
    "submit_csv(y_pred1,testdf_delete_nan).to_csv(\"kaggle_homecredit2\", index=False)"
   ]
  },
  {
   "cell_type": "markdown",
   "metadata": {},
   "source": [
    "提出したところ、<br>\n",
    "AUC:0.67268<br>\n",
    "となり、変わらなかった。"
   ]
  },
  {
   "cell_type": "markdown",
   "metadata": {},
   "source": [
    "### n_estimatorsを変更する"
   ]
  },
  {
   "cell_type": "code",
   "execution_count": 42,
   "metadata": {},
   "outputs": [],
   "source": [
    "param_grid2 = {\"n_estimators\":[50,100],\n",
    "                           \"criterion\": [\"gini\", \"entropy\"]}\n",
    "\n",
    "forest_grid2 = GridSearchCV(estimator=RandomForestClassifier(bootstrap=True,random_state=0),\n",
    "                 param_grid = param_grid2,   \n",
    "                 scoring=\"roc_auc\",  #metrics\n",
    "                 cv = 5,              #cross-validation\n",
    "                    )  \n",
    "\n",
    "forest_grid2.fit(X_train,y_train)\n",
    "\n",
    "best_rfc2 = forest_grid2.best_estimator_\n",
    "\n",
    "y_pred2 = best_rfc2.predict_proba(testdata)\n",
    "\n",
    "submit_csv(y_pred2,testdf_delete_nan).to_csv(\"kaggle_homecredit3\", index=False)"
   ]
  },
  {
   "cell_type": "markdown",
   "metadata": {},
   "source": [
    "提出したところ、<br>\n",
    "AUC:0.70936<br>\n",
    "となり、上昇した。"
   ]
  },
  {
   "cell_type": "markdown",
   "metadata": {},
   "source": [
    "## 【問題5】最終的なモデルの選定"
   ]
  },
  {
   "cell_type": "markdown",
   "metadata": {},
   "source": [
    "n_estimatorsをさらに増やしてみる。"
   ]
  },
  {
   "cell_type": "code",
   "execution_count": 44,
   "metadata": {},
   "outputs": [],
   "source": [
    "param_grid3 = {\"n_estimators\":[150,200],\n",
    "                           \"criterion\": [\"gini\", \"entropy\"]}\n",
    "\n",
    "forest_grid3 = GridSearchCV(estimator=RandomForestClassifier(bootstrap=True,random_state=0),\n",
    "                 param_grid = param_grid3,   \n",
    "                 scoring=\"roc_auc\",  #metrics\n",
    "                 cv = 5,              #cross-validation\n",
    "                    )  \n",
    "\n",
    "forest_grid3.fit(X_train,y_train)\n",
    "\n",
    "best_rfc3 = forest_grid3.best_estimator_\n",
    "\n",
    "y_pred3 = best_rfc3.predict_proba(testdata)\n",
    "\n",
    "submit_csv(y_pred3,testdf_delete_nan).to_csv(\"kaggle_homecredit4\", index=False)"
   ]
  },
  {
   "cell_type": "markdown",
   "metadata": {},
   "source": [
    "提出したところ、\n",
    "AUC:0.71781\n",
    "となり、上昇した。"
   ]
  },
  {
   "cell_type": "code",
   "execution_count": null,
   "metadata": {},
   "outputs": [],
   "source": []
  }
 ],
 "metadata": {
  "kernelspec": {
   "display_name": "Python 3",
   "language": "python",
   "name": "python3"
  },
  "language_info": {
   "codemirror_mode": {
    "name": "ipython",
    "version": 3
   },
   "file_extension": ".py",
   "mimetype": "text/x-python",
   "name": "python",
   "nbconvert_exporter": "python",
   "pygments_lexer": "ipython3",
   "version": "3.7.0"
  },
  "toc": {
   "base_numbering": 1,
   "nav_menu": {},
   "number_sections": true,
   "sideBar": true,
   "skip_h1_title": false,
   "title_cell": "Table of Contents",
   "title_sidebar": "Contents",
   "toc_cell": false,
   "toc_position": {},
   "toc_section_display": true,
   "toc_window_display": false
  },
  "varInspector": {
   "cols": {
    "lenName": 16,
    "lenType": 16,
    "lenVar": 40
   },
   "kernels_config": {
    "python": {
     "delete_cmd_postfix": "",
     "delete_cmd_prefix": "del ",
     "library": "var_list.py",
     "varRefreshCmd": "print(var_dic_list())"
    },
    "r": {
     "delete_cmd_postfix": ") ",
     "delete_cmd_prefix": "rm(",
     "library": "var_list.r",
     "varRefreshCmd": "cat(var_dic_list()) "
    }
   },
   "types_to_exclude": [
    "module",
    "function",
    "builtin_function_or_method",
    "instance",
    "_Feature"
   ],
   "window_display": false
  }
 },
 "nbformat": 4,
 "nbformat_minor": 2
}
