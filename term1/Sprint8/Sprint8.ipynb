{
 "cells": [
  {
   "cell_type": "markdown",
   "metadata": {},
   "source": [
    "# アンサンブル学習"
   ]
  },
  {
   "cell_type": "code",
   "execution_count": 1,
   "metadata": {},
   "outputs": [],
   "source": [
    "import numpy as np\n",
    "import pandas as pd\n",
    "import matplotlib.pyplot as plt\n",
    "\n",
    "from sklearn.linear_model import LinearRegression\n",
    "from sklearn.metrics import accuracy_score, precision_score, recall_score, f1_score, confusion_matrix\n",
    "from sklearn.model_selection import GridSearchCV"
   ]
  },
  {
   "cell_type": "code",
   "execution_count": 2,
   "metadata": {},
   "outputs": [],
   "source": [
    "All = pd.read_csv(\"house-train.csv\")\n",
    "X = All.loc[:, [\"GrLivArea\", \"YearBuilt\"]]\n",
    "y = All.loc[:, [\"SalePrice\"]]"
   ]
  },
  {
   "cell_type": "code",
   "execution_count": 3,
   "metadata": {},
   "outputs": [],
   "source": [
    "All = pd.read_csv(\"house-train.csv\")\n",
    "X = All.loc[:, [\"GrLivArea\", \"YearBuilt\"]]\n",
    "y = All.loc[:, [\"SalePrice\"]]\n",
    "from sklearn.model_selection import train_test_split\n",
    "from sklearn.preprocessing import StandardScaler \n",
    "\n",
    "X_train, X_test, y_train, y_test = train_test_split(\n",
    "        X, y, test_size=0.2, random_state=0)\n",
    "\n",
    "# データの標準化処理\n",
    "sc = StandardScaler()\n",
    "sc.fit(X_train)\n",
    "X_train_std = sc.transform(X_train)\n",
    "X_test_std = sc.transform(X_test)"
   ]
  },
  {
   "cell_type": "markdown",
   "metadata": {},
   "source": [
    "## 小さなデータセットの用意"
   ]
  },
  {
   "cell_type": "markdown",
   "metadata": {},
   "source": [
    "## scikit-learn"
   ]
  },
  {
   "cell_type": "code",
   "execution_count": 4,
   "metadata": {},
   "outputs": [],
   "source": [
    "# MSE\n",
    "\n",
    "from sklearn.metrics import mean_squared_error\n",
    "#mean_squared_error(y_true, y_pred)\n"
   ]
  },
  {
   "cell_type": "markdown",
   "metadata": {},
   "source": [
    "# ブレンディング"
   ]
  },
  {
   "cell_type": "markdown",
   "metadata": {},
   "source": [
    "## 【問題1】ブレンディングのスクラッチ実装\n"
   ]
  },
  {
   "cell_type": "code",
   "execution_count": 5,
   "metadata": {},
   "outputs": [
    {
     "name": "stdout",
     "output_type": "stream",
     "text": [
      "2,942,066,921.672107\n"
     ]
    }
   ],
   "source": [
    "#　線形回帰\n",
    "from sklearn.linear_model import LinearRegression\n",
    "lr = LinearRegression()\n",
    "lr.fit(X_train_std, y_train)\n",
    "y_pred_lr = lr.predict(X_test_std)\n",
    "\n",
    "print(\"{:,}\".format(mean_squared_error(y_test, y_pred_lr)))"
   ]
  },
  {
   "cell_type": "code",
   "execution_count": 6,
   "metadata": {},
   "outputs": [
    {
     "name": "stdout",
     "output_type": "stream",
     "text": [
      "3,747,597,967.329022\n",
      "2,958,209,367.9421964\n",
      "7,461,818,210.812097\n"
     ]
    },
    {
     "name": "stderr",
     "output_type": "stream",
     "text": [
      "/Users/takamoriyuki/.pyenv/versions/anaconda3-5.3.1/lib/python3.7/site-packages/sklearn/utils/validation.py:578: DataConversionWarning: A column-vector y was passed when a 1d array was expected. Please change the shape of y to (n_samples, ), for example using ravel().\n",
      "  y = column_or_1d(y, warn=True)\n"
     ]
    }
   ],
   "source": [
    "# SVM\n",
    "from sklearn.svm import SVR\n",
    "svr_rbf = SVR(kernel='rbf', C=1e3, gamma=0.1)\n",
    "svr_lin = SVR(kernel='linear', C=1e3)\n",
    "svr_poly = SVR(kernel='poly', C=1e3, degree=2)\n",
    "y_rbf = svr_rbf.fit(X_train_std, y_train).predict(X_test_std)\n",
    "y_lin = svr_lin.fit(X_train_std, y_train).predict(X_test_std)\n",
    "y_poly = svr_poly.fit(X_train_std, y_train).predict(X_test_std)\n",
    "\n",
    "y_rbf = np.reshape(y_rbf, (-1,1))\n",
    "y_lin = np.reshape(y_lin, (-1,1))\n",
    "y_poly = np.reshape(y_poly, (-1,1))\n",
    "print(\"{:,}\".format(mean_squared_error(y_test, y_rbf)))\n",
    "print(\"{:,}\".format(mean_squared_error(y_test, y_lin)))\n",
    "print(\"{:,}\".format(mean_squared_error(y_test, y_poly)))"
   ]
  },
  {
   "cell_type": "code",
   "execution_count": 7,
   "metadata": {
    "scrolled": true
   },
   "outputs": [
    {
     "name": "stdout",
     "output_type": "stream",
     "text": [
      "2,695,315,830.674088\n"
     ]
    }
   ],
   "source": [
    "# 決定木\n",
    "from sklearn.tree import DecisionTreeRegressor\n",
    "tree = DecisionTreeRegressor(max_depth = 3)\n",
    "tree.fit(X_train_std, y_train)\n",
    "y_pred_tree = tree.predict(X_test_std)\n",
    "\n",
    "y_pred_tree = np.reshape(y_pred_tree, (-1,1))\n",
    "\n",
    "print(\"{:,}\".format(mean_squared_error(y_test, y_pred_tree)))"
   ]
  },
  {
   "cell_type": "code",
   "execution_count": 8,
   "metadata": {
    "scrolled": true
   },
   "outputs": [
    {
     "name": "stderr",
     "output_type": "stream",
     "text": [
      "/Users/takamoriyuki/.pyenv/versions/anaconda3-5.3.1/lib/python3.7/site-packages/sklearn/neural_network/multilayer_perceptron.py:1306: DataConversionWarning: A column-vector y was passed when a 1d array was expected. Please change the shape of y to (n_samples, ), for example using ravel().\n",
      "  y = column_or_1d(y, warn=True)\n"
     ]
    },
    {
     "name": "stdout",
     "output_type": "stream",
     "text": [
      "39,657,496,867.119156\n"
     ]
    },
    {
     "name": "stderr",
     "output_type": "stream",
     "text": [
      "/Users/takamoriyuki/.pyenv/versions/anaconda3-5.3.1/lib/python3.7/site-packages/sklearn/neural_network/multilayer_perceptron.py:564: ConvergenceWarning: Stochastic Optimizer: Maximum iterations (200) reached and the optimization hasn't converged yet.\n",
      "  % self.max_iter, ConvergenceWarning)\n"
     ]
    }
   ],
   "source": [
    "# ニューラルネットワーク\n",
    "from sklearn.neural_network import MLPRegressor\n",
    "MLP= MLPRegressor(random_state=42)\n",
    "MLP.fit(X_train_std, y_train)\n",
    "y_pred_MLP = MLP.predict(X_test_std)\n",
    "\n",
    "print(\"{:,}\".format(mean_squared_error(y_test, y_pred_MLP)))"
   ]
  },
  {
   "cell_type": "code",
   "execution_count": 9,
   "metadata": {},
   "outputs": [
    {
     "name": "stdout",
     "output_type": "stream",
     "text": [
      "2,620,935,356.8208737\n"
     ]
    }
   ],
   "source": [
    "#線形回帰,SVM＿Lin,決定木の平均を取ってみる\n",
    "y_pred_lrSVMtree = np.concatenate((y_pred_lr,y_lin, y_pred_tree), axis=1)\n",
    "y_pred_mean = np.reshape(np.mean(y_pred_lrSVMtree,axis=1),(-1,1))\n",
    "\n",
    "print(\"{:,}\".format(mean_squared_error(y_test, y_pred_mean)))\n",
    "#少し改善された"
   ]
  },
  {
   "cell_type": "code",
   "execution_count": 10,
   "metadata": {},
   "outputs": [
    {
     "name": "stderr",
     "output_type": "stream",
     "text": [
      "/Users/takamoriyuki/.pyenv/versions/anaconda3-5.3.1/lib/python3.7/site-packages/sklearn/neural_network/multilayer_perceptron.py:1306: DataConversionWarning: A column-vector y was passed when a 1d array was expected. Please change the shape of y to (n_samples, ), for example using ravel().\n",
      "  y = column_or_1d(y, warn=True)\n"
     ]
    },
    {
     "name": "stdout",
     "output_type": "stream",
     "text": [
      "2,926,497,284.5278735\n"
     ]
    }
   ],
   "source": [
    "#ニューラルネットワークのパラメーター変更、隠れ層を(100,)→（1000,1000,1000）に\n",
    "MLP= MLPRegressor(hidden_layer_sizes=(1000, 1000,1000),activation='relu',random_state=42)\n",
    "MLP.fit(X_train_std, y_train)\n",
    "y_pred_MLP = MLP.predict(X_test_std)\n",
    "y_pred_MLP = np.reshape(y_pred_MLP, (-1,1))\n",
    "print(\"{:,}\".format(mean_squared_error(y_test, y_pred_MLP)))\n",
    "\n",
    "#ニューラルネットワーク同士の比較では、かなり良くなったが、決定木と比べて少し悪い"
   ]
  },
  {
   "cell_type": "code",
   "execution_count": 11,
   "metadata": {},
   "outputs": [
    {
     "name": "stdout",
     "output_type": "stream",
     "text": [
      "19,537,542,480.66832\n"
     ]
    }
   ],
   "source": [
    "#線形回帰,SVM＿Lin,決定木に重みをつける\n",
    "y_pred_lrSVMtree = np.concatenate((y_pred_lr*0.2,y_lin*0.3, y_pred_tree*0.5), axis=1)\n",
    "y_pred_mean = np.reshape(np.mean(y_pred_lrSVMtree,axis=1),(-1,1))\n",
    "\n",
    "print(\"{:,}\".format(mean_squared_error(y_test, y_pred_mean)))\n",
    "#大幅に悪くなった"
   ]
  },
  {
   "cell_type": "code",
   "execution_count": 12,
   "metadata": {},
   "outputs": [
    {
     "name": "stdout",
     "output_type": "stream",
     "text": [
      "19,537,542,480.66832\n"
     ]
    }
   ],
   "source": [
    "#線形回帰、ニューラルネットワーク、決定木の平均をとってみた\n",
    "y_pred_lrMLPtree = np.concatenate((y_pred_lr,y_pred_MLP, y_pred_tree), axis=1)\n",
    "y_pred_mean2 = np.reshape(np.mean(y_pred_lrMLPtree,axis=1),(-1,1))\n",
    "\n",
    "print(\"{:,}\".format(mean_squared_error(y_test, y_pred_mean)))\n",
    "#大幅に退化"
   ]
  },
  {
   "cell_type": "code",
   "execution_count": 13,
   "metadata": {},
   "outputs": [
    {
     "name": "stdout",
     "output_type": "stream",
     "text": [
      "2,537,034,970.345986\n"
     ]
    }
   ],
   "source": [
    "#線形回帰と決定木の平均をとってみた\n",
    "y_pred_lrtree = np.concatenate((y_pred_lr, y_pred_tree), axis=1)\n",
    "y_pred_mean3 = np.reshape(np.mean(y_pred_lrtree,axis=1),(-1,1))\n",
    "\n",
    "print(\"{:,}\".format(mean_squared_error(y_test, y_pred_mean3)))\n",
    "#少し改善された"
   ]
  },
  {
   "cell_type": "code",
   "execution_count": 14,
   "metadata": {},
   "outputs": [
    {
     "name": "stdout",
     "output_type": "stream",
     "text": [
      "2,595,987,936.5740814\n"
     ]
    }
   ],
   "source": [
    "# 決定木のdepth=10に変更した\n",
    "from sklearn.tree import DecisionTreeRegressor\n",
    "tree2 = DecisionTreeRegressor(max_depth = 10)\n",
    "tree2.fit(X_train_std, y_train)\n",
    "y_pred_tree2 = tree2.predict(X_test_std)\n",
    "\n",
    "y_pred_tree2 = np.reshape(y_pred_tree2, (-1,1))\n",
    "\n",
    "print(\"{:,}\".format(mean_squared_error(y_test, y_pred_tree2)))\n",
    "#depth = 3から一気に改善された"
   ]
  },
  {
   "cell_type": "markdown",
   "metadata": {},
   "source": [
    "# バギング"
   ]
  },
  {
   "cell_type": "markdown",
   "metadata": {},
   "source": [
    "## 【問題2】バギングのスクラッチ実装"
   ]
  },
  {
   "cell_type": "code",
   "execution_count": 15,
   "metadata": {},
   "outputs": [
    {
     "name": "stdout",
     "output_type": "stream",
     "text": [
      "MSE : 2,919,717,092.893424\n"
     ]
    }
   ],
   "source": [
    "X_train1, X_test1, y_train1, y_test1 = train_test_split(\n",
    "        X, y, test_size=0.2, random_state=0)\n",
    "\n",
    "# データの標準化処理\n",
    "sc = StandardScaler()\n",
    "sc.fit(X_train1)\n",
    "X_train_std1 = sc.transform(X_train1)\n",
    "X_test_std1 = sc.transform(X_test1)\n",
    "\n",
    "m = 10\n",
    "y_pred_lr_list  = np.zeros((X_test.shape[0], m))\n",
    "for i in range(m):\n",
    "    X_train2, X_test2, y_train2, y_test2 = train_test_split(\n",
    "        X, y, test_size=0.2, shuffle = True)\n",
    "    \n",
    "    # データの標準化処理\n",
    "    sc = StandardScaler()\n",
    "    sc.fit(X_train2)\n",
    "    X_train_std2 = sc.transform(X_train2)\n",
    "\n",
    "    #　線形回帰\n",
    "    from sklearn.linear_model import LinearRegression\n",
    "    lr1 = LinearRegression()\n",
    "    lr1.fit(X_train_std2, y_train2)\n",
    "    y_temp = lr1.predict(X_test_std1)#X_test_std\"1\"\n",
    "    y_pred_lr_list[:, i] = y_temp[:, 0]\n",
    "    \n",
    "y_pred_mean_lr = np.mean(y_pred_lr_list,axis= 1)    \n",
    "print(\"MSE : {:,}\".format(mean_squared_error(y_test1, y_pred_mean_lr)))\n",
    "\n",
    "# 上記の線形回帰（学習１度: 2,942,066,921.672107）より多少改善された"
   ]
  },
  {
   "cell_type": "markdown",
   "metadata": {},
   "source": [
    "# スタッキング"
   ]
  },
  {
   "cell_type": "markdown",
   "metadata": {},
   "source": [
    "## 【問題3】スタッキングのスクラッチ実装"
   ]
  },
  {
   "cell_type": "code",
   "execution_count": 16,
   "metadata": {},
   "outputs": [],
   "source": [
    "class ScratchStacking():\n",
    "    \"\"\"\n",
    "    ステージ0とステージ1のみのスタッキング\n",
    "    \"\"\"\n",
    "    def __init__(self):\n",
    "        self.k0 = 0\n",
    "        self.m0 = 0\n",
    "        self.list_models = None\n",
    "    \n",
    "    def fit(self, X, y, k0, m0, *models, model_z):\n",
    "        self.k0 = k0\n",
    "        self.m0 = m0\n",
    "        n_split_samples = int(len(X)/k0)+1\n",
    "        idx = np.arange(X.shape[0])\n",
    "        idx_split = [idx[i*n_split_samples:(i+1)*n_split_samples] for i in range(k0)]\n",
    "\n",
    "        y_pred_ndarray0 = np.empty((X.shape[0], m0))\n",
    "        list_models = []\n",
    "        for i in range(m0):\n",
    "            model = models[i]\n",
    "            y_pred_ndarray = np.empty(X.shape[0])\n",
    "            _list_model = []\n",
    "            for j in range(k0):\n",
    "                idx_bl_j = np.full(idx.shape, False)\n",
    "                idx_bl_j[idx_split[j]] = True\n",
    "                idx_bl_j_c = idx_bl_j==np.full(idx.shape, False)  # idx_bl_j_c = ~idx_bl_j\n",
    "                _reg = model().fit(X[idx_bl_j_c], y[idx_bl_j_c])\n",
    "                y_pred_ndarray[idx_split[j]] = _reg.predict(X[idx_bl_j])\n",
    "                _list_model.append(_reg)\n",
    "            y_pred_ndarray0[:, i] = y_pred_ndarray\n",
    "            list_models.append(_list_model)\n",
    "        self.list_models = [list_models]\n",
    "        model0 = model_z().fit(y_pred_ndarray0, y)\n",
    "        self.list_models.append(model0)\n",
    "        \n",
    "    def predict(self, X):\n",
    "        y_pred_ndarray0 = np.empty((X.shape[0], self.m0, self.k0))\n",
    "        \n",
    "        for i in range(self.m0):\n",
    "            for j in range(self.k0):\n",
    "                y_pred_ndarray0[:, i, j] = self.list_models[0][i][j].predict(X)\n",
    "        y_pred_ndarray1 = np.average(y_pred_ndarray0, axis=2)\n",
    "        \n",
    "        y_pred = self.list_models[1].predict(y_pred_ndarray1)\n",
    "        \n",
    "        return y_pred"
   ]
  },
  {
   "cell_type": "code",
   "execution_count": 17,
   "metadata": {},
   "outputs": [],
   "source": [
    "y_train = y_train.values"
   ]
  },
  {
   "cell_type": "code",
   "execution_count": 18,
   "metadata": {},
   "outputs": [],
   "source": [
    "y_train = np.reshape(y_train, [-1,])"
   ]
  },
  {
   "cell_type": "code",
   "execution_count": 19,
   "metadata": {},
   "outputs": [],
   "source": [
    "y_test = y_test.values"
   ]
  },
  {
   "cell_type": "code",
   "execution_count": 20,
   "metadata": {},
   "outputs": [],
   "source": [
    "y_test = np.reshape(y_test, [-1,])"
   ]
  },
  {
   "cell_type": "code",
   "execution_count": 21,
   "metadata": {},
   "outputs": [
    {
     "data": {
      "text/plain": [
       "(1168,)"
      ]
     },
     "execution_count": 21,
     "metadata": {},
     "output_type": "execute_result"
    }
   ],
   "source": [
    "y_train.shape"
   ]
  },
  {
   "cell_type": "code",
   "execution_count": 22,
   "metadata": {
    "scrolled": true
   },
   "outputs": [
    {
     "name": "stdout",
     "output_type": "stream",
     "text": [
      "MSE(stack) = 2490045433.670812\n"
     ]
    }
   ],
   "source": [
    "stacking = ScratchStacking()\n",
    "stacking.fit(X_train, y_train, 3, 2, LinearRegression, DecisionTreeRegressor, model_z=LinearRegression)\n",
    "y_pred_stacking = stacking.predict(X_test)\n",
    "print(\"MSE(stack) = \", mean_squared_error(y_pred_stacking, y_test), sep=\"\")\n",
    "#上記のどの場合と比べても改善された"
   ]
  },
  {
   "cell_type": "code",
   "execution_count": null,
   "metadata": {},
   "outputs": [],
   "source": []
  },
  {
   "cell_type": "code",
   "execution_count": null,
   "metadata": {},
   "outputs": [],
   "source": []
  }
 ],
 "metadata": {
  "kernelspec": {
   "display_name": "Python 3",
   "language": "python",
   "name": "python3"
  },
  "language_info": {
   "codemirror_mode": {
    "name": "ipython",
    "version": 3
   },
   "file_extension": ".py",
   "mimetype": "text/x-python",
   "name": "python",
   "nbconvert_exporter": "python",
   "pygments_lexer": "ipython3",
   "version": "3.7.0"
  },
  "toc": {
   "base_numbering": 1,
   "nav_menu": {},
   "number_sections": true,
   "sideBar": true,
   "skip_h1_title": false,
   "title_cell": "Table of Contents",
   "title_sidebar": "Contents",
   "toc_cell": false,
   "toc_position": {},
   "toc_section_display": true,
   "toc_window_display": false
  },
  "varInspector": {
   "cols": {
    "lenName": 16,
    "lenType": 16,
    "lenVar": 40
   },
   "kernels_config": {
    "python": {
     "delete_cmd_postfix": "",
     "delete_cmd_prefix": "del ",
     "library": "var_list.py",
     "varRefreshCmd": "print(var_dic_list())"
    },
    "r": {
     "delete_cmd_postfix": ") ",
     "delete_cmd_prefix": "rm(",
     "library": "var_list.r",
     "varRefreshCmd": "cat(var_dic_list()) "
    }
   },
   "types_to_exclude": [
    "module",
    "function",
    "builtin_function_or_method",
    "instance",
    "_Feature"
   ],
   "window_display": false
  }
 },
 "nbformat": 4,
 "nbformat_minor": 2
}
