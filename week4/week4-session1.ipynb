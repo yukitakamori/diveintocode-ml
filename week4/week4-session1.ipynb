{
 "cells": [
  {
   "cell_type": "markdown",
   "metadata": {},
   "source": [
    "# 信用情報"
   ]
  },
  {
   "cell_type": "markdown",
   "metadata": {},
   "source": [
    "## 【問題1】コンペティション内容の確認\n"
   ]
  },
  {
   "cell_type": "markdown",
   "metadata": {},
   "source": [
    "### 何を学習し、何を予測するのか"
   ]
  },
  {
   "cell_type": "markdown",
   "metadata": {},
   "source": [
    "約１２０項目、約３０万件の顧客データを学習し、<br>\n",
    "新たな顧客が、デフォルトする確率を予測する。"
   ]
  },
  {
   "cell_type": "markdown",
   "metadata": {},
   "source": [
    "### どのようなファイルを作りKaggleに提出するか"
   ]
  },
  {
   "cell_type": "markdown",
   "metadata": {},
   "source": [
    "テストデータの全ての顧客IDに対して、デフォルトする確率をつけて提出する"
   ]
  },
  {
   "cell_type": "markdown",
   "metadata": {},
   "source": [
    "### 提出されたものはどういった指標値で評価されるのか"
   ]
  },
  {
   "cell_type": "markdown",
   "metadata": {},
   "source": [
    "グラフに<br>\n",
    "縦軸にTPR(正解Pの数に対して、Pと予測してPだったものの数の比)<br>\n",
    "横軸にFPR(正解Nの数に対して、Pと予測してNだったものの数の比)<br>\n",
    "をとる。<br>\n",
    "ROC曲線(あるしきい値でのTPRとFPRの値を結んだもの)の下に広がる、<br>\n",
    "面積AUC(Area Under Curve)が大きいほど良いとされる。"
   ]
  },
  {
   "cell_type": "markdown",
   "metadata": {},
   "source": [
    "# ベースラインモデルの作成"
   ]
  },
  {
   "cell_type": "markdown",
   "metadata": {},
   "source": [
    "## 【問題2】学習と検証"
   ]
  },
  {
   "cell_type": "markdown",
   "metadata": {},
   "source": [
    "### week3の課題から分析した値を持ってくる"
   ]
  },
  {
   "cell_type": "code",
   "execution_count": 1,
   "metadata": {},
   "outputs": [
    {
     "name": "stdout",
     "output_type": "stream",
     "text": [
      "0    282686\n",
      "1     24825\n",
      "Name: TARGET, dtype: int64\n"
     ]
    },
    {
     "data": {
      "image/png": "[encoded data removed]",
      "text/plain": [
       "<Figure size 432x288 with 1 Axes>"
      ]
     },
     "metadata": {},
     "output_type": "display_data"
    }
   ],
   "source": [
    "import pandas as pd\n",
    "import numpy as np\n",
    "%matplotlib inline\n",
    "import matplotlib.pyplot as plt\n",
    "import seaborn as sns\n",
    "import scipy.stats as stats\n",
    "\n",
    "\n",
    "df = pd.read_csv(\"application_train2.csv\")\n",
    "\n",
    "\n",
    "column_null = df.isnull().sum()\n",
    "\n",
    "#クラス毎のデータ数\n",
    "target_count = df[\"TARGET\"].value_counts()\n",
    "print(target_count)\n",
    "\n",
    "\n",
    "plt.pie(target_count, startangle=90, autopct=\"%1.1f%%\")\n",
    "plt.axis('equal')\n",
    "plt.show()\n",
    "\n",
    "# デフォルトした人のデータを取り出してみる\n",
    "target1 = df[df.TARGET == 1]\n",
    "target0 = df[df.TARGET == 0]\n",
    "\n",
    "# 欠損率をみる\n",
    "target1_missing_ratio = target1.isnull().sum() / 24825 * 100\n",
    "target0_missing_ratio = target0.isnull().sum() / 282686 * 100\n",
    "\n",
    "# 欠損率の　デフォルト　ー　返済した人\n",
    "\n",
    "missing_ratio_gap = target1_missing_ratio - target0_missing_ratio\n",
    "\n",
    "# 欠損率の差が０でない値を取り出す\n",
    "#(~~~MODE,MEDI,AVGは扱いがわからないが欠損していることに意味があるかも)\n",
    "\n",
    "missing_ratio_gap_not0 = missing_ratio_gap[missing_ratio_gap != 0].sort_values(ascending=False)\n",
    "missing_ratio_gap_not0[30:70]\n",
    "\n",
    "# AMT_REQ_CREDIT_BUREAU_YEAR, OWN_CAR_AGE, \n",
    "# OCCUPATION_TYPE, OBS_30_CNT_SOCIAL_CIRCLE, DEF_30_CNT_SOCIAL_CIRCLE, OBS_60_CNT_SOCIAL_CIRCLE, DEF_60_CNT_SOCIAL_CIRCLE\n",
    "#あたりが気になる\n",
    "\n",
    "#文字データの列を取り出す\n",
    "df_str = df.select_dtypes(include=object)\n",
    "\n",
    "# 数字データの列を取り出す\n",
    "df_number = df.select_dtypes(include='number')\n",
    "\n",
    "# 数値データから〜〜〜MODE,MEDI,AVGを消す\n",
    "temp = pd.Series(df_number.columns.values)\n",
    "\n",
    "mode = temp[temp.str.contains('MODE')]\n",
    "medi = temp[temp.str.contains('MEDI')]\n",
    "avg = temp[temp.str.contains('AVG')]\n",
    "\n",
    "delete_clumns = pd.concat([mode, medi, avg])\n",
    "\n",
    "df_number_delete_MODE = df_number.drop(delete_clumns, axis=1)\n",
    "\n",
    "#データまとめ\n",
    "\n",
    "# 人数\n",
    "number_people0 = 282686\n",
    "number_people1 = 24825\n",
    "\n",
    "#全体\n",
    "df\n",
    "\n",
    "#デフォルトしたか、しないか\n",
    "target1 = df[df.TARGET == 1]\n",
    "target0 = df[df.TARGET == 0]\n",
    "\n",
    "#数値データの列\n",
    "df_number = df.select_dtypes(include='number')\n",
    "#数値データの中から~~~MODE,MEDI,AVGを除外したもの\n",
    "df_number_delete_MODE\n",
    "\n",
    "#文字データの列\n",
    "df_str = df.select_dtypes(include=object)\n",
    "\n",
    "#数値データの中でデフォルトしたか\n",
    "target1_number = df_number[df_number.TARGET == 1]\n",
    "target0_number = df_number[df_number.TARGET == 0]\n",
    "\n",
    "#文字データの中でデフォルトしたか\n",
    "target1_str = target1.select_dtypes(include=object)\n",
    "target0_str = target0.select_dtypes(include=object)\n",
    "\n",
    "# 数値データの相関係数\n",
    "df_number_corr = df_number.corr()\n",
    "corr_about_target = df_number_corr.TARGET.sort_values(ascending=False)\n",
    "\n",
    "#全ての文字データの数値化に挑戦してみる\n",
    "temp = pd.Series(df_str.columns.values)\n",
    "df_str_count = {}\n",
    "df_str_label_number = {}\n",
    "for i in temp:\n",
    "    vc = df_str[i].value_counts()\n",
    "    #print(vc)\n",
    "    df_str_count[i] = vc\n",
    "#print(df_str_count)\n",
    "\n",
    "#辞書内のリストのキーを辞書化し、０、１とナンバリング\n",
    "for j in df_str_count.keys():\n",
    "    df_str_count[j]\n",
    "    count = 0\n",
    "    for key in df_str_count[j].keys():\n",
    "        if key not in df_str_label_number:\n",
    "            df_str_label_number[key] = count\n",
    "            count += 1\n",
    "\n",
    "#値を置き換え\n",
    "df_str_number = df_str.replace(df_str_label_number)\n",
    "\n",
    "\n",
    "#文字データの項目のナンバリングに成功\n",
    "#ただ、この方法では、no,yesなどの、かぶった項目をユニークなものとしていない\n",
    "#また、出現した順に数字を振るので、順序がある項目に順序をつけられない方法である\n",
    "\n",
    "#TARGETと結合\n",
    "df_str_numbers = pd.concat([df_str_number,df[\"TARGET\"]], axis=1)\n",
    "\n",
    "### 欠損率が高いのはデフォルトした人ではないか\n",
    "### 欠損値からは\n",
    "#AMT_REQ_CREDIT_BUREAU_YEAR, OWN_CAR_AGE, OCCUPATION_TYPE, OBS_30_CNT_SOCIAL_CIRCLE, DEF_30_CNT_SOCIAL_CIRCLE, OBS_60_CNT_SOCIAL_CIRCLE, DEF_60_CNT_SOCIAL_CIRCLE\n",
    "### 相関係数が高いものは、\n",
    "#DAYS_BIRTH, REGION_RATING_CLIENT_W_CITY, REGION_RATING_CLIENT, DAYS_LAST_PHONE_CHANGE, DAYS_ID_PUBLISH , REG_CITY_NOT_WORK_CITY\n",
    "### 相関係数が低いものは、\n",
    "#DAYS_EMPLOYED, AMT_GOODS_PRICE, REGION_POPULATION_RELATIVE, AMT_CREDIT, HOUR_APPR_PROCESS_START"
   ]
  },
  {
   "cell_type": "code",
   "execution_count": 2,
   "metadata": {},
   "outputs": [],
   "source": [
    "#文字データの数値化を関数化\n",
    "#文字データ数値データが混在したものを引数とする\n",
    "#文字データの列を自動で取り出し、数値化\n",
    "#数値データと文字データを数値化したものを戻す\n",
    "\n",
    "def convert_str(df):\n",
    "    df_str = df.select_dtypes(include=object)\n",
    "    df_number = df.select_dtypes(include='number')\n",
    "    temp = pd.Series(df_str.columns.values)\n",
    "    df_str_count = {}\n",
    "    df_str_label_number = {}\n",
    "    for i in temp:\n",
    "        vc = df_str[i].value_counts()\n",
    "        #print(vc)\n",
    "        df_str_count[i] = vc\n",
    "    #print(df_str_count)\n",
    "\n",
    "    #辞書内のリストのキーを辞書化し、０、１とナンバリング\n",
    "    for j in df_str_count.keys():\n",
    "        df_str_count[j]\n",
    "        count = 0\n",
    "        for key in df_str_count[j].keys():\n",
    "            if key not in df_str_label_number:\n",
    "                df_str_label_number[key] = count\n",
    "                count += 1\n",
    "\n",
    "    #値を置き換え\n",
    "    df_str_to_number = df_str.replace(df_str_label_number)\n",
    "    \n",
    "    return df_str_to_number,df_number"
   ]
  },
  {
   "cell_type": "markdown",
   "metadata": {},
   "source": [
    "### 訓練用データと検証用データの分割"
   ]
  },
  {
   "cell_type": "code",
   "execution_count": 3,
   "metadata": {},
   "outputs": [
    {
     "data": {
      "text/plain": [
       "0"
      ]
     },
     "execution_count": 3,
     "metadata": {},
     "output_type": "execute_result"
    }
   ],
   "source": [
    "df_number_strnumber = pd.concat([df_str_number,df_number], axis=1)\n",
    "df_columns = df_number_strnumber.columns\n",
    "\n",
    "# 欠損データは列毎の最頻値で埋める\n",
    "df_delete_nan = df_number_strnumber.fillna(df_number_strnumber.mode().iloc[0])\n",
    "\n",
    "df_delete_nan.isnull().sum().sum()"
   ]
  },
  {
   "cell_type": "code",
   "execution_count": 4,
   "metadata": {},
   "outputs": [],
   "source": [
    "df_delete_nan_X = df_delete_nan.drop([\"TARGET\"],axis=1)\n",
    "\n",
    "X, y  = np.array(df_delete_nan_X), np.array(df_delete_nan[\"TARGET\"])"
   ]
  },
  {
   "cell_type": "code",
   "execution_count": 5,
   "metadata": {
    "scrolled": true
   },
   "outputs": [],
   "source": [
    "from sklearn.model_selection import train_test_split\n",
    "from sklearn.preprocessing import StandardScaler \n",
    "\n",
    "X_train, X_test, y_train, y_test = train_test_split(\n",
    "        X, y, test_size=0.2, random_state=0)\n",
    "\n",
    "# データの標準化処理\n",
    "sc = StandardScaler()\n",
    "sc.fit(X_train)\n",
    "X_train_std = sc.transform(X_train)\n",
    "X_test_std = sc.transform(X_test)"
   ]
  },
  {
   "cell_type": "code",
   "execution_count": 6,
   "metadata": {},
   "outputs": [
    {
     "data": {
      "text/plain": [
       "0.8508202851893404"
      ]
     },
     "execution_count": 6,
     "metadata": {},
     "output_type": "execute_result"
    }
   ],
   "source": [
    "#決定木\n",
    "from sklearn.tree import DecisionTreeClassifier\n",
    "\n",
    "clf = DecisionTreeClassifier(random_state=0)\n",
    "clf = clf.fit(X_train_std, y_train)\n",
    "pred = clf.predict(X_test_std)\n",
    "\n",
    "\n",
    "from sklearn.metrics import (roc_curve, auc, accuracy_score)\n",
    "pred = clf.predict(X_test_std)\n",
    "fpr, tpr, thresholds = roc_curve(y_test, pred, pos_label=1)\n",
    "auc(fpr, tpr)\n",
    "accuracy_score(pred, y_test)"
   ]
  },
  {
   "cell_type": "code",
   "execution_count": 7,
   "metadata": {
    "scrolled": false
   },
   "outputs": [
    {
     "name": "stderr",
     "output_type": "stream",
     "text": [
      "/Users/takamoriyuki/.pyenv/versions/anaconda3-5.3.1/lib/python3.7/site-packages/sklearn/ensemble/weight_boosting.py:29: DeprecationWarning: numpy.core.umath_tests is an internal NumPy module and should not be imported. It will be removed in a future NumPy release.\n",
      "  from numpy.core.umath_tests import inner1d\n"
     ]
    },
    {
     "data": {
      "text/plain": [
       "0.920231533421134"
      ]
     },
     "execution_count": 7,
     "metadata": {},
     "output_type": "execute_result"
    }
   ],
   "source": [
    "#ランダムフォレスト\n",
    "from sklearn.ensemble import RandomForestClassifier\n",
    "\n",
    "clf = RandomForestClassifier(random_state=0)\n",
    "clf = clf.fit(X_train_std, y_train)\n",
    "pred = clf.predict(X_test_std)\n",
    "fpr, tpr, thresholds = roc_curve(y_test, pred, pos_label=1)\n",
    "auc(fpr, tpr)\n",
    "accuracy_score(pred, y_test)"
   ]
  },
  {
   "cell_type": "code",
   "execution_count": 8,
   "metadata": {},
   "outputs": [
    {
     "data": {
      "text/plain": [
       "array([[0.9, 0.1],\n",
       "       [1. , 0. ],\n",
       "       [1. , 0. ],\n",
       "       ...,\n",
       "       [0.4, 0.6],\n",
       "       [0.5, 0.5],\n",
       "       [1. , 0. ]])"
      ]
     },
     "execution_count": 8,
     "metadata": {},
     "output_type": "execute_result"
    }
   ],
   "source": [
    "submission = clf.predict_proba(X_train_std)\n",
    "submission"
   ]
  },
  {
   "cell_type": "code",
   "execution_count": 9,
   "metadata": {},
   "outputs": [
    {
     "data": {
      "text/plain": [
       "0.504916981679262"
      ]
     },
     "execution_count": 9,
     "metadata": {},
     "output_type": "execute_result"
    }
   ],
   "source": [
    "auc(fpr, tpr)"
   ]
  },
  {
   "cell_type": "markdown",
   "metadata": {},
   "source": [
    "### scikit-learnを使い4種類の指標を計算する"
   ]
  },
  {
   "cell_type": "code",
   "execution_count": 10,
   "metadata": {},
   "outputs": [
    {
     "data": {
      "text/plain": [
       "0.920231533421134"
      ]
     },
     "execution_count": 10,
     "metadata": {},
     "output_type": "execute_result"
    }
   ],
   "source": [
    "#正解率 (Accuracy)\n",
    "from sklearn.metrics import accuracy_score\n",
    "accuracy_score(y_test, pred)"
   ]
  },
  {
   "cell_type": "code",
   "execution_count": 11,
   "metadata": {},
   "outputs": [
    {
     "data": {
      "text/plain": [
       "0.34545454545454546"
      ]
     },
     "execution_count": 11,
     "metadata": {},
     "output_type": "execute_result"
    }
   ],
   "source": [
    "#精度 (Precision)\n",
    "from sklearn.metrics import precision_score\n",
    "precision_score(y_test, pred)"
   ]
  },
  {
   "cell_type": "code",
   "execution_count": 12,
   "metadata": {},
   "outputs": [
    {
     "data": {
      "text/plain": [
       "0.011740473738414007"
      ]
     },
     "execution_count": 12,
     "metadata": {},
     "output_type": "execute_result"
    }
   ],
   "source": [
    "#検出率 (Recall)\n",
    "from sklearn.metrics import recall_score\n",
    "recall_score(y_test, pred)"
   ]
  },
  {
   "cell_type": "code",
   "execution_count": 13,
   "metadata": {},
   "outputs": [
    {
     "data": {
      "text/plain": [
       "0.022709163346613544"
      ]
     },
     "execution_count": 13,
     "metadata": {},
     "output_type": "execute_result"
    }
   ],
   "source": [
    "# F 値\n",
    "from sklearn.metrics import f1_score\n",
    "f1_score(y_test, pred)"
   ]
  },
  {
   "cell_type": "code",
   "execution_count": 14,
   "metadata": {},
   "outputs": [
    {
     "data": {
      "text/plain": [
       "array([[56540,   108],\n",
       "       [ 4798,    57]])"
      ]
     },
     "execution_count": 14,
     "metadata": {},
     "output_type": "execute_result"
    }
   ],
   "source": [
    "# 混同行列\n",
    "from sklearn.metrics import confusion_matrix\n",
    "confusion_matrix(y_test, pred)"
   ]
  },
  {
   "cell_type": "markdown",
   "metadata": {},
   "source": [
    "## 【問題3】テストデータに対する推定\n"
   ]
  },
  {
   "cell_type": "markdown",
   "metadata": {},
   "source": [
    "### テストデータの加工"
   ]
  },
  {
   "cell_type": "code",
   "execution_count": 15,
   "metadata": {},
   "outputs": [],
   "source": [
    "testdf = pd.read_csv(\"application_test2.csv\")\n",
    "\n",
    "# 数値データを取り出す\n",
    "testdf_number = testdf.select_dtypes(include='number')\n",
    "#文字データの列を取り出す\n",
    "testdf_str = testdf.select_dtypes(include=object)\n",
    "\n",
    "#全ての文字データの数値化に挑戦してみる\n",
    "temp = pd.Series(testdf_str.columns.values)\n",
    "testdf_str_count = {}\n",
    "testdf_str_label_number = {}\n",
    "for i in temp:\n",
    "    vc = testdf_str[i].value_counts()\n",
    "    #print(vc)\n",
    "    testdf_str_count[i] = vc\n",
    "#print(df_str_count)\n",
    "\n",
    "#辞書内のリストのキーを辞書化し、０、１とナンバリング\n",
    "for j in testdf_str_count.keys():\n",
    "    testdf_str_count[j]\n",
    "    count = 0\n",
    "    for key in testdf_str_count[j].keys():\n",
    "        if key not in testdf_str_label_number:\n",
    "            testdf_str_label_number[key] = count\n",
    "            count += 1\n",
    "\n",
    "#値を置き換え\n",
    "testdf_str_number = testdf_str.replace(testdf_str_label_number)\n",
    "#文字データの項目のナンバリングに成功\n",
    "\n",
    "testdf_number_strnumber = pd.concat([testdf_str_number,testdf_number], axis=1)\n",
    "\n",
    "# 欠損データは列毎の最頻値で埋める\n",
    "testdf_delete_nan = testdf_number_strnumber.fillna(testdf_number_strnumber.mode().iloc[0])\n"
   ]
  },
  {
   "cell_type": "code",
   "execution_count": 16,
   "metadata": {},
   "outputs": [],
   "source": [
    "# データの標準化処理\n",
    "sc = StandardScaler()\n",
    "sc.fit(testdf_delete_nan)\n",
    "testdf_std = sc.transform(testdf_delete_nan)"
   ]
  },
  {
   "cell_type": "code",
   "execution_count": 17,
   "metadata": {},
   "outputs": [],
   "source": [
    "#fit\n",
    "clf = RandomForestClassifier(random_state=0)\n",
    "clf = clf.fit(X_train_std, y_train)\n",
    "testpred = clf.predict(testdf_std)\n"
   ]
  },
  {
   "cell_type": "markdown",
   "metadata": {},
   "source": [
    "### テストデータに対する確率の出力"
   ]
  },
  {
   "cell_type": "code",
   "execution_count": 18,
   "metadata": {
    "scrolled": false
   },
   "outputs": [
    {
     "data": {
      "text/plain": [
       "array([[0.9, 0.1],\n",
       "       [0.6, 0.4],\n",
       "       [1. , 0. ],\n",
       "       ...,\n",
       "       [0.9, 0.1],\n",
       "       [1. , 0. ],\n",
       "       [0.7, 0.3]])"
      ]
     },
     "execution_count": 18,
     "metadata": {},
     "output_type": "execute_result"
    }
   ],
   "source": [
    "submission1 = clf.predict_proba(testdf_std)\n",
    "submission1\n"
   ]
  },
  {
   "cell_type": "markdown",
   "metadata": {},
   "source": [
    "### 提出ファイルの作成"
   ]
  },
  {
   "cell_type": "code",
   "execution_count": 19,
   "metadata": {},
   "outputs": [],
   "source": [
    "list1 =[0, \"TARGET\"]\n",
    "\n",
    "submission1_df = pd.DataFrame(submission1,columns=list1)\n",
    "submission_file = pd.concat([testdf[\"SK_ID_CURR\"], submission1_df[\"TARGET\"]], axis=1) \n",
    "\n"
   ]
  },
  {
   "cell_type": "code",
   "execution_count": 20,
   "metadata": {},
   "outputs": [],
   "source": [
    "submission_file.to_csv(\"kaggle_homecredit1\", index=False)"
   ]
  },
  {
   "cell_type": "markdown",
   "metadata": {},
   "source": [
    "# 特徴量エンジニアリング\n"
   ]
  },
  {
   "cell_type": "markdown",
   "metadata": {},
   "source": [
    "## 【問題4】特徴量エンジニアリング(最低5パターン)\n"
   ]
  },
  {
   "cell_type": "markdown",
   "metadata": {},
   "source": [
    "### 気になる特徴量だけで学習"
   ]
  },
  {
   "cell_type": "markdown",
   "metadata": {},
   "source": [
    "### 気になる特徴量\n",
    "- 欠損値からは\n",
    "- AMT_REQ_CREDIT_BUREAU_YEAR, OWN_CAR_AGE, OCCUPATION_TYPE, - ----OBS_30_CNT_SOCIAL_CIRCLE, DEF_30_CNT_SOCIAL_CIRCLE, OBS_60_CNT_SOCIAL_CIRCLE, DEF_60_CNT_SOCIAL_CIRCLE\n",
    "- 相関係数が高いものは、\n",
    "- DAYS_BIRTH, REGION_RATING_CLIENT_W_CITY, REGION_RATING_CLIENT, DAYS_LAST_PHONE_CHANGE, DAYS_ID_PUBLISH , REG_CITY_NOT_WORK_CITY\n",
    "- 相関係数が低いものは、\n",
    "- DAYS_EMPLOYED, AMT_GOODS_PRICE, REGION_POPULATION_RELATIVE, AMT_CREDIT, HOUR_APPR_PROCESS_START\n",
    "- 若い人の特徴からは\n",
    "- DAYS_BIRTH,FLAG_EMP_PHONE,DAYS_EMPLOYED,EXT_SOURCE_1, FLAG_DOCUMENT_6,EXT_SOURCE_3,EXT_SOURCE_2,AMT_REQ_CREDIT_BUREAU_YEAR"
   ]
  },
  {
   "cell_type": "markdown",
   "metadata": {},
   "source": [
    "### パターン１：気になる特徴量\n",
    "\n",
    "AMT_REQ_CREDIT_BUREAU_YEAR,\n",
    "OWN_CAR_AGE, OCCUPATION_TYPE, OBS_30_CNT_SOCIAL_CIRCLE, DEF_30_CNT_SOCIAL_CIRCLE, OBS_60_CNT_SOCIAL_CIRCLE, DEF_60_CNT_SOCIAL_CIRCLEDAYS_BIRTH, REGION_RATING_CLIENT_W_CITY, REGION_RATING_CLIENT, DAYS_LAST_PHONE_CHANGE, DAYS_ID_PUBLISH , REG_CITY_NOT_WORK_CITYDAYS_EMPLOYED, AMT_GOODS_PRICE, REGION_POPULATION_RELATIVE, AMT_CREDIT, HOUR_APPR_PROCESS_STARTDAYS_BIRTH,FLAG_EMP_PHONE,DAYS_EMPLOYED,EXT_SOURCE_1, FLAG_DOCUMENT_6,EXT_SOURCE_3,EXT_SOURCE_2,AMT_REQ_CREDIT_BUREAU_YEAR,CODE_GENDER"
   ]
  },
  {
   "cell_type": "code",
   "execution_count": 21,
   "metadata": {},
   "outputs": [
    {
     "data": {
      "text/plain": [
       "['AMT_REQ_CREDIT_BUREAU_YEAR',\n",
       " 'OWN_CAR_AGE',\n",
       " 'OCCUPATION_TYPE',\n",
       " 'OBS_30_CNT_SOCIAL_CIRCLE',\n",
       " 'DEF_30_CNT_SOCIAL_CIRCLE',\n",
       " 'OBS_60_CNT_SOCIAL_CIRCLE',\n",
       " 'DEF_60_CNT_SOCIAL_CIRCLE',\n",
       " 'DAYS_BIRTH',\n",
       " 'REGION_RATING_CLIENT_W_CITY',\n",
       " 'REGION_RATING_CLIENT',\n",
       " 'DAYS_LAST_PHONE_CHANGE',\n",
       " 'DAYS_ID_PUBLISH',\n",
       " 'REG_CITY_NOT_WORK_CITY',\n",
       " 'DAYS_EMPLOYED',\n",
       " 'AMT_GOODS_PRICE',\n",
       " 'REGION_POPULATION_RELATIVE',\n",
       " 'AMT_CREDIT',\n",
       " 'HOUR_APPR_PROCESS_START',\n",
       " 'DAYS_BIRTH',\n",
       " 'FLAG_EMP_PHONE',\n",
       " 'DAYS_EMPLOYED',\n",
       " 'EXT_SOURCE_1',\n",
       " 'FLAG_DOCUMENT_6',\n",
       " 'EXT_SOURCE_3',\n",
       " 'EXT_SOURCE_2',\n",
       " 'AMT_REQ_CREDIT_BUREAU_YEAR',\n",
       " 'CODE_GENDER']"
      ]
     },
     "execution_count": 21,
     "metadata": {},
     "output_type": "execute_result"
    }
   ],
   "source": [
    "moji = \"AMT_REQ_CREDIT_BUREAU_YEAR,OWN_CAR_AGE,OCCUPATION_TYPE,OBS_30_CNT_SOCIAL_CIRCLE,DEF_30_CNT_SOCIAL_CIRCLE,OBS_60_CNT_SOCIAL_CIRCLE,DEF_60_CNT_SOCIAL_CIRCLE,DAYS_BIRTH,REGION_RATING_CLIENT_W_CITY,REGION_RATING_CLIENT,DAYS_LAST_PHONE_CHANGE,DAYS_ID_PUBLISH,REG_CITY_NOT_WORK_CITY,DAYS_EMPLOYED,AMT_GOODS_PRICE,REGION_POPULATION_RELATIVE,AMT_CREDIT,HOUR_APPR_PROCESS_START,DAYS_BIRTH,FLAG_EMP_PHONE,DAYS_EMPLOYED,EXT_SOURCE_1,FLAG_DOCUMENT_6,EXT_SOURCE_3,EXT_SOURCE_2,AMT_REQ_CREDIT_BUREAU_YEAR,CODE_GENDER\"\n",
    "\n",
    "moji_list = moji.split(',')\n",
    "\n",
    "moji_list"
   ]
  },
  {
   "cell_type": "code",
   "execution_count": 22,
   "metadata": {},
   "outputs": [],
   "source": [
    "#moji_listの列だけ抽出\n",
    "df_delete_nan1 = df_delete_nan.loc[:, moji_list]\n",
    "\n",
    "X, y  = np.array(df_delete_nan1), np.array(df[\"TARGET\"])"
   ]
  },
  {
   "cell_type": "code",
   "execution_count": 23,
   "metadata": {},
   "outputs": [
    {
     "data": {
      "text/plain": [
       "0.9194185649480513"
      ]
     },
     "execution_count": 23,
     "metadata": {},
     "output_type": "execute_result"
    }
   ],
   "source": [
    "from sklearn.model_selection import train_test_split\n",
    "from sklearn.preprocessing import StandardScaler \n",
    "\n",
    "X_train, X_test, y_train, y_test = train_test_split(\n",
    "        X, y, test_size=0.2, random_state=0)\n",
    "\n",
    "# データの標準化処理\n",
    "sc = StandardScaler()\n",
    "sc.fit(X_train)\n",
    "X_train_std = sc.transform(X_train)\n",
    "X_test_std = sc.transform(X_test)\n",
    "\n",
    "#決定木\n",
    "from sklearn.tree import DecisionTreeClassifier\n",
    "\n",
    "clf = DecisionTreeClassifier(random_state=0)\n",
    "clf = clf.fit(X_train_std, y_train)\n",
    "pred = clf.predict(X_test_std)\n",
    "\n",
    "\n",
    "from sklearn.metrics import (roc_curve, auc, accuracy_score)\n",
    "pred = clf.predict(X_test_std)\n",
    "fpr, tpr, thresholds = roc_curve(y_test, pred, pos_label=1)\n",
    "auc(fpr, tpr)\n",
    "accuracy_score(pred, y_test)\n",
    "\n",
    "#ランダムフォレスト\n",
    "from sklearn.ensemble import RandomForestClassifier\n",
    "\n",
    "clf = RandomForestClassifier(random_state=0)\n",
    "clf = clf.fit(X_train_std, y_train)\n",
    "pred = clf.predict(X_test_std)\n",
    "fpr, tpr, thresholds = roc_curve(y_test, pred, pos_label=1)\n",
    "auc(fpr, tpr)\n",
    "accuracy_score(pred, y_test)"
   ]
  },
  {
   "cell_type": "code",
   "execution_count": 24,
   "metadata": {
    "scrolled": true
   },
   "outputs": [
    {
     "data": {
      "text/plain": [
       "0.509466149096282"
      ]
     },
     "execution_count": 24,
     "metadata": {},
     "output_type": "execute_result"
    }
   ],
   "source": [
    "auc(fpr, tpr)"
   ]
  },
  {
   "cell_type": "code",
   "execution_count": 25,
   "metadata": {
    "scrolled": true
   },
   "outputs": [
    {
     "data": {
      "text/plain": [
       "'\\n# Feature Importance\\nfti = clf.feature_importances_   \\n\\nfeature_importances_dict = {}\\nfor i, feat in enumerate(testdf_delete_nan.columns):\\n    feature_importances_dict[feat] =  fti[i]\\n    \\n#a = pd.DataFrame.from_dict(feature_importances_dict)\\nfeature_importances_list = sorted(feature_importances_dict.items(), key=lambda x:x[1])\\nfeature_importances_df = pd.Series(feature_importances_list)\\n'"
      ]
     },
     "execution_count": 25,
     "metadata": {},
     "output_type": "execute_result"
    }
   ],
   "source": [
    "\"\"\"\n",
    "# Feature Importance\n",
    "fti = clf.feature_importances_   \n",
    "\n",
    "feature_importances_dict = {}\n",
    "for i, feat in enumerate(testdf_delete_nan.columns):\n",
    "    feature_importances_dict[feat] =  fti[i]\n",
    "    \n",
    "#a = pd.DataFrame.from_dict(feature_importances_dict)\n",
    "feature_importances_list = sorted(feature_importances_dict.items(), key=lambda x:x[1])\n",
    "feature_importances_df = pd.Series(feature_importances_list)\n",
    "\"\"\""
   ]
  },
  {
   "cell_type": "markdown",
   "metadata": {},
   "source": [
    "#### 提出するために、テストデータを加工して予測"
   ]
  },
  {
   "cell_type": "code",
   "execution_count": 26,
   "metadata": {},
   "outputs": [],
   "source": [
    "testdf_delete_nan1 = testdf_delete_nan.loc[:, moji_list]\n",
    "\n",
    "\n",
    "# データの標準化処理\n",
    "sc = StandardScaler()\n",
    "sc.fit(testdf_delete_nan1)\n",
    "testdf_std = sc.transform(testdf_delete_nan1)"
   ]
  },
  {
   "cell_type": "code",
   "execution_count": 27,
   "metadata": {},
   "outputs": [],
   "source": [
    "clf = RandomForestClassifier(random_state=0)\n",
    "clf = clf.fit(X_train_std, y_train)\n",
    "testpred = clf.predict(testdf_std)"
   ]
  },
  {
   "cell_type": "code",
   "execution_count": 28,
   "metadata": {},
   "outputs": [
    {
     "data": {
      "text/plain": [
       "array([[0.8, 0.2],\n",
       "       [0.7, 0.3],\n",
       "       [1. , 0. ],\n",
       "       ...,\n",
       "       [1. , 0. ],\n",
       "       [1. , 0. ],\n",
       "       [0.7, 0.3]])"
      ]
     },
     "execution_count": 28,
     "metadata": {},
     "output_type": "execute_result"
    }
   ],
   "source": [
    "submission2 = clf.predict_proba(testdf_std)\n",
    "submission2"
   ]
  },
  {
   "cell_type": "code",
   "execution_count": 29,
   "metadata": {},
   "outputs": [],
   "source": [
    "list2 =[0, \"TARGET\"]\n",
    "\n",
    "submission2_df = pd.DataFrame(submission2,columns=list1)\n",
    "submission_file2 = pd.concat([testdf[\"SK_ID_CURR\"], submission2_df[\"TARGET\"]], axis=1) \n",
    "\n",
    "\n",
    "\n",
    "submission_file2.to_csv(\"kaggle_homecredit2\", index=False)"
   ]
  },
  {
   "cell_type": "markdown",
   "metadata": {},
   "source": [
    "### パターン２<br>\n",
    "- 正答に寄与した特徴量だけ抜き出してみる\n"
   ]
  },
  {
   "cell_type": "code",
   "execution_count": 30,
   "metadata": {},
   "outputs": [
    {
     "data": {
      "text/plain": [
       "['EXT_SOURCE_2',\n",
       " 'EXT_SOURCE_3',\n",
       " 'DAYS_ID_PUBLISH',\n",
       " 'DAYS_BIRTH',\n",
       " 'AMT_CREDIT',\n",
       " 'DAYS_EMPLOYED',\n",
       " 'REGION_POPULATION_RELATIVE',\n",
       " 'AMT_GOODS_PRICE',\n",
       " 'EXT_SOURCE_1',\n",
       " 'HOUR_APPR_PROCESS_START']"
      ]
     },
     "execution_count": 30,
     "metadata": {},
     "output_type": "execute_result"
    }
   ],
   "source": [
    "feature_str = \"EXT_SOURCE_2,EXT_SOURCE_3,DAYS_ID_PUBLISH,DAYS_BIRTH,AMT_CREDIT,DAYS_EMPLOYED,REGION_POPULATION_RELATIVE,AMT_GOODS_PRICE,EXT_SOURCE_1,HOUR_APPR_PROCESS_START\"\n",
    "\n",
    "\n",
    "moji_list2 = feature_str.split(',')\n",
    "\n",
    "moji_list2"
   ]
  },
  {
   "cell_type": "code",
   "execution_count": 31,
   "metadata": {},
   "outputs": [
    {
     "data": {
      "text/plain": [
       "0.9190933775588183"
      ]
     },
     "execution_count": 31,
     "metadata": {},
     "output_type": "execute_result"
    }
   ],
   "source": [
    "df_delete_nan1 = df_delete_nan.loc[:, moji_list2]\n",
    "\n",
    "df_delete_nan1.isnull().sum()\n",
    "\n",
    "X, y  = np.array(df_delete_nan1), np.array(df[\"TARGET\"])\n",
    "\n",
    "from sklearn.model_selection import train_test_split\n",
    "from sklearn.preprocessing import StandardScaler \n",
    "\n",
    "X_train, X_test, y_train, y_test = train_test_split(\n",
    "        X, y, test_size=0.2, random_state=0)\n",
    "\n",
    "# データの標準化処理\n",
    "sc = StandardScaler()\n",
    "sc.fit(X_train)\n",
    "X_train_std = sc.transform(X_train)\n",
    "X_test_std = sc.transform(X_test)\n",
    "\n",
    "#決定木\n",
    "from sklearn.tree import DecisionTreeClassifier\n",
    "\n",
    "clf = DecisionTreeClassifier(random_state=0)\n",
    "clf = clf.fit(X_train_std, y_train)\n",
    "pred = clf.predict(X_test_std)\n",
    "\n",
    "\n",
    "from sklearn.metrics import (roc_curve, auc, accuracy_score)\n",
    "pred = clf.predict(X_test_std)\n",
    "fpr, tpr, thresholds = roc_curve(y_test, pred, pos_label=1)\n",
    "auc(fpr, tpr)\n",
    "accuracy_score(pred, y_test)\n",
    "\n",
    "#ランダムフォレスト\n",
    "from sklearn.ensemble import RandomForestClassifier\n",
    "\n",
    "clf = RandomForestClassifier(random_state=0)\n",
    "clf = clf.fit(X_train_std, y_train)\n",
    "pred = clf.predict(X_test_std)\n",
    "fpr, tpr, thresholds = roc_curve(y_test, pred, pos_label=1)\n",
    "auc(fpr, tpr)\n",
    "accuracy_score(pred, y_test)\n",
    "\n"
   ]
  },
  {
   "cell_type": "code",
   "execution_count": 32,
   "metadata": {},
   "outputs": [
    {
     "data": {
      "text/plain": [
       "0.5098545814061826"
      ]
     },
     "execution_count": 32,
     "metadata": {},
     "output_type": "execute_result"
    }
   ],
   "source": [
    "auc(fpr, tpr)"
   ]
  },
  {
   "cell_type": "markdown",
   "metadata": {},
   "source": [
    "#### 提出するために、テストデータを加工して予測"
   ]
  },
  {
   "cell_type": "code",
   "execution_count": 33,
   "metadata": {},
   "outputs": [],
   "source": [
    "testdf_delete_nan2 = testdf_delete_nan.loc[:, moji_list2]\n",
    "\n",
    "\n",
    "# データの標準化処理\n",
    "sc = StandardScaler()\n",
    "sc.fit(testdf_delete_nan2)\n",
    "testdf_std = sc.transform(testdf_delete_nan2)\n",
    "\n",
    "clf = RandomForestClassifier(random_state=0)\n",
    "clf = clf.fit(X_train_std, y_train)\n",
    "testpred = clf.predict(testdf_std)\n",
    "\n",
    "submission3 = clf.predict_proba(testdf_std)\n",
    "submission3\n",
    "\n",
    "list3 =[0, \"TARGET\"]\n",
    "\n",
    "submission3_df = pd.DataFrame(submission3,columns=list3)\n",
    "submission_file3 = pd.concat([testdf[\"SK_ID_CURR\"], submission3_df[\"TARGET\"]], axis=1) \n",
    "\n",
    "\n",
    "\n",
    "submission_file3.to_csv(\"kaggle_homecredit3\", index=False)"
   ]
  },
  {
   "cell_type": "markdown",
   "metadata": {},
   "source": [
    "### パターン３:行ごとに欠損している項目数を特徴量として加えてみる"
   ]
  },
  {
   "cell_type": "code",
   "execution_count": 34,
   "metadata": {
    "scrolled": true
   },
   "outputs": [
    {
     "name": "stderr",
     "output_type": "stream",
     "text": [
      "/Users/takamoriyuki/.pyenv/versions/anaconda3-5.3.1/lib/python3.7/site-packages/ipykernel_launcher.py:2: FutureWarning: Sorting because non-concatenation axis is not aligned. A future version\n",
      "of pandas will change to not sort by default.\n",
      "\n",
      "To accept the future behavior, pass 'sort=False'.\n",
      "\n",
      "To retain the current behavior and silence the warning, pass 'sort=True'.\n",
      "\n",
      "  \n"
     ]
    }
   ],
   "source": [
    "# テストデータと訓練データを同時に処理する\n",
    "total_df = pd.concat([df,testdf],axis=0)#欠損あり\n",
    "\n",
    "count_missing = total_df.isnull().sum(axis = 1)#欠損の数を数える\n",
    "count_missing = pd.DataFrame(count_missing,columns=[\"COUNT_MISSING\"])\n",
    "\n",
    "total_df_missing = pd.concat([total_df,count_missing],axis=1)#特徴量追加\n",
    "\n",
    "# NANを埋める\n",
    "total_df_missing_delete_nan = total_df_missing.fillna(total_df_missing.mode().iloc[0])\n"
   ]
  },
  {
   "cell_type": "code",
   "execution_count": 35,
   "metadata": {},
   "outputs": [],
   "source": [
    "moji_list.extend([\"COUNT_MISSING\",\"TARGET\",\"SK_ID_CURR\"])"
   ]
  },
  {
   "cell_type": "code",
   "execution_count": 36,
   "metadata": {},
   "outputs": [],
   "source": [
    "#パターン１にCOUNT_MISSINGを加えたもの\n",
    "total_df_mojilist = total_df_missing_delete_nan[moji_list]"
   ]
  },
  {
   "cell_type": "code",
   "execution_count": 37,
   "metadata": {},
   "outputs": [],
   "source": [
    "#文字データの数値化\n",
    "df_mojilist_str, df_mojilist_number= convert_str(total_df_mojilist)"
   ]
  },
  {
   "cell_type": "code",
   "execution_count": 38,
   "metadata": {},
   "outputs": [],
   "source": [
    "total_df_mojilist = pd.concat([df_mojilist_str,df_mojilist_number],axis = 1)"
   ]
  },
  {
   "cell_type": "code",
   "execution_count": 39,
   "metadata": {},
   "outputs": [],
   "source": [
    "train_total_df_mojilist = total_df_mojilist[total_df_mojilist[\"SK_ID_CURR\"].isin(df[\"SK_ID_CURR\"])]\n"
   ]
  },
  {
   "cell_type": "code",
   "execution_count": 40,
   "metadata": {},
   "outputs": [],
   "source": [
    "test_total_df_mojilist = total_df_mojilist[total_df_mojilist[\"SK_ID_CURR\"].isin(testdf[\"SK_ID_CURR\"])]"
   ]
  },
  {
   "cell_type": "code",
   "execution_count": 41,
   "metadata": {},
   "outputs": [
    {
     "data": {
      "text/plain": [
       "1.0"
      ]
     },
     "execution_count": 41,
     "metadata": {},
     "output_type": "execute_result"
    }
   ],
   "source": [
    "#テストと訓練用に分ける\n",
    "\n",
    "X, y  = np.array(train_total_df_mojilist), np.array(df[\"TARGET\"])\n",
    "\n",
    "from sklearn.model_selection import train_test_split\n",
    "from sklearn.preprocessing import StandardScaler \n",
    "\n",
    "X_train, X_test, y_train, y_test = train_test_split(\n",
    "        X, y, test_size=0.2, random_state=0)\n",
    "\n",
    "\n",
    "\n",
    "from sklearn.metrics import (roc_curve, auc, accuracy_score)\n",
    "\n",
    "#ランダムフォレスト\n",
    "from sklearn.ensemble import RandomForestClassifier\n",
    "\n",
    "clf = RandomForestClassifier(random_state=0)\n",
    "clf = clf.fit(X_train, y_train)\n",
    "pred = clf.predict(X_test)\n",
    "fpr, tpr, thresholds = roc_curve(y_test, pred, pos_label=1)\n",
    "auc(fpr, tpr)\n",
    "accuracy_score(pred, y_test)\n",
    "\n"
   ]
  },
  {
   "cell_type": "code",
   "execution_count": 42,
   "metadata": {
    "scrolled": true
   },
   "outputs": [
    {
     "data": {
      "text/plain": [
       "1.0"
      ]
     },
     "execution_count": 42,
     "metadata": {},
     "output_type": "execute_result"
    }
   ],
   "source": [
    "auc(fpr, tpr)"
   ]
  },
  {
   "cell_type": "code",
   "execution_count": 43,
   "metadata": {},
   "outputs": [],
   "source": [
    "\n",
    "\n",
    "clf = RandomForestClassifier(random_state=0)\n",
    "clf = clf.fit(X_train, y_train)\n",
    "testpred = clf.predict(test_total_df_mojilist)\n",
    "\n",
    "submission4 = clf.predict_proba(test_total_df_mojilist)\n",
    "submission4\n",
    "\n",
    "list4 =[0, \"TARGET\"]\n",
    "\n",
    "submission4_df = pd.DataFrame(submission3,columns=list4)\n",
    "submission_file4 = pd.concat([testdf[\"SK_ID_CURR\"], submission4_df[\"TARGET\"]], axis=1) \n",
    "\n",
    "\n",
    "\n",
    "submission_file4.to_csv(\"kaggle_homecredit7\", index=False)"
   ]
  },
  {
   "cell_type": "code",
   "execution_count": 44,
   "metadata": {},
   "outputs": [],
   "source": [
    "#欠損している項目量を特徴量にするとaucが１になってしまった。"
   ]
  },
  {
   "cell_type": "markdown",
   "metadata": {},
   "source": [
    "### パターン４：欠損率を加えてデータ全体で学習する"
   ]
  },
  {
   "cell_type": "code",
   "execution_count": 45,
   "metadata": {
    "scrolled": true
   },
   "outputs": [
    {
     "name": "stderr",
     "output_type": "stream",
     "text": [
      "/Users/takamoriyuki/.pyenv/versions/anaconda3-5.3.1/lib/python3.7/site-packages/ipykernel_launcher.py:2: FutureWarning: Sorting because non-concatenation axis is not aligned. A future version\n",
      "of pandas will change to not sort by default.\n",
      "\n",
      "To accept the future behavior, pass 'sort=False'.\n",
      "\n",
      "To retain the current behavior and silence the warning, pass 'sort=True'.\n",
      "\n",
      "  \n"
     ]
    }
   ],
   "source": [
    "# テストデータと訓練データを同時に処理する\n",
    "total_df = pd.concat([df,testdf],axis=0)#欠損あり\n",
    "\n",
    "count_missing = total_df.isnull().sum(axis = 1)#欠損の数を数える\n",
    "count_missing = pd.DataFrame(count_missing / 122,columns=[\"COUNT_MISSING\"])\n",
    "\n",
    "total_df_missing = pd.concat([total_df,count_missing],axis=1)#特徴量追加\n",
    "\n",
    "# NANを埋める\n",
    "total_df_missing_delete_nan = total_df_missing.fillna(total_df_missing.mode().iloc[0])\n",
    "\n",
    "\n",
    "#文字データの数値化\n",
    "df_missing_str, df_missing_number= convert_str(total_df_missing_delete_nan)\n",
    "\n",
    "total_df_missing = pd.concat([df_missing_str,df_missing_number],axis = 1)\n",
    "\n"
   ]
  },
  {
   "cell_type": "code",
   "execution_count": 46,
   "metadata": {},
   "outputs": [],
   "source": [
    "train_total_df_missing = total_df_missing[total_df_missing[\"SK_ID_CURR\"].isin(df[\"SK_ID_CURR\"])]\n"
   ]
  },
  {
   "cell_type": "code",
   "execution_count": 47,
   "metadata": {},
   "outputs": [],
   "source": [
    "test_total_df_missing = total_df_missing[total_df_missing[\"SK_ID_CURR\"].isin(testdf[\"SK_ID_CURR\"])]"
   ]
  },
  {
   "cell_type": "code",
   "execution_count": 48,
   "metadata": {},
   "outputs": [],
   "source": [
    "#訓練データとテストデータを分け学習し、提出ファイルを作るところまでを関数化する   \n",
    "\n",
    "def clf_train(traindata,testdata):\n",
    "    #テストと訓練用に分ける\n",
    "    X, y  = np.array(traindata), np.array(df[\"TARGET\"])\n",
    "\n",
    "    from sklearn.model_selection import train_test_split\n",
    "    from sklearn.preprocessing import StandardScaler \n",
    "\n",
    "    X_train, X_test, y_train, y_test = train_test_split(\n",
    "            X, y, test_size=0.2, random_state=0)\n",
    "\n",
    "    from sklearn.metrics import (roc_curve, auc, accuracy_score)\n",
    "\n",
    "    #ランダムフォレスト\n",
    "    from sklearn.ensemble import RandomForestClassifier\n",
    "\n",
    "    clf = RandomForestClassifier(random_state=0)\n",
    "    clf = clf.fit(X_train, y_train)\n",
    "    pred = clf.predict(X_test)\n",
    "    fpr, tpr, thresholds = roc_curve(y_test, pred, pos_label=1)\n",
    "    auc(fpr, tpr)\n",
    "    accuracy_score(pred, y_test)\n",
    "\n",
    "    # テストデータ\n",
    "    clf = RandomForestClassifier(random_state=0)\n",
    "    clf = clf.fit(X_train, y_train)\n",
    "    testpred = clf.predict(testdata)\n",
    "    submission5 = clf.predict_proba(testdata)\n",
    "\n",
    "    list4 =[0, \"TARGET\"]\n",
    "\n",
    "    submission4_df = pd.DataFrame(submission5,columns=list4)\n",
    "    submission_file4 = pd.concat([testdf[\"SK_ID_CURR\"], submission4_df[\"TARGET\"]], axis=1) \n",
    "\n",
    "    return auc(fpr, tpr), accuracy_score(pred, y_test), submission_file4\n",
    "\n",
    "#submission_file4.to_csv(\"kaggle_homecredit\", index=False)"
   ]
  },
  {
   "cell_type": "code",
   "execution_count": 49,
   "metadata": {},
   "outputs": [],
   "source": [
    "auc, accuracy, submission_file8 = clf_train(train_total_df_missing,test_total_df_missing)"
   ]
  },
  {
   "cell_type": "code",
   "execution_count": 50,
   "metadata": {},
   "outputs": [
    {
     "data": {
      "text/plain": [
       "0.999154512787994"
      ]
     },
     "execution_count": 50,
     "metadata": {},
     "output_type": "execute_result"
    }
   ],
   "source": [
    "accuracy"
   ]
  },
  {
   "cell_type": "code",
   "execution_count": 52,
   "metadata": {},
   "outputs": [
    {
     "data": {
      "text/plain": [
       "0.9946446961894954"
      ]
     },
     "execution_count": 52,
     "metadata": {},
     "output_type": "execute_result"
    }
   ],
   "source": [
    "auc"
   ]
  },
  {
   "cell_type": "code",
   "execution_count": 51,
   "metadata": {},
   "outputs": [],
   "source": [
    "submission_file8.to_csv(\"kaggle_homecredit8\", index=False)"
   ]
  },
  {
   "cell_type": "markdown",
   "metadata": {},
   "source": [
    "### パターン５：train_test_splitをやめて、出来るだけ多くのデータで学習する"
   ]
  },
  {
   "cell_type": "code",
   "execution_count": 54,
   "metadata": {},
   "outputs": [],
   "source": [
    "#訓練データとテストデータを分け学習し、提出ファイルを作るところまでを関数化する   \n",
    "\n",
    "def clf_train２(traindata,testdata):\n",
    "    #テストと訓練用に分ける\n",
    "    X, y  = np.array(traindata), np.array(df[\"TARGET\"])\n",
    "\n",
    "    from sklearn.metrics import (roc_curve, auc, accuracy_score)\n",
    "\n",
    "    #ランダムフォレスト\n",
    "    from sklearn.ensemble import RandomForestClassifier\n",
    "\n",
    "    clf = RandomForestClassifier(random_state=0)\n",
    "    clf = clf.fit(X, y)\n",
    "    \n",
    "    # テストデータ\n",
    "    testpred = clf.predict(testdata)\n",
    "    submission5 = clf.predict_proba(testdata)\n",
    "\n",
    "    list4 =[0, \"TARGET\"]\n",
    "\n",
    "    submission4_df = pd.DataFrame(submission5,columns=list4)\n",
    "    submission_file4 = pd.concat([testdf[\"SK_ID_CURR\"], submission4_df[\"TARGET\"]], axis=1) \n",
    "\n",
    "    return submission_file4\n",
    "\n",
    "#submission_file4.to_csv(\"kaggle_homecredit\", index=False)"
   ]
  },
  {
   "cell_type": "code",
   "execution_count": 55,
   "metadata": {},
   "outputs": [],
   "source": [
    "submission_file9 = clf_train2(train_total_df_missing,test_total_df_missing)"
   ]
  },
  {
   "cell_type": "code",
   "execution_count": 56,
   "metadata": {},
   "outputs": [],
   "source": [
    "submission_file9.to_csv(\"kaggle_homecredit9\", index=False)"
   ]
  },
  {
   "cell_type": "code",
   "execution_count": 1,
   "metadata": {},
   "outputs": [],
   "source": [
    "# 結果はパターン３:行ごとに欠損している項目数を特徴量として加えてみる,が一番良かった。\n",
    "#private,0.61475\n",
    "#public,0.60573\n",
    "#であった。"
   ]
  },
  {
   "cell_type": "code",
   "execution_count": null,
   "metadata": {},
   "outputs": [],
   "source": []
  }
 ],
 "metadata": {
  "kernelspec": {
   "display_name": "Python 3",
   "language": "python",
   "name": "python3"
  },
  "language_info": {
   "codemirror_mode": {
    "name": "ipython",
    "version": 3
   },
   "file_extension": ".py",
   "mimetype": "text/x-python",
   "name": "python",
   "nbconvert_exporter": "python",
   "pygments_lexer": "ipython3",
   "version": "3.7.0"
  },
  "toc": {
   "base_numbering": 1,
   "nav_menu": {},
   "number_sections": true,
   "sideBar": true,
   "skip_h1_title": false,
   "title_cell": "Table of Contents",
   "title_sidebar": "Contents",
   "toc_cell": false,
   "toc_position": {
    "height": "calc(100% - 180px)",
    "left": "10px",
    "top": "150px",
    "width": "165px"
   },
   "toc_section_display": true,
   "toc_window_display": false
  },
  "varInspector": {
   "cols": {
    "lenName": 16,
    "lenType": 16,
    "lenVar": 40
   },
   "kernels_config": {
    "python": {
     "delete_cmd_postfix": "",
     "delete_cmd_prefix": "del ",
     "library": "var_list.py",
     "varRefreshCmd": "print(var_dic_list())"
    },
    "r": {
     "delete_cmd_postfix": ") ",
     "delete_cmd_prefix": "rm(",
     "library": "var_list.r",
     "varRefreshCmd": "cat(var_dic_list()) "
    }
   },
   "types_to_exclude": [
    "module",
    "function",
    "builtin_function_or_method",
    "instance",
    "_Feature"
   ],
   "window_display": false
  }
 },
 "nbformat": 4,
 "nbformat_minor": 2
}
