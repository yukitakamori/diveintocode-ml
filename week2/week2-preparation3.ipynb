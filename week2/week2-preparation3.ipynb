{
 "cells": [
  {
   "cell_type": "markdown",
   "metadata": {},
   "source": [
    "# 行列積"
   ]
  },
  {
   "cell_type": "markdown",
   "metadata": {},
   "source": [
    "## 【問題1】行列積を手計算する"
   ]
  },
  {
   "cell_type": "code",
   "execution_count": null,
   "metadata": {},
   "outputs": [],
   "source": [
    "A{{-1,  2,  3},\n",
    "     {4,  -5,  6},\n",
    "     {7,  8,  -9}} \n",
    "*\n",
    "B{{0,  2,  1},\n",
    "    {0,  2,  -8},\n",
    "    {2,  9,  -1}}\n",
    "\n",
    "= {{6,  29,  -20},\n",
    "     {12,  52,  38},\n",
    "     {-18,  -51,  -48}}\n",
    "\n",
    "= {{-1*0+2*0+3*2,  -1*2+2*2+3*9,  -1*1+2*(-8)+3*(-1)},\n",
    "     {4*0+(-5)*0+6*2,  4*2+(-5)*2+6*9,  4*1+(-5)*(-8)+6*(-1)},\n",
    "     {7*0+8*0+(-9)*2,  7*2+8*2+(-9)*9,  7*1+8*(-8)+(-9)*(-1)}}"
   ]
  },
  {
   "cell_type": "markdown",
   "metadata": {},
   "source": [
    "##  【問題2】NumPyの関数による計算"
   ]
  },
  {
   "cell_type": "code",
   "execution_count": 10,
   "metadata": {},
   "outputs": [
    {
     "name": "stdout",
     "output_type": "stream",
     "text": [
      "[[  6  29 -20]\n",
      " [ 12  52  38]\n",
      " [-18 -51 -48]]\n"
     ]
    }
   ],
   "source": [
    "import numpy as np\n",
    "\n",
    "a_ndarray = np.array([[-1, 2, 3], [4, -5, 6], [7, 8, -9]])\n",
    "b_ndarray = np.array([[0, 2, 1], [0, 2, -8], [2, 9, -1]])\n",
    "\n",
    "ab_ndarray = a_ndarray @ b_ndarray\n",
    "\n",
    "print(ab_ndarray)"
   ]
  },
  {
   "cell_type": "markdown",
   "metadata": {},
   "source": [
    "# 行列積のスクラッチ実装"
   ]
  },
  {
   "cell_type": "markdown",
   "metadata": {},
   "source": [
    "##  【問題3】ある要素の計算を実装"
   ]
  },
  {
   "cell_type": "code",
   "execution_count": 69,
   "metadata": {},
   "outputs": [
    {
     "name": "stdout",
     "output_type": "stream",
     "text": [
      "[[  6  29 -20]\n",
      " [ 12  52  38]\n",
      " [-18 -51 -48]]\n"
     ]
    }
   ],
   "source": [
    "# ２次元配列を返す関数\n",
    "\n",
    "def matrix_multiplication (a_ndarray, b_ndarray):\n",
    "\n",
    "    # 形を取り出す\n",
    "    a_row, a_column = a_ndarray.shape\n",
    "    b_row, b_column = b_ndarray.shape\n",
    "    #print(a_row, a_column)\n",
    "    \n",
    "    if a_column != b_row:\n",
    "        return print(\"Error: 行列の列と行が揃っていません\")\n",
    "        \n",
    "\n",
    "    # 要素数a_row*b_columnのリスト作成\n",
    "    arow_bcolumn_list = []\n",
    "    #i行j列の内積\n",
    "    ij_multiplication = []\n",
    "    for i in range(a_row): # 行を一つずらしてループ\n",
    "        for j in range(b_column): # i行固定で０〜b_column列までかける\n",
    "            a_b = a_ndarray[i] * b_ndarray[:, j]# a配列i行＊b配列j行の積\n",
    "            a_blist = sum(a_b)# a配列i行＊b配列j行の内積\n",
    "            ij_multiplication.append(a_blist)\n",
    "        \n",
    "        arow_bcolumn_list.append(ij_multiplication)\n",
    "        ij_multiplication = []\n",
    "        #print(arow_bcolumn_list)\n",
    "\n",
    "    ab_ndarray = np.array(arow_bcolumn_list).reshape(a_row, b_column)\n",
    "\n",
    "    return(ab_ndarray)\n",
    "\n",
    "print(matrix_multiplication(a_ndarray, b_ndarray))"
   ]
  },
  {
   "cell_type": "markdown",
   "metadata": {},
   "source": [
    "## 【問題4】行列積を行う関数の作成\n"
   ]
  },
  {
   "cell_type": "code",
   "execution_count": 70,
   "metadata": {},
   "outputs": [
    {
     "name": "stdout",
     "output_type": "stream",
     "text": [
      "[[  6  29 -20]\n",
      " [ 12  52  38]\n",
      " [-18 -51 -48]]\n"
     ]
    }
   ],
   "source": [
    "# ２次元配列を返す関数\n",
    "\n",
    "def matrix_multiplication (a_ndarray, b_ndarray):\n",
    "\n",
    "    # 形を取り出す\n",
    "    a_row, a_column = a_ndarray.shape\n",
    "    b_row, b_column = b_ndarray.shape\n",
    "    #print(a_row, a_column)\n",
    "    \n",
    "    if a_column != b_row:# 例外処理\n",
    "        return print(\"Error: 行列の列と行が揃っていません\")\n",
    "        \n",
    "\n",
    "    # 要素数a_row*b_columnのリスト作成\n",
    "    arow_bcolumn_list = []\n",
    "    #i行j列の内積\n",
    "    ij_multiplication = []\n",
    "    for i in range(a_row): # 行を一つずらしてループ\n",
    "        for j in range(b_column): # i行固定で０〜b_column列までかける\n",
    "            a_b = a_ndarray[i] * b_ndarray[:, j]# a配列i行＊b配列j行の積\n",
    "            a_blist = sum(a_b)# a配列i行＊b配列j行の内積\n",
    "            ij_multiplication.append(a_blist)\n",
    "        \n",
    "        arow_bcolumn_list.append(ij_multiplication)\n",
    "        ij_multiplication = []\n",
    "        #print(arow_bcolumn_list)\n",
    "\n",
    "    ab_ndarray = np.array(arow_bcolumn_list).reshape(a_row, b_column)\n",
    "\n",
    "    return(ab_ndarray)\n",
    "\n",
    "print(matrix_multiplication(a_ndarray, b_ndarray))\n",
    "\n"
   ]
  },
  {
   "cell_type": "markdown",
   "metadata": {},
   "source": [
    "# 行列積が定義されない組み合わせの行列"
   ]
  },
  {
   "cell_type": "markdown",
   "metadata": {},
   "source": [
    "## 【問題5】計算が定義されない入力を判定する"
   ]
  },
  {
   "cell_type": "code",
   "execution_count": 72,
   "metadata": {},
   "outputs": [
    {
     "name": "stdout",
     "output_type": "stream",
     "text": [
      "Error: 行列の列と行が揃っていません\n",
      "None\n"
     ]
    }
   ],
   "source": [
    "d_ndarray = np.array([[-1, 2, 3], [4, -5, 6]])\n",
    "e_ndarray = np.array([[-9, 8, 7], [6, -5, 4]])\n",
    "\n",
    "print(matrix_multiplication(d_ndarray, e_ndarray))\n"
   ]
  },
  {
   "cell_type": "markdown",
   "metadata": {},
   "source": [
    "## 【問題6】転置"
   ]
  },
  {
   "cell_type": "code",
   "execution_count": 64,
   "metadata": {},
   "outputs": [
    {
     "name": "stdout",
     "output_type": "stream",
     "text": [
      "[[ 33 -28   9]\n",
      " [-48  41  -6]\n",
      " [  9  -6  45]]\n"
     ]
    }
   ],
   "source": [
    "print(matrix_multiplication(d_ndarray.T, e_ndarray))"
   ]
  },
  {
   "cell_type": "code",
   "execution_count": null,
   "metadata": {},
   "outputs": [],
   "source": []
  }
 ],
 "metadata": {
  "kernelspec": {
   "display_name": "Python 3",
   "language": "python",
   "name": "python3"
  },
  "language_info": {
   "codemirror_mode": {
    "name": "ipython",
    "version": 3
   },
   "file_extension": ".py",
   "mimetype": "text/x-python",
   "name": "python",
   "nbconvert_exporter": "python",
   "pygments_lexer": "ipython3",
   "version": "3.7.2"
  },
  "toc": {
   "base_numbering": 1,
   "nav_menu": {},
   "number_sections": true,
   "sideBar": true,
   "skip_h1_title": false,
   "title_cell": "Table of Contents",
   "title_sidebar": "Contents",
   "toc_cell": false,
   "toc_position": {},
   "toc_section_display": true,
   "toc_window_display": false
  },
  "varInspector": {
   "cols": {
    "lenName": 16,
    "lenType": 16,
    "lenVar": 40
   },
   "kernels_config": {
    "python": {
     "delete_cmd_postfix": "",
     "delete_cmd_prefix": "del ",
     "library": "var_list.py",
     "varRefreshCmd": "print(var_dic_list())"
    },
    "r": {
     "delete_cmd_postfix": ") ",
     "delete_cmd_prefix": "rm(",
     "library": "var_list.r",
     "varRefreshCmd": "cat(var_dic_list()) "
    }
   },
   "types_to_exclude": [
    "module",
    "function",
    "builtin_function_or_method",
    "instance",
    "_Feature"
   ],
   "window_display": false
  }
 },
 "nbformat": 4,
 "nbformat_minor": 2
}
