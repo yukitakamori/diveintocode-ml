{
 "cells": [
  {
   "cell_type": "markdown",
   "metadata": {},
   "source": [
    "# 小麦とチェス盤問題"
   ]
  },
  {
   "cell_type": "markdown",
   "metadata": {},
   "source": [
    "##  少ないマスで考える"
   ]
  },
  {
   "cell_type": "code",
   "execution_count": 5,
   "metadata": {
    "ExecuteTime": {
     "end_time": "2019-07-12T07:55:45.053749Z",
     "start_time": "2019-07-12T07:55:45.044781Z"
    }
   },
   "outputs": [
    {
     "name": "stdout",
     "output_type": "stream",
     "text": [
      "４マスの板に小麦を並べる（リスト）:[1, 2, 4, 8]\n",
      "４マスの板に小麦を並べる（ndarray）:[1 2 4 8]\n"
     ]
    }
   ],
   "source": [
    "import numpy as np\n",
    "\n",
    "n_squares = 4\n",
    "small_board_list = [1]\n",
    "\n",
    "for _ in range(n_squares - 1):\n",
    "    small_board_list.append(2*small_board_list[-1])\n",
    "\n",
    "print(\"４マスの板に小麦を並べる（リスト）:{}\".format(small_board_list))\n",
    "\n",
    "\n",
    "small_board_ndarray = np.array(small_board_list)\n",
    "\n",
    "print(\"４マスの板に小麦を並べる（ndarray）:{}\".format(small_board_ndarray))"
   ]
  },
  {
   "cell_type": "markdown",
   "metadata": {},
   "source": [
    "### 【問題1】2×2マスのチェス盤の小麦の数"
   ]
  },
  {
   "cell_type": "code",
   "execution_count": 8,
   "metadata": {},
   "outputs": [
    {
     "name": "stdout",
     "output_type": "stream",
     "text": [
      "[[1 2]\n",
      " [4 8]]\n",
      "(2, 2)\n"
     ]
    }
   ],
   "source": [
    "board2_2array = small_board_ndarray.reshape(2,2)\n",
    "print(board2_2array)\n",
    "print(board2_2array.shape)"
   ]
  },
  {
   "cell_type": "markdown",
   "metadata": {},
   "source": [
    "## 8×8マスのチェス盤"
   ]
  },
  {
   "cell_type": "markdown",
   "metadata": {},
   "source": [
    "### 【問題2】n×mマスへの拡張"
   ]
  },
  {
   "cell_type": "code",
   "execution_count": 90,
   "metadata": {},
   "outputs": [
    {
     "name": "stdout",
     "output_type": "stream",
     "text": [
      "(array([[1.00000000e+00, 2.00000000e+00, 4.00000000e+00, 8.00000000e+00,\n",
      "        1.60000000e+01, 3.20000000e+01, 6.40000000e+01, 1.28000000e+02],\n",
      "       [2.56000000e+02, 5.12000000e+02, 1.02400000e+03, 2.04800000e+03,\n",
      "        4.09600000e+03, 8.19200000e+03, 1.63840000e+04, 3.27680000e+04],\n",
      "       [6.55360000e+04, 1.31072000e+05, 2.62144000e+05, 5.24288000e+05,\n",
      "        1.04857600e+06, 2.09715200e+06, 4.19430400e+06, 8.38860800e+06],\n",
      "       [1.67772160e+07, 3.35544320e+07, 6.71088640e+07, 1.34217728e+08,\n",
      "        2.68435456e+08, 5.36870912e+08, 1.07374182e+09, 2.14748365e+09],\n",
      "       [4.29496730e+09, 8.58993459e+09, 1.71798692e+10, 3.43597384e+10,\n",
      "        6.87194767e+10, 1.37438953e+11, 2.74877907e+11, 5.49755814e+11],\n",
      "       [1.09951163e+12, 2.19902326e+12, 4.39804651e+12, 8.79609302e+12,\n",
      "        1.75921860e+13, 3.51843721e+13, 7.03687442e+13, 1.40737488e+14],\n",
      "       [2.81474977e+14, 5.62949953e+14, 1.12589991e+15, 2.25179981e+15,\n",
      "        4.50359963e+15, 9.00719925e+15, 1.80143985e+16, 3.60287970e+16],\n",
      "       [7.20575940e+16, 1.44115188e+17, 2.88230376e+17, 5.76460752e+17,\n",
      "        1.15292150e+18, 2.30584301e+18, 4.61168602e+18, 9.22337204e+18]]), (8, 8))\n"
     ]
    }
   ],
   "source": [
    "#関数は(n,m)が引数 :n*mマスの盤\n",
    "# returnは、n*mマスの盤の１＊{２＊＊(n＊m)}のarray\n",
    "\n",
    "def chessboard_1(n,m): #n*mのチェス盤\n",
    "    grains = 1\n",
    "    count = 1\n",
    "    board_list  = [1]\n",
    "    \n",
    "    number_of_boxes = n * m\n",
    "   \n",
    "    if number_of_boxes < 1: #マスの数が１より小さい時False\n",
    "        return False\n",
    "    \n",
    "    elif type(number_of_boxes) == float: #nとmが整数じゃない時False\n",
    "        return False\n",
    "    \n",
    "    else:\n",
    "        for i in range(number_of_boxes - 1):\n",
    "            board_list.append (2 * board_list[-1])\n",
    "            \n",
    "        #print(\"n*mマスの板に小麦を並べる（リスト）:{}\".format(board_list))\n",
    "        \n",
    "        board_ndarray = np.array(board_list)\n",
    "        \n",
    "        #print(\"n*mマスの板に小麦を並べる（ndarray）:{}\".format(board_ndarray))\n",
    "        \n",
    "        board_n_m_array = board_ndarray.reshape(n, m)\n",
    "            \n",
    "    return board_n_m_array, board_n_m_array.shape #配列とその形を返す\n",
    "\n",
    "\n",
    "print(chessboard_1 (8, 8))\n",
    "            \n",
    "        "
   ]
  },
  {
   "cell_type": "markdown",
   "metadata": {},
   "source": [
    "### 【問題3】小麦の数の合計"
   ]
  },
  {
   "cell_type": "code",
   "execution_count": 67,
   "metadata": {},
   "outputs": [
    {
     "data": {
      "image/png": "[encoded data removed]",
      "text/plain": [
       "<Figure size 432x288 with 1 Axes>"
      ]
     },
     "metadata": {
      "needs_background": "light"
     },
     "output_type": "display_data"
    },
    {
     "name": "stdout",
     "output_type": "stream",
     "text": [
      "8*8マスのチェス盤の小麦の合計は:1.8446744073709552e+19\n"
     ]
    }
   ],
   "source": [
    "import matplotlib.pyplot as plt\n",
    "%matplotlib inline\n",
    "\n",
    "\n",
    "board_n_m_array, _ = chessboard(8, 8) #8*8マスの配列を取り出す\n",
    "total_grains = board_n_m_array.sum() #合計\n",
    "mean_grains = board_n_m_array.mean(axis = 0) #列ごとの平均（要素数８）\n",
    "\n",
    "plt.xlabel(\"column\")\n",
    "plt.ylabel(\"number\")\n",
    "plt.title(\"each column average\")\n",
    "plt.bar(np.arange(1,9), mean_grains)\n",
    "plt.show()\n",
    "\n",
    "print(\"8*8マスのチェス盤の小麦の合計は:{}\".format(total_grains))"
   ]
  },
  {
   "cell_type": "markdown",
   "metadata": {},
   "source": [
    "### 【問題4】小麦の数のヒートマップ"
   ]
  },
  {
   "cell_type": "code",
   "execution_count": 63,
   "metadata": {
    "scrolled": true
   },
   "outputs": [
    {
     "data": {
      "image/png": "[encoded data removed]",
      "text/plain": [
       "<Figure size 432x288 with 2 Axes>"
      ]
     },
     "metadata": {
      "needs_background": "light"
     },
     "output_type": "display_data"
    }
   ],
   "source": [
    "board_n_m_array, _ = chessboard(8, 8)\n",
    "\n",
    "plt.xlabel(\"column\")\n",
    "plt.ylabel(\"row\")\n",
    "plt.title(\"heatmap\")\n",
    "plt.pcolor(board_n_m_array)　#右上ほど数が大きくなり、黄色くなる\n",
    "plt.colorbar()\n",
    "plt.show()"
   ]
  },
  {
   "cell_type": "markdown",
   "metadata": {},
   "source": [
    "## チェス盤の後半"
   ]
  },
  {
   "cell_type": "markdown",
   "metadata": {},
   "source": [
    "### 【問題5】後半は前半の何倍か"
   ]
  },
  {
   "cell_type": "code",
   "execution_count": 72,
   "metadata": {},
   "outputs": [
    {
     "name": "stdout",
     "output_type": "stream",
     "text": [
      "4294967295.0\n",
      "1.8446744069414584e+19\n",
      "後半の行は前半の4294967296.0倍\n"
     ]
    }
   ],
   "source": [
    "array0_3 = board_n_m_array[0:4].sum()\n",
    "array4_7 = board_n_m_array[4:8].sum()\n",
    "\n",
    "print(array0_3)\n",
    "print(array4_7)\n",
    "\n",
    "quotient = array4_7 /array0_3\n",
    "print(\"後半の行は前半の{}倍\".format(quotient))"
   ]
  },
  {
   "cell_type": "markdown",
   "metadata": {},
   "source": [
    "## 他の計算方法"
   ]
  },
  {
   "cell_type": "markdown",
   "metadata": {},
   "source": [
    "### 【問題6】他の計算方法によるn×mマスへの拡張"
   ]
  },
  {
   "cell_type": "markdown",
   "metadata": {},
   "source": [
    "#### 「n×mマスのチェス盤の小麦の数を記したndarrayを返す関数」を、np.append()を使ったもので作る"
   ]
  },
  {
   "cell_type": "code",
   "execution_count": 91,
   "metadata": {},
   "outputs": [
    {
     "name": "stdout",
     "output_type": "stream",
     "text": [
      "n*mマスの板に小麦を並べる（ndarray）：[[1.00000000e+00 2.00000000e+00 4.00000000e+00 8.00000000e+00\n",
      "  1.60000000e+01 3.20000000e+01 6.40000000e+01 1.28000000e+02]\n",
      " [2.56000000e+02 5.12000000e+02 1.02400000e+03 2.04800000e+03\n",
      "  4.09600000e+03 8.19200000e+03 1.63840000e+04 3.27680000e+04]\n",
      " [6.55360000e+04 1.31072000e+05 2.62144000e+05 5.24288000e+05\n",
      "  1.04857600e+06 2.09715200e+06 4.19430400e+06 8.38860800e+06]\n",
      " [1.67772160e+07 3.35544320e+07 6.71088640e+07 1.34217728e+08\n",
      "  2.68435456e+08 5.36870912e+08 1.07374182e+09 2.14748365e+09]\n",
      " [4.29496730e+09 8.58993459e+09 1.71798692e+10 3.43597384e+10\n",
      "  6.87194767e+10 1.37438953e+11 2.74877907e+11 5.49755814e+11]\n",
      " [1.09951163e+12 2.19902326e+12 4.39804651e+12 8.79609302e+12\n",
      "  1.75921860e+13 3.51843721e+13 7.03687442e+13 1.40737488e+14]\n",
      " [2.81474977e+14 5.62949953e+14 1.12589991e+15 2.25179981e+15\n",
      "  4.50359963e+15 9.00719925e+15 1.80143985e+16 3.60287970e+16]\n",
      " [7.20575940e+16 1.44115188e+17 2.88230376e+17 5.76460752e+17\n",
      "  1.15292150e+18 2.30584301e+18 4.61168602e+18 9.22337204e+18]]\n"
     ]
    }
   ],
   "source": [
    "def chessboard_2(n, m):\n",
    "    n_squares = n*m\n",
    "    board_ndarray = np.array([1]).astype(np.uint64)\n",
    "\n",
    "    for _ in range(n_squares - 1):\n",
    "        board_ndarray = np.append(board_ndarray, 2*board_ndarray[-1])\n",
    "    \n",
    "    board_ndarray = board_ndarray.reshape(n, m)\n",
    "    return(\"n*mマスの板に小麦を並べる（ndarray）：{}\".format(board_ndarray))\n",
    "\n",
    "print(chessboard_2(8, 8))"
   ]
  },
  {
   "cell_type": "markdown",
   "metadata": {},
   "source": [
    "#### ブロードキャストを使ったもので作る"
   ]
  },
  {
   "cell_type": "code",
   "execution_count": 92,
   "metadata": {},
   "outputs": [
    {
     "name": "stdout",
     "output_type": "stream",
     "text": [
      "最後のマスの小麦の数：9223372036854775808\n"
     ]
    }
   ],
   "source": [
    "def chessboard_3(n, m):\n",
    "    n_squares = n*m\n",
    "    indices_of_squares = np.arange(n_squares).astype(np.uint64)\n",
    "    board_ndarray = 2**indices_of_squares\n",
    "    \n",
    "    return(\"最後のマスの小麦の数：{}\".format(board_ndarray[-1]))\n",
    "\n",
    "print(chessboard_3(8, 8))"
   ]
  },
  {
   "cell_type": "markdown",
   "metadata": {},
   "source": [
    "### 【問題7】計算時間の比較"
   ]
  },
  {
   "cell_type": "code",
   "execution_count": 97,
   "metadata": {
    "scrolled": true
   },
   "outputs": [
    {
     "name": "stdout",
     "output_type": "stream",
     "text": [
      "19 µs ± 1.04 µs per loop (mean ± std. dev. of 7 runs, 100000 loops each)\n"
     ]
    }
   ],
   "source": [
    "%%timeit\n",
    "\n",
    "chessboard_1(8, 8)"
   ]
  },
  {
   "cell_type": "code",
   "execution_count": 100,
   "metadata": {},
   "outputs": [
    {
     "data": {
      "text/plain": [
       "(array([[1.00000000e+00, 2.00000000e+00, 4.00000000e+00, 8.00000000e+00,\n",
       "         1.60000000e+01, 3.20000000e+01, 6.40000000e+01, 1.28000000e+02],\n",
       "        [2.56000000e+02, 5.12000000e+02, 1.02400000e+03, 2.04800000e+03,\n",
       "         4.09600000e+03, 8.19200000e+03, 1.63840000e+04, 3.27680000e+04],\n",
       "        [6.55360000e+04, 1.31072000e+05, 2.62144000e+05, 5.24288000e+05,\n",
       "         1.04857600e+06, 2.09715200e+06, 4.19430400e+06, 8.38860800e+06],\n",
       "        [1.67772160e+07, 3.35544320e+07, 6.71088640e+07, 1.34217728e+08,\n",
       "         2.68435456e+08, 5.36870912e+08, 1.07374182e+09, 2.14748365e+09],\n",
       "        [4.29496730e+09, 8.58993459e+09, 1.71798692e+10, 3.43597384e+10,\n",
       "         6.87194767e+10, 1.37438953e+11, 2.74877907e+11, 5.49755814e+11],\n",
       "        [1.09951163e+12, 2.19902326e+12, 4.39804651e+12, 8.79609302e+12,\n",
       "         1.75921860e+13, 3.51843721e+13, 7.03687442e+13, 1.40737488e+14],\n",
       "        [2.81474977e+14, 5.62949953e+14, 1.12589991e+15, 2.25179981e+15,\n",
       "         4.50359963e+15, 9.00719925e+15, 1.80143985e+16, 3.60287970e+16],\n",
       "        [7.20575940e+16, 1.44115188e+17, 2.88230376e+17, 5.76460752e+17,\n",
       "         1.15292150e+18, 2.30584301e+18, 4.61168602e+18, 9.22337204e+18]]),\n",
       " (8, 8))"
      ]
     },
     "execution_count": 100,
     "metadata": {},
     "output_type": "execute_result"
    }
   ],
   "source": [
    "chessboard_1(8, 8)"
   ]
  },
  {
   "cell_type": "code",
   "execution_count": 98,
   "metadata": {},
   "outputs": [
    {
     "name": "stdout",
     "output_type": "stream",
     "text": [
      "1.11 ms ± 95 µs per loop (mean ± std. dev. of 7 runs, 1000 loops each)\n"
     ]
    }
   ],
   "source": [
    "%%timeit\n",
    "\n",
    "chessboard_2(8, 8)"
   ]
  },
  {
   "cell_type": "code",
   "execution_count": 101,
   "metadata": {},
   "outputs": [
    {
     "data": {
      "text/plain": [
       "'n*mマスの板に小麦を並べる（ndarray）：[[1.00000000e+00 2.00000000e+00 4.00000000e+00 8.00000000e+00\\n  1.60000000e+01 3.20000000e+01 6.40000000e+01 1.28000000e+02]\\n [2.56000000e+02 5.12000000e+02 1.02400000e+03 2.04800000e+03\\n  4.09600000e+03 8.19200000e+03 1.63840000e+04 3.27680000e+04]\\n [6.55360000e+04 1.31072000e+05 2.62144000e+05 5.24288000e+05\\n  1.04857600e+06 2.09715200e+06 4.19430400e+06 8.38860800e+06]\\n [1.67772160e+07 3.35544320e+07 6.71088640e+07 1.34217728e+08\\n  2.68435456e+08 5.36870912e+08 1.07374182e+09 2.14748365e+09]\\n [4.29496730e+09 8.58993459e+09 1.71798692e+10 3.43597384e+10\\n  6.87194767e+10 1.37438953e+11 2.74877907e+11 5.49755814e+11]\\n [1.09951163e+12 2.19902326e+12 4.39804651e+12 8.79609302e+12\\n  1.75921860e+13 3.51843721e+13 7.03687442e+13 1.40737488e+14]\\n [2.81474977e+14 5.62949953e+14 1.12589991e+15 2.25179981e+15\\n  4.50359963e+15 9.00719925e+15 1.80143985e+16 3.60287970e+16]\\n [7.20575940e+16 1.44115188e+17 2.88230376e+17 5.76460752e+17\\n  1.15292150e+18 2.30584301e+18 4.61168602e+18 9.22337204e+18]]'"
      ]
     },
     "execution_count": 101,
     "metadata": {},
     "output_type": "execute_result"
    }
   ],
   "source": [
    "chessboard_2(8, 8)"
   ]
  },
  {
   "cell_type": "code",
   "execution_count": 99,
   "metadata": {},
   "outputs": [
    {
     "name": "stdout",
     "output_type": "stream",
     "text": [
      "5.07 µs ± 131 ns per loop (mean ± std. dev. of 7 runs, 100000 loops each)\n"
     ]
    }
   ],
   "source": [
    "%%timeit\n",
    "\n",
    "chessboard_3(8, 8)"
   ]
  },
  {
   "cell_type": "code",
   "execution_count": 102,
   "metadata": {},
   "outputs": [
    {
     "data": {
      "text/plain": [
       "'最後のマスの小麦の数：9223372036854775808'"
      ]
     },
     "execution_count": 102,
     "metadata": {},
     "output_type": "execute_result"
    }
   ],
   "source": [
    "chessboard_3(8, 8)"
   ]
  },
  {
   "cell_type": "code",
   "execution_count": null,
   "metadata": {},
   "outputs": [],
   "source": []
  }
 ],
 "metadata": {
  "kernelspec": {
   "display_name": "Python 3",
   "language": "python",
   "name": "python3"
  },
  "language_info": {
   "codemirror_mode": {
    "name": "ipython",
    "version": 3
   },
   "file_extension": ".py",
   "mimetype": "text/x-python",
   "name": "python",
   "nbconvert_exporter": "python",
   "pygments_lexer": "ipython3",
   "version": "3.7.2"
  },
  "toc": {
   "base_numbering": 1,
   "nav_menu": {},
   "number_sections": true,
   "sideBar": true,
   "skip_h1_title": false,
   "title_cell": "Table of Contents",
   "title_sidebar": "Contents",
   "toc_cell": false,
   "toc_position": {
    "height": "calc(100% - 180px)",
    "left": "10px",
    "top": "150px",
    "width": "165px"
   },
   "toc_section_display": true,
   "toc_window_display": false
  },
  "varInspector": {
   "cols": {
    "lenName": 16,
    "lenType": 16,
    "lenVar": 40
   },
   "kernels_config": {
    "python": {
     "delete_cmd_postfix": "",
     "delete_cmd_prefix": "del ",
     "library": "var_list.py",
     "varRefreshCmd": "print(var_dic_list())"
    },
    "r": {
     "delete_cmd_postfix": ") ",
     "delete_cmd_prefix": "rm(",
     "library": "var_list.r",
     "varRefreshCmd": "cat(var_dic_list()) "
    }
   },
   "types_to_exclude": [
    "module",
    "function",
    "builtin_function_or_method",
    "instance",
    "_Feature"
   ],
   "window_display": false
  }
 },
 "nbformat": 4,
 "nbformat_minor": 2
}
