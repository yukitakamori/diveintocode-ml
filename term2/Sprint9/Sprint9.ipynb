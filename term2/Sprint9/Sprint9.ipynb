{
 "cells": [
  {
   "cell_type": "markdown",
   "metadata": {},
   "source": [
    "# MNISTデータセット"
   ]
  },
  {
   "cell_type": "code",
   "execution_count": 1,
   "metadata": {},
   "outputs": [],
   "source": [
    "import numpy as np\n",
    "import pandas as pd\n",
    "import matplotlib.pyplot as plt\n",
    "\n",
    "from sklearn.model_selection import train_test_split\n",
    "from sklearn.metrics import accuracy_score, precision_score, recall_score, f1_score, confusion_matrix"
   ]
  },
  {
   "cell_type": "code",
   "execution_count": 2,
   "metadata": {},
   "outputs": [
    {
     "name": "stderr",
     "output_type": "stream",
     "text": [
      "Using TensorFlow backend.\n"
     ]
    }
   ],
   "source": [
    "from keras.datasets import mnist\n",
    "(X_train, y_train), (X_test, y_test) = mnist.load_data()\n"
   ]
  },
  {
   "cell_type": "markdown",
   "metadata": {},
   "source": [
    "## データセットの確認"
   ]
  },
  {
   "cell_type": "code",
   "execution_count": 3,
   "metadata": {},
   "outputs": [
    {
     "name": "stdout",
     "output_type": "stream",
     "text": [
      "(60000, 28, 28)\n",
      "(10000, 28, 28)\n",
      "uint8\n",
      "[[  0   0   0   0   0   0   0   0   0   0   0   0   0   0   0   0   0   0\n",
      "    0   0   0   0   0   0   0   0   0   0]\n",
      " [  0   0   0   0   0   0   0   0   0   0   0   0   0   0   0   0   0   0\n",
      "    0   0   0   0   0   0   0   0   0   0]\n",
      " [  0   0   0   0   0   0   0   0   0   0   0   0   0   0   0   0   0   0\n",
      "    0   0   0   0   0   0   0   0   0   0]\n",
      " [  0   0   0   0   0   0   0   0   0   0   0   0   0   0   0   0   0   0\n",
      "    0   0   0   0   0   0   0   0   0   0]\n",
      " [  0   0   0   0   0   0   0   0   0   0   0   0   0   0   0   0   0   0\n",
      "    0   0   0   0   0   0   0   0   0   0]\n",
      " [  0   0   0   0   0   0   0   0   0   0   0   0   3  18  18  18 126 136\n",
      "  175  26 166 255 247 127   0   0   0   0]\n",
      " [  0   0   0   0   0   0   0   0  30  36  94 154 170 253 253 253 253 253\n",
      "  225 172 253 242 195  64   0   0   0   0]\n",
      " [  0   0   0   0   0   0   0  49 238 253 253 253 253 253 253 253 253 251\n",
      "   93  82  82  56  39   0   0   0   0   0]\n",
      " [  0   0   0   0   0   0   0  18 219 253 253 253 253 253 198 182 247 241\n",
      "    0   0   0   0   0   0   0   0   0   0]\n",
      " [  0   0   0   0   0   0   0   0  80 156 107 253 253 205  11   0  43 154\n",
      "    0   0   0   0   0   0   0   0   0   0]\n",
      " [  0   0   0   0   0   0   0   0   0  14   1 154 253  90   0   0   0   0\n",
      "    0   0   0   0   0   0   0   0   0   0]\n",
      " [  0   0   0   0   0   0   0   0   0   0   0 139 253 190   2   0   0   0\n",
      "    0   0   0   0   0   0   0   0   0   0]\n",
      " [  0   0   0   0   0   0   0   0   0   0   0  11 190 253  70   0   0   0\n",
      "    0   0   0   0   0   0   0   0   0   0]\n",
      " [  0   0   0   0   0   0   0   0   0   0   0   0  35 241 225 160 108   1\n",
      "    0   0   0   0   0   0   0   0   0   0]\n",
      " [  0   0   0   0   0   0   0   0   0   0   0   0   0  81 240 253 253 119\n",
      "   25   0   0   0   0   0   0   0   0   0]\n",
      " [  0   0   0   0   0   0   0   0   0   0   0   0   0   0  45 186 253 253\n",
      "  150  27   0   0   0   0   0   0   0   0]\n",
      " [  0   0   0   0   0   0   0   0   0   0   0   0   0   0   0  16  93 252\n",
      "  253 187   0   0   0   0   0   0   0   0]\n",
      " [  0   0   0   0   0   0   0   0   0   0   0   0   0   0   0   0   0 249\n",
      "  253 249  64   0   0   0   0   0   0   0]\n",
      " [  0   0   0   0   0   0   0   0   0   0   0   0   0   0  46 130 183 253\n",
      "  253 207   2   0   0   0   0   0   0   0]\n",
      " [  0   0   0   0   0   0   0   0   0   0   0   0  39 148 229 253 253 253\n",
      "  250 182   0   0   0   0   0   0   0   0]\n",
      " [  0   0   0   0   0   0   0   0   0   0  24 114 221 253 253 253 253 201\n",
      "   78   0   0   0   0   0   0   0   0   0]\n",
      " [  0   0   0   0   0   0   0   0  23  66 213 253 253 253 253 198  81   2\n",
      "    0   0   0   0   0   0   0   0   0   0]\n",
      " [  0   0   0   0   0   0  18 171 219 253 253 253 253 195  80   9   0   0\n",
      "    0   0   0   0   0   0   0   0   0   0]\n",
      " [  0   0   0   0  55 172 226 253 253 253 253 244 133  11   0   0   0   0\n",
      "    0   0   0   0   0   0   0   0   0   0]\n",
      " [  0   0   0   0 136 253 253 253 212 135 132  16   0   0   0   0   0   0\n",
      "    0   0   0   0   0   0   0   0   0   0]\n",
      " [  0   0   0   0   0   0   0   0   0   0   0   0   0   0   0   0   0   0\n",
      "    0   0   0   0   0   0   0   0   0   0]\n",
      " [  0   0   0   0   0   0   0   0   0   0   0   0   0   0   0   0   0   0\n",
      "    0   0   0   0   0   0   0   0   0   0]\n",
      " [  0   0   0   0   0   0   0   0   0   0   0   0   0   0   0   0   0   0\n",
      "    0   0   0   0   0   0   0   0   0   0]]\n"
     ]
    }
   ],
   "source": [
    "print(X_train.shape) # (60000, 28, 28)\n",
    "print(X_test.shape) # (10000, 28, 28)\n",
    "print(X_train[0].dtype) # uint8\n",
    "print(X_train[0])"
   ]
  },
  {
   "cell_type": "markdown",
   "metadata": {},
   "source": [
    "## 平滑化"
   ]
  },
  {
   "cell_type": "code",
   "execution_count": 4,
   "metadata": {},
   "outputs": [
    {
     "data": {
      "text/plain": [
       "(10000, 784)"
      ]
     },
     "execution_count": 4,
     "metadata": {},
     "output_type": "execute_result"
    }
   ],
   "source": [
    "X_train = X_train.reshape(-1, 784)\n",
    "X_test = X_test.reshape(-1, 784)\n",
    "\n",
    "X_train.shape\n",
    "X_test.shape\n"
   ]
  },
  {
   "cell_type": "markdown",
   "metadata": {},
   "source": [
    "## 画像データの可視化"
   ]
  },
  {
   "cell_type": "code",
   "execution_count": 5,
   "metadata": {},
   "outputs": [
    {
     "data": {
      "image/png": "[encoded data removed]",
      "text/plain": [
       "<Figure size 432x288 with 1 Axes>"
      ]
     },
     "metadata": {
      "needs_background": "light"
     },
     "output_type": "display_data"
    }
   ],
   "source": [
    "import matplotlib.pyplot as plt\n",
    "%matplotlib inline\n",
    "index = 0\n",
    "image = X_train[index].reshape(28,28)\n",
    "# X_train[index]: (784,)\n",
    "# image: (28, 28)\n",
    "plt.imshow(image, 'gray')\n",
    "plt.title('label : {}'.format(y_train[index]))\n",
    "plt.show()"
   ]
  },
  {
   "cell_type": "markdown",
   "metadata": {},
   "source": [
    "## 前処理\n"
   ]
  },
  {
   "cell_type": "code",
   "execution_count": 6,
   "metadata": {},
   "outputs": [
    {
     "name": "stdout",
     "output_type": "stream",
     "text": [
      "1.0\n",
      "0.0\n"
     ]
    }
   ],
   "source": [
    "X_train = X_train.astype(np.float)\n",
    "X_test = X_test.astype(np.float)\n",
    "X_train /= 255\n",
    "X_test /= 255\n",
    "print(X_train.max()) # 1.0\n",
    "print(X_train.min()) # 0.0"
   ]
  },
  {
   "cell_type": "code",
   "execution_count": 7,
   "metadata": {},
   "outputs": [
    {
     "name": "stdout",
     "output_type": "stream",
     "text": [
      "(60000,)\n",
      "(60000, 10)\n",
      "float64\n"
     ]
    }
   ],
   "source": [
    "from sklearn.preprocessing import OneHotEncoder\n",
    "enc = OneHotEncoder(handle_unknown='ignore', sparse=False)\n",
    "y_train_one_hot = enc.fit_transform(y_train[:, np.newaxis])\n",
    "y_test_one_hot = enc.transform(y_test[:, np.newaxis])\n",
    "print(y_train.shape) # (60000,)\n",
    "print(y_train_one_hot.shape) # (60000, 10)\n",
    "print(y_train_one_hot.dtype) # float64"
   ]
  },
  {
   "cell_type": "code",
   "execution_count": 8,
   "metadata": {},
   "outputs": [
    {
     "name": "stdout",
     "output_type": "stream",
     "text": [
      "X_train.shape = (48000, 784)\n",
      "X_val.shape = (12000, 784)\n",
      "y_train.shape = (48000, 10)\n",
      "y_val.shape = (12000, 10)\n"
     ]
    }
   ],
   "source": [
    "X_train_, X_val, y_train_, y_val = train_test_split(X_train, y_train_one_hot, test_size=0.2)\n",
    "print(\"X_train.shape =\", X_train_.shape)\n",
    "print(\"X_val.shape =\", X_val.shape)\n",
    "print(\"y_train.shape =\", y_train_.shape)\n",
    "print(\"y_val.shape =\", y_val.shape)"
   ]
  },
  {
   "cell_type": "markdown",
   "metadata": {},
   "source": [
    "# ニューラルネットワークスクラッチ"
   ]
  },
  {
   "cell_type": "code",
   "execution_count": 9,
   "metadata": {},
   "outputs": [],
   "source": [
    "class ScratchSimpleNeuralNetrowkClassifier():\n",
    "    \"\"\"\n",
    "    シンプルな三層ニューラルネットワーク分類器\n",
    "\n",
    "    Parameters\n",
    "    ----------\n",
    "    num_iter : int\n",
    "      イテレーション数\n",
    "    lr : float\n",
    "      学習率\n",
    "    no_bias : bool\n",
    "      バイアス項を入れない場合はTrue\n",
    "    verbose : bool\n",
    "      学習過程を出力する場合はTrue\n",
    "\n",
    "    Attributes\n",
    "    ----------\n",
    "    self.loss : 次の形のndarray, shape (self.iter,)\n",
    "      学習用データに対する損失の記録\n",
    "    self.val_loss : 次の形のndarray, shape (self.iter,)\n",
    "      検証用データに対する損失の記録\n",
    "    \"\"\"\n",
    "\n",
    "    def __init__(self, num_epoch = 10,lr = 0.01,batch_size = 20, n_features = 784, n_nodes1 = 400, n_nodes2 = 200, n_output = 10, verbose = False):\n",
    "        self.num_epoch = num_epoch\n",
    "        self.lr = lr\n",
    "        self.verbose = verbose\n",
    "        \n",
    "        self.batch_size = batch_size\n",
    "        self.n_features = n_features\n",
    "        self.n_nodes1 = n_nodes1\n",
    "        self.n_nodes2 = n_nodes2\n",
    "        self.n_output = n_output\n",
    "        \n",
    "        self.W1 = None\n",
    "        self.W2 = None\n",
    "        self.W3 = None\n",
    "        self.A1 = None\n",
    "        self.A2 = None\n",
    "        self.A3 = None\n",
    "        self.Z1 = None\n",
    "        self.Z2 = None\n",
    "        self.Z3 = None\n",
    "        \n",
    "        \n",
    "    def sigmoid(self):\n",
    "        \"\"\"\n",
    "        シグモイド関数の計算\n",
    "\n",
    "        \"\"\"\n",
    "        return 1 / (1 + np.exp(- self.A1))\n",
    "    \n",
    "    def softmax(self):\n",
    "        \"\"\"\n",
    "        Z3k: k番目のクラスの確率ベクトル (batch_size,)\n",
    "        A3k: k番目のクラスにあたる前の層からのベクトル (batch_size,)\n",
    "        nc : クラスの数、n_output。今回のMNISTでは10。\n",
    "        \"\"\"\n",
    "        self.Z3 = np.exp(self.A3) / np.reshape(np.sum(np.exp(self.A3), axis=1),(-1,1))\n",
    "\n",
    "        return self.Z3\n",
    "    \n",
    "    def get_WB(self,n_features, n_nodes):\n",
    "        self.sigma = 0.01\n",
    "        WB = self.sigma * np.random.randn(n_features, n_nodes)\n",
    "        \n",
    "        return WB\n",
    "            \n",
    "    def forwardpropagation(self,X):\n",
    "        \"\"\"\n",
    "        X : 特徴量ベクトル (batch_size, n_features)\n",
    "        W1 : 1層目の重み (n_features, n_nodes1)\n",
    "        B1: 1層目のバイアス (n_nodes1,)\n",
    "        A1: 出力 (batch_size, n_nodes1)\n",
    "        \"\"\"\n",
    "        self.A1 = X@self.W1 + self.B1     \n",
    "\n",
    "        \"\"\"\n",
    "        f(): 活性化関数\n",
    "        Z1出力 (batch_size, n_nodes1)\n",
    "        \"\"\"\n",
    "        self.Z1 = np.tanh(self.A1) \n",
    "\n",
    "        \"\"\"\n",
    "        W2: 2層目の重み (n_nodes1, n_nodes2)\n",
    "        B2: 2層目のバイアス (n_nodes2,)\n",
    "        A2: 出力 (batch_size, n_nodes2)\n",
    "        \"\"\"\n",
    "        self.A2 =self. Z1@self.W2 + self.B2\n",
    "\n",
    "        \"\"\"\n",
    "        f(): 活性化関数\n",
    "        Z2出力 (batch_size, n_nodes2)\n",
    "        \"\"\"\n",
    "        self.Z2 = np.tanh(self.A2)\n",
    "\n",
    "        \"\"\"\n",
    "        W3: 3層目の重み (n_nodes2, n_output)\n",
    "        B3: 3層目のバイアス (n_output,)\n",
    "        A3: 出力 (batch_size, n_output)\n",
    "        \"\"\"\n",
    "        self.A3 = self.Z2@self.W3 + self.B3\n",
    "\n",
    "        \"\"\"\n",
    "        softmax(): ソフトマックス関数\n",
    "        Z3出力 (batch_size, n_output)\n",
    "        Z3 は各ラベル（0〜9）に対する確率の配列である。\n",
    "        \"\"\"\n",
    "        self.Z3 = self.softmax()\n",
    "        \n",
    "        return self.Z3\n",
    "    \n",
    "    def cross_entropy_error(self,y):\n",
    "        \"\"\"\n",
    "        交差エントロピー誤差の計算\n",
    "        \"\"\"\n",
    "        if y.ndim == 1:\n",
    "            y = np.reshape(y, (-1,1))\n",
    "        \n",
    "        self.L = -1 * (np.mean(np.sum(y*np.log(self.Z3),axis=1),axis =0 ))\n",
    "    \n",
    "    def backpropagation(self, X, y):\n",
    "\n",
    "        #3層目\n",
    "        L_A3 = self.Z3 - y\n",
    "        L_B3 = np.sum(L_A3,axis=0)\n",
    "        L_W3 = (self.Z2).T@L_A3\n",
    "        L_Z2 = L_A3@self. W3.T\n",
    "        \n",
    "        \n",
    "        #2層目\n",
    "        L_A2 = L_Z2 * (1 - (np.tanh(self.A2))**2)\n",
    "        L_B2 = np.sum(L_A2, axis=0)\n",
    "        L_W2 = self.Z1.T@L_A2\n",
    "        L_Z1 = L_A2@self.W2.T\n",
    "        \n",
    "        \n",
    "        #1層目\n",
    "        L_A1 = L_Z1*(1 - (np.tanh(self.A1)**2))\n",
    "        L_B1 = np.sum(L_A1, axis=0)\n",
    "        L_W1 = (X.T)@L_A1\n",
    "        \n",
    "        #重み,バイアスの更新\n",
    "        self.W1 = self.W1 - self.lr*L_W1\n",
    "        self.W2 = self.W2 - self.lr*L_W2\n",
    "        self.W3 = self.W3 - self.lr*L_W3\n",
    "\n",
    "        self.B1 = self.B1 - self.lr*L_B1\n",
    "        self.B2 = self.B2 - self.lr*L_B2\n",
    "        self.B3 = self.B3 - self.lr*L_B3\n",
    "\n",
    "        \n",
    "    def fit(self, X, y, X_val=None, y_val=None):\n",
    "        \"\"\"\n",
    "        ニューラルネットワーク分類器を学習する。\n",
    "\n",
    "        Parameters\n",
    "        ----------\n",
    "        X : 次の形のndarray, shape (n_samples, n_features)\n",
    "            訓練用データの特徴量\n",
    "        y : 次の形のndarray, shape (n_samples, )\n",
    "            訓練用データの正解値\n",
    "        X_val : 次の形のndarray, shape (n_samples, n_features)\n",
    "            検証用データの特徴量\n",
    "        y_val : 次の形のndarray, shape (n_samples, )\n",
    "            検証用データの正解値\n",
    "        \"\"\"\n",
    "        exist_valdata = False\n",
    "        if X_val is not None:\n",
    "            exist_valdata = True\n",
    "            \n",
    "        #重み、バイアスの初期化\n",
    "        self.W1 = self.get_WB(self.n_features, self.n_nodes1)\n",
    "        self.W2 = self.get_WB(self.n_nodes1, self.n_nodes2)\n",
    "        self.W3 = self.get_WB(self.n_nodes2, self.n_output)\n",
    "        self.B1  = self.sigma* np.random.randn(400)\n",
    "        self.B2  = self.sigma* np.random.randn(200)\n",
    "        self.B3  = self.sigma* np.random.randn(10)\n",
    "\n",
    "        self.loss_list = []\n",
    "        self.val_loss = []\n",
    "        for i in range(self.num_epoch):            \n",
    "            get_mini_batch = GetMiniBatch(X, y, batch_size=20)\n",
    "            for mini_X_train, mini_y_train in get_mini_batch:\n",
    "\n",
    "                self.forwardpropagation(mini_X_train)\n",
    "                self.cross_entropy_error(mini_y_train)\n",
    "                self.backpropagation(mini_X_train, mini_y_train)\n",
    "            \n",
    "            self.loss_list.append(self.L)\n",
    "            \n",
    "        if exist_valdata:\n",
    "            #重み、バイアスの初期化\n",
    "            self.W1 = self.get_WB(self.n_features, self.n_nodes1)\n",
    "            self.W2 = self.get_WB(self.n_nodes1, self.n_nodes2)\n",
    "            self.W3 = self.get_WB(self.n_nodes2, self.n_output)\n",
    "            self.B1  = self.sigma* np.random.randn(400)\n",
    "            self.B2  = self.sigma* np.random.randn(200)\n",
    "            self.B3  = self.sigma* np.random.randn(10)\n",
    "            \n",
    "            for i in range(self.num_epoch):            \n",
    "            \n",
    "                get_mini_batch = GetMiniBatch(X_val, y_val, batch_size=20)\n",
    "                for mini_X_val, mini_y_val in get_mini_batch:\n",
    "\n",
    "                    self.forwardpropagation(mini_X_val)\n",
    "                    self.cross_entropy_error(mini_y_val)\n",
    "                    self.backpropagation(mini_X_val, mini_y_val)\n",
    "\n",
    "                self.val_loss.append(self.L)\n",
    "\n",
    "\n",
    "        if self.verbose:\n",
    "            print(self.loss_list)\n",
    "        \n",
    "    def predict(self, X):\n",
    "        \"\"\"\n",
    "        ニューラルネットワーク分類器を使い推定する。\n",
    "\n",
    "        Parameters\n",
    "        ----------\n",
    "        X : 次の形のndarray, shape (n_samples, n_features)\n",
    "            サンプル\n",
    "\n",
    "        Returns\n",
    "        -------\n",
    "            次の形のndarray, shape (n_samples, 1)\n",
    "            推定結果\n",
    "        \"\"\"\n",
    "        return np.argmax(self.forwardpropagation(X), axis=1)\n",
    "        \n",
    "\n"
   ]
  },
  {
   "cell_type": "markdown",
   "metadata": {},
   "source": [
    "## ミニバッチ処理"
   ]
  },
  {
   "cell_type": "code",
   "execution_count": 10,
   "metadata": {},
   "outputs": [],
   "source": [
    "class GetMiniBatch:\n",
    "    \"\"\"\n",
    "    ミニバッチを取得するイテレータ\n",
    "\n",
    "    Parameters\n",
    "    ----------\n",
    "    X : 次の形のndarray, shape (n_samples, n_features)\n",
    "      訓練用データ\n",
    "    y : 次の形のndarray, shape (n_samples, 1)\n",
    "      正解値\n",
    "    batch_size : int\n",
    "      バッチサイズ\n",
    "    seed : int\n",
    "      NumPyの乱数のシード\n",
    "    \"\"\"\n",
    "    def __init__(self, X, y, batch_size = 20, seed=0):\n",
    "        self.batch_size = batch_size\n",
    "        np.random.seed(seed)\n",
    "        shuffle_index = np.random.permutation(np.arange(X.shape[0]))\n",
    "        self._X = X[shuffle_index]\n",
    "        self._y = y[shuffle_index]\n",
    "        self._stop = np.ceil(X.shape[0]/self.batch_size).astype(np.int)\n",
    "\n",
    "    def __len__(self):\n",
    "        return self._stop\n",
    "\n",
    "    def __getitem__(self,item):\n",
    "        p0 = item*self.batch_size\n",
    "        p1 = item*self.batch_size + self.batch_size\n",
    "        return self._X[p0:p1], self._y[p0:p1]        \n",
    "\n",
    "    def __iter__(self):\n",
    "        self._counter = 0\n",
    "        return self\n",
    "\n",
    "    def __next__(self):\n",
    "        if self._counter >= self._stop:\n",
    "            raise StopIteration()\n",
    "        p0 = self._counter*self.batch_size\n",
    "        p1 = self._counter*self.batch_size + self.batch_size\n",
    "        self._counter += 1\n",
    "        return self._X[p0:p1], self._y[p0:p1]\n",
    "    \n"
   ]
  },
  {
   "cell_type": "markdown",
   "metadata": {},
   "source": [
    "## 【問題1】重みの初期値を決めるコードの作成\n"
   ]
  },
  {
   "cell_type": "code",
   "execution_count": 11,
   "metadata": {},
   "outputs": [],
   "source": [
    "n_features = 784\n",
    "n_nodes1 = 400\n",
    "sigma = 0.01 # ガウス分布の標準偏差\n",
    "W1 = sigma * np.random.randn(n_features, n_nodes1)\n",
    "# W1: (784, 400)\n"
   ]
  },
  {
   "cell_type": "markdown",
   "metadata": {},
   "source": [
    "## 【問題2】フォワードプロパゲーションの実装\n"
   ]
  },
  {
   "cell_type": "code",
   "execution_count": 12,
   "metadata": {},
   "outputs": [],
   "source": [
    "batch_size = 20 # バッチサイズ\n",
    "n_features = 784 # 特徴量の数\n",
    "n_nodes1 = 400 # 1層目のノード数\n",
    "n_nodes2 = 200 # 2層目のノード数\n",
    "n_output = 10 # 出力のクラス数（3層目のノード数）\n",
    "\n",
    "def forwardpropagation():\n",
    "    \"\"\"\n",
    "    X : 特徴量ベクトル (batch_size, n_features)\n",
    "    W1 : 1層目の重み (n_features, n_nodes1)\n",
    "    B1: 1層目のバイアス (n_nodes1,)\n",
    "    A1: 出力 (batch_size, n_nodes1)\n",
    "    \"\"\"\n",
    "    W1 = sigma * np.random.randn(n_features, n_nodes1)\n",
    "    B1 = sigma * np.random.randn(n_nodes1,)\n",
    "    A1 = X@W1 + B1\n",
    "\n",
    "    \"\"\"\n",
    "    f(): 活性化関数\n",
    "    Z1出力 (batch_size, n_nodes1)\n",
    "    \"\"\"\n",
    "    Z1 = sigmoid(A1) \n",
    "\n",
    "    \"\"\"\n",
    "    W2: 2層目の重み (n_nodes1, n_nodes2)\n",
    "    B2: 2層目のバイアス (n_nodes2,)\n",
    "    A2: 出力 (batch_size, n_nodes2)\n",
    "    \"\"\"\n",
    "    sigma = 0.01\n",
    "    W2 = sigma * np.random.randn(n_nodes1, n_nodes2)\n",
    "    B2 = sigma * np.random.randn(n_nodes1,)\n",
    "    A2 = Z1@W2 + B2\n",
    "\n",
    "    \"\"\"\n",
    "    f(): 活性化関数\n",
    "    Z2出力 (batch_size, n_nodes2)\n",
    "    \"\"\"\n",
    "    Z2 = sigmoid(A2)\n",
    "\n",
    "    \"\"\"\n",
    "    W3: 3層目の重み (n_nodes2, n_output)\n",
    "    B3: 3層目のバイアス (n_output,)\n",
    "    A3: 出力 (batch_size, n_output)\n",
    "    \"\"\"\n",
    "    B3 = sigma * np.random.randn(n_output,)\n",
    "    W3 = sigma * np.random.randn(n_nodes2, n_output)\n",
    "    A3 = Z2@W3 + B3\n",
    "\n",
    "    \"\"\"\n",
    "    softmax(): ソフトマックス関数\n",
    "    Z3出力 (batch_size, n_output)\n",
    "    Z3 は各ラベル（0〜9）に対する確率の配列である。\n",
    "    \"\"\"\n",
    "    Z3 = softmax(A3)\n",
    "    \n",
    "    return Z3"
   ]
  },
  {
   "cell_type": "markdown",
   "metadata": {},
   "source": [
    "## 活性化関数（フォワードプロバゲーション）"
   ]
  },
  {
   "cell_type": "code",
   "execution_count": 13,
   "metadata": {},
   "outputs": [],
   "source": [
    "def sigmoid(A1):\n",
    "    \"\"\"\n",
    "    シグモイド関数の計算\n",
    "    \n",
    "    \"\"\"\n",
    "    return 1 / (1 + np.exp(- A1))"
   ]
  },
  {
   "cell_type": "markdown",
   "metadata": {},
   "source": [
    "## ソフトマックス関数"
   ]
  },
  {
   "cell_type": "code",
   "execution_count": 14,
   "metadata": {},
   "outputs": [],
   "source": [
    "def softmax(A3):\n",
    "    \"\"\"\n",
    "    Z3k: k番目のクラスの確率ベクトル (batch_size,)\n",
    "    A3k: k番目のクラスにあたる前の層からのベクトル (batch_size,)\n",
    "    nc : クラスの数、n_output。今回のMNISTでは10。\n",
    "    \"\"\"\n",
    "    Z3 = np.exp(A3) / np.sum(np.ezp(A3), axis=1)\n",
    "    \n",
    "    return Z3"
   ]
  },
  {
   "cell_type": "markdown",
   "metadata": {},
   "source": [
    "## 【問題3】交差エントロピー誤差の実装"
   ]
  },
  {
   "cell_type": "code",
   "execution_count": 15,
   "metadata": {},
   "outputs": [],
   "source": [
    "def cross_entropy_error(y) :\n",
    "    \"\"\"\n",
    "    交差エントロピー誤差の計算\n",
    "    \"\"\"\n",
    "    L = np.sum(np.sum(y*np.log(Z3),axis=1),axis =0 )/ - batch_size\n",
    "    \n",
    "    return L"
   ]
  },
  {
   "cell_type": "markdown",
   "metadata": {},
   "source": [
    "## 【問題4】バックプロパゲーションの実装\n"
   ]
  },
  {
   "cell_type": "code",
   "execution_count": 16,
   "metadata": {},
   "outputs": [],
   "source": [
    "def backpropagation(X, y):\n",
    "\n",
    "    #更新式\n",
    "    Wi = Wi - alpha * L_Wi\n",
    "    Bi = Bi - alpha * L_Bi\n",
    "\n",
    "    #3層目\n",
    "    L_A3 = Z3 - y\n",
    "    L_B3 = np.sum(L_A3,axis=0)\n",
    "    L_W3 = Z2@L_A3\n",
    "    L_Z2 = L_A3@ W3.T\n",
    "\n",
    "    #2層目\n",
    "    L_A2 = L_Z2 * (1 - (np.tanh(A2))**2)\n",
    "    L_B2 = L_A2\n",
    "    L_W2 = Z1*L_A2# アダマール積\n",
    "    L_Z1 = L_A2@W2.T\n",
    "\n",
    "    #1層目\n",
    "    L_A1 = L_Z1*(1 - (np.tanh(A1)**2))\n",
    "    L_B1 = L_A1\n",
    "    L_W1 = (X.T) * L_A1#アダマール積\n",
    "\n",
    "    return Wi, Bi"
   ]
  },
  {
   "cell_type": "markdown",
   "metadata": {},
   "source": [
    "## 【問題5】推定\n"
   ]
  },
  {
   "cell_type": "markdown",
   "metadata": {},
   "source": [
    "## 【問題6】学習と推定\n"
   ]
  },
  {
   "cell_type": "code",
   "execution_count": 17,
   "metadata": {},
   "outputs": [],
   "source": [
    "nnc = ScratchSimpleNeuralNetrowkClassifier()"
   ]
  },
  {
   "cell_type": "code",
   "execution_count": 18,
   "metadata": {},
   "outputs": [],
   "source": [
    "nnc.fit(X_train_, y_train_, X_val,y_val)"
   ]
  },
  {
   "cell_type": "code",
   "execution_count": 19,
   "metadata": {},
   "outputs": [
    {
     "data": {
      "text/plain": [
       "[0.3287095524828171,\n",
       " 0.09682748710486325,\n",
       " 0.04051810172018944,\n",
       " 0.030765283891592155,\n",
       " 0.02963387861345739,\n",
       " 0.02676669247359668,\n",
       " 0.016789775665532143,\n",
       " 0.018651264848688794,\n",
       " 0.008251624276903038,\n",
       " 0.0015837650804422186]"
      ]
     },
     "execution_count": 19,
     "metadata": {},
     "output_type": "execute_result"
    }
   ],
   "source": [
    "nnc.loss_list"
   ]
  },
  {
   "cell_type": "code",
   "execution_count": 20,
   "metadata": {},
   "outputs": [],
   "source": [
    "y = nnc.predict(X_test)"
   ]
  },
  {
   "cell_type": "code",
   "execution_count": 21,
   "metadata": {},
   "outputs": [
    {
     "name": "stdout",
     "output_type": "stream",
     "text": [
      "0.9536\n"
     ]
    }
   ],
   "source": [
    "print(accuracy_score(y_test, y))"
   ]
  },
  {
   "cell_type": "markdown",
   "metadata": {},
   "source": [
    "## 【問題7】学習曲線のプロット"
   ]
  },
  {
   "cell_type": "code",
   "execution_count": 23,
   "metadata": {},
   "outputs": [
    {
     "data": {
      "image/png": "[encoded data removed]",
      "text/plain": [
       "<Figure size 432x288 with 1 Axes>"
      ]
     },
     "metadata": {
      "needs_background": "light"
     },
     "output_type": "display_data"
    }
   ],
   "source": [
    "plt.title(\"loss\")\n",
    "plt.xlabel(\"epoch\")\n",
    "plt.ylabel(\"loss\")\n",
    "plt.plot(np.arange(1, 10 + 1), nnc.loss_list, label=\"train_loss\")\n",
    "plt.plot(np.arange(1, 10 + 1), nnc.val_loss, label=\"val_loss\")\n",
    "plt.legend()\n",
    "plt.show()"
   ]
  },
  {
   "cell_type": "code",
   "execution_count": null,
   "metadata": {},
   "outputs": [],
   "source": []
  }
 ],
 "metadata": {
  "kernelspec": {
   "display_name": "Python 3",
   "language": "python",
   "name": "python3"
  },
  "language_info": {
   "codemirror_mode": {
    "name": "ipython",
    "version": 3
   },
   "file_extension": ".py",
   "mimetype": "text/x-python",
   "name": "python",
   "nbconvert_exporter": "python",
   "pygments_lexer": "ipython3",
   "version": "3.7.0"
  },
  "toc": {
   "base_numbering": 1,
   "nav_menu": {},
   "number_sections": true,
   "sideBar": true,
   "skip_h1_title": false,
   "title_cell": "Table of Contents",
   "title_sidebar": "Contents",
   "toc_cell": false,
   "toc_position": {
    "height": "calc(100% - 180px)",
    "left": "10px",
    "top": "150px",
    "width": "172px"
   },
   "toc_section_display": true,
   "toc_window_display": false
  },
  "varInspector": {
   "cols": {
    "lenName": 16,
    "lenType": 16,
    "lenVar": 40
   },
   "kernels_config": {
    "python": {
     "delete_cmd_postfix": "",
     "delete_cmd_prefix": "del ",
     "library": "var_list.py",
     "varRefreshCmd": "print(var_dic_list())"
    },
    "r": {
     "delete_cmd_postfix": ") ",
     "delete_cmd_prefix": "rm(",
     "library": "var_list.r",
     "varRefreshCmd": "cat(var_dic_list()) "
    }
   },
   "types_to_exclude": [
    "module",
    "function",
    "builtin_function_or_method",
    "instance",
    "_Feature"
   ],
   "window_display": false
  }
 },
 "nbformat": 4,
 "nbformat_minor": 2
}
