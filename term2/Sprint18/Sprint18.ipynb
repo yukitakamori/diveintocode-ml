{
 "cells": [
  {
   "cell_type": "markdown",
   "metadata": {},
   "source": [
    "# 自作データセットの学習\n"
   ]
  },
  {
   "cell_type": "markdown",
   "metadata": {},
   "source": [
    "## データセットの自作"
   ]
  },
  {
   "cell_type": "code",
   "execution_count": 225,
   "metadata": {
    "ExecuteTime": {
     "end_time": "2019-09-18T01:17:39.643887Z",
     "start_time": "2019-09-18T01:17:39.607242Z"
    }
   },
   "outputs": [],
   "source": [
    "import numpy  as np\n",
    "import os\n",
    "import glob \n",
    "import re\n",
    "\n",
    "import matplotlib.pyplot as plt\n",
    "\n",
    "from PIL import Image\n",
    "\n",
    "%matplotlib inline"
   ]
  },
  {
   "cell_type": "markdown",
   "metadata": {
    "ExecuteTime": {
     "end_time": "2019-06-11T14:53:42.684517Z",
     "start_time": "2019-06-11T14:53:42.680632Z"
    }
   },
   "source": [
    "## osを使用する場合"
   ]
  },
  {
   "cell_type": "code",
   "execution_count": 226,
   "metadata": {
    "ExecuteTime": {
     "end_time": "2019-09-18T01:17:41.759577Z",
     "start_time": "2019-09-18T01:17:41.753930Z"
    }
   },
   "outputs": [],
   "source": [
    "path = './training/' \n",
    "flist = os.listdir(path)"
   ]
  },
  {
   "cell_type": "code",
   "execution_count": 227,
   "metadata": {
    "ExecuteTime": {
     "end_time": "2019-09-18T01:17:43.305214Z",
     "start_time": "2019-09-18T01:17:43.299429Z"
    }
   },
   "outputs": [
    {
     "data": {
      "text/plain": [
       "['cat1.jpeg',\n",
       " '.DS_Store',\n",
       " 'cat4.jpeg',\n",
       " 'dog3.jpeg',\n",
       " 'dog.1.jpeg',\n",
       " 'dog2.jpeg',\n",
       " 'cat5.jpeg',\n",
       " 'cat2.jpeg',\n",
       " 'dog5.jpeg',\n",
       " 'dog4.jpeg',\n",
       " 'cat3.jpeg']"
      ]
     },
     "execution_count": 227,
     "metadata": {},
     "output_type": "execute_result"
    }
   ],
   "source": [
    "flist"
   ]
  },
  {
   "cell_type": "markdown",
   "metadata": {},
   "source": [
    "## globを使用する場合"
   ]
  },
  {
   "cell_type": "code",
   "execution_count": 228,
   "metadata": {
    "ExecuteTime": {
     "end_time": "2019-09-18T01:17:51.315098Z",
     "start_time": "2019-09-18T01:17:51.311116Z"
    }
   },
   "outputs": [],
   "source": [
    "img_list = glob.glob(path + '/*' + \".jpeg\")"
   ]
  },
  {
   "cell_type": "code",
   "execution_count": 229,
   "metadata": {
    "ExecuteTime": {
     "end_time": "2019-09-18T01:17:51.911674Z",
     "start_time": "2019-09-18T01:17:51.906924Z"
    }
   },
   "outputs": [
    {
     "data": {
      "text/plain": [
       "['./training/cat1.jpeg',\n",
       " './training/cat4.jpeg',\n",
       " './training/dog3.jpeg',\n",
       " './training/dog.1.jpeg',\n",
       " './training/dog2.jpeg',\n",
       " './training/cat5.jpeg',\n",
       " './training/cat2.jpeg',\n",
       " './training/dog5.jpeg',\n",
       " './training/dog4.jpeg',\n",
       " './training/cat3.jpeg']"
      ]
     },
     "execution_count": 229,
     "metadata": {},
     "output_type": "execute_result"
    }
   ],
   "source": [
    "img_list "
   ]
  },
  {
   "cell_type": "markdown",
   "metadata": {},
   "source": [
    "# イメージのロード、配列化、リサイズ、データセット作成"
   ]
  },
  {
   "cell_type": "code",
   "execution_count": 230,
   "metadata": {
    "ExecuteTime": {
     "end_time": "2019-09-18T01:17:54.387669Z",
     "start_time": "2019-09-18T01:17:54.329262Z"
    }
   },
   "outputs": [],
   "source": [
    "# np.resizeはだめ、ぜったい\n",
    "\n",
    "dog_img_array = np.empty((0,224,224,3))\n",
    "cat_img_array = np.empty((0,224,224,3))\n",
    "\n",
    "for img in img_list:\n",
    "    \n",
    "    # ファイル名に'dog'が含まれるイメージ\n",
    "    if re.search('dog', img):\n",
    "        \n",
    "        dog_img = Image.open(img)\n",
    "        \n",
    "        # サイズを揃える\n",
    "        dog_img = dog_img.resize((224, 224))\n",
    "        \n",
    "        # PIL.Image.Imageからnumpy配列へ\n",
    "        dog_img = np.array(dog_img)\n",
    "        \n",
    "        # 正規化\n",
    "        dog_img = dog_img / 255.0\n",
    "        \n",
    "        # axisの追加\n",
    "        dog_img = dog_img.reshape((1,224,224,3))\n",
    "        \n",
    "        dog_img_array = np.concatenate([dog_img_array, dog_img], axis = 0)\n",
    "    \n",
    "    # ファイル名に'cat'が含まれるイメージ\n",
    "    if re.search('cat', img):\n",
    "        \n",
    "        cat_img = Image.open(img)\n",
    "        \n",
    "        cat_img = cat_img.resize((224, 224))\n",
    "        \n",
    "        cat_img = np.array(cat_img)\n",
    "        \n",
    "        cat_img = cat_img / 255.0\n",
    "        \n",
    "        cat_img = cat_img.reshape((1,224,224,3))\n",
    "        \n",
    "        cat_img_array = np.concatenate([cat_img_array, cat_img], axis = 0)\n"
   ]
  },
  {
   "cell_type": "code",
   "execution_count": 231,
   "metadata": {
    "ExecuteTime": {
     "end_time": "2019-09-18T01:17:56.216886Z",
     "start_time": "2019-09-18T01:17:56.212657Z"
    }
   },
   "outputs": [
    {
     "name": "stdout",
     "output_type": "stream",
     "text": [
      "dog_image:(5, 224, 224, 3)  cat_image:(5, 224, 224, 3)\n"
     ]
    }
   ],
   "source": [
    "print('dog_image:{}  cat_image:{}'.format(dog_img_array.shape, cat_img_array.shape))"
   ]
  },
  {
   "cell_type": "code",
   "execution_count": 232,
   "metadata": {},
   "outputs": [],
   "source": [
    "dog_cat_image = np.concatenate([dog_img_array,cat_img_array], axis=0)"
   ]
  },
  {
   "cell_type": "code",
   "execution_count": 233,
   "metadata": {},
   "outputs": [
    {
     "data": {
      "text/plain": [
       "array([1., 1., 1., 1., 1., 0., 0., 0., 0., 0.])"
      ]
     },
     "execution_count": 233,
     "metadata": {},
     "output_type": "execute_result"
    }
   ],
   "source": [
    "dog_label = np.ones(5)\n",
    "cat_label = np.zeros(5)\n",
    "y_train = np.concatenate([dog_label,cat_label])\n",
    "y_train"
   ]
  },
  {
   "cell_type": "code",
   "execution_count": 234,
   "metadata": {},
   "outputs": [
    {
     "data": {
      "text/plain": [
       "array([[0., 1.],\n",
       "       [0., 1.],\n",
       "       [0., 1.],\n",
       "       [0., 1.],\n",
       "       [0., 1.],\n",
       "       [1., 0.],\n",
       "       [1., 0.],\n",
       "       [1., 0.],\n",
       "       [1., 0.],\n",
       "       [1., 0.]], dtype=float32)"
      ]
     },
     "execution_count": 234,
     "metadata": {},
     "output_type": "execute_result"
    }
   ],
   "source": [
    "y_train_onehot = np_utils.to_categorical(y_train)\n",
    "y_train_onehot"
   ]
  },
  {
   "cell_type": "markdown",
   "metadata": {
    "ExecuteTime": {
     "end_time": "2019-09-17T22:24:27.432743Z",
     "start_time": "2019-09-17T22:24:27.427898Z"
    }
   },
   "source": [
    "# イメージの表示"
   ]
  },
  {
   "cell_type": "code",
   "execution_count": 235,
   "metadata": {
    "ExecuteTime": {
     "end_time": "2019-09-18T01:18:01.758767Z",
     "start_time": "2019-09-18T01:18:01.521161Z"
    }
   },
   "outputs": [
    {
     "data": {
      "text/plain": [
       "<matplotlib.image.AxesImage at 0x1ac85d48d0>"
      ]
     },
     "execution_count": 235,
     "metadata": {},
     "output_type": "execute_result"
    },
    {
     "data": {
      "image/png": "[encoded data removed]",
      "text/plain": [
       "<Figure size 432x288 with 1 Axes>"
      ]
     },
     "metadata": {
      "needs_background": "light"
     },
     "output_type": "display_data"
    }
   ],
   "source": [
    "plt.imshow(cat_img_array[3])"
   ]
  },
  {
   "cell_type": "markdown",
   "metadata": {},
   "source": [
    "## テストセット作成"
   ]
  },
  {
   "cell_type": "code",
   "execution_count": 236,
   "metadata": {
    "ExecuteTime": {
     "end_time": "2019-09-18T01:17:39.643887Z",
     "start_time": "2019-09-18T01:17:39.607242Z"
    }
   },
   "outputs": [],
   "source": [
    "import numpy  as np\n",
    "import os\n",
    "import glob \n",
    "import re\n",
    "\n",
    "import matplotlib.pyplot as plt\n",
    "\n",
    "from PIL import Image\n",
    "\n",
    "%matplotlib inline"
   ]
  },
  {
   "cell_type": "markdown",
   "metadata": {},
   "source": [
    "## globを使用する場合"
   ]
  },
  {
   "cell_type": "code",
   "execution_count": 239,
   "metadata": {
    "ExecuteTime": {
     "end_time": "2019-09-18T01:17:51.315098Z",
     "start_time": "2019-09-18T01:17:51.311116Z"
    }
   },
   "outputs": [],
   "source": [
    "img_list = glob.glob(path + '/*' + \".jpeg\")"
   ]
  },
  {
   "cell_type": "code",
   "execution_count": 240,
   "metadata": {
    "ExecuteTime": {
     "end_time": "2019-09-18T01:17:51.911674Z",
     "start_time": "2019-09-18T01:17:51.906924Z"
    }
   },
   "outputs": [
    {
     "data": {
      "text/plain": [
       "['./test/cat1.jpeg',\n",
       " './test/dog1.jpeg',\n",
       " './test/cat4.jpeg',\n",
       " './test/dog3.jpeg',\n",
       " './test/dog2.jpeg',\n",
       " './test/cat5.jpeg',\n",
       " './test/cat2.jpeg',\n",
       " './test/dog5.jpeg',\n",
       " './test/dog4.jpeg',\n",
       " './test/cat3.jpeg']"
      ]
     },
     "execution_count": 240,
     "metadata": {},
     "output_type": "execute_result"
    }
   ],
   "source": [
    "img_list "
   ]
  },
  {
   "cell_type": "markdown",
   "metadata": {},
   "source": [
    "# イメージのロード、配列化、リサイズ、データセット作成"
   ]
  },
  {
   "cell_type": "code",
   "execution_count": 241,
   "metadata": {
    "ExecuteTime": {
     "end_time": "2019-09-18T01:17:54.387669Z",
     "start_time": "2019-09-18T01:17:54.329262Z"
    }
   },
   "outputs": [],
   "source": [
    "# np.resizeはだめ、ぜったい\n",
    "\n",
    "dog_img_array = np.empty((0,224,224,3))\n",
    "cat_img_array = np.empty((0,224,224,3))\n",
    "\n",
    "for img in img_list:\n",
    "    \n",
    "    # ファイル名に'dog'が含まれるイメージ\n",
    "    if re.search('dog', img):\n",
    "        \n",
    "        dog_img = Image.open(img)\n",
    "        \n",
    "        # サイズを揃える\n",
    "        dog_img = dog_img.resize((224, 224))\n",
    "        \n",
    "        # PIL.Image.Imageからnumpy配列へ\n",
    "        dog_img = np.array(dog_img)\n",
    "        \n",
    "        # 正規化\n",
    "        dog_img = dog_img / 255.0\n",
    "        \n",
    "        # axisの追加\n",
    "        dog_img = dog_img.reshape((1,224,224,3))\n",
    "        \n",
    "        dog_img_array = np.concatenate([dog_img_array, dog_img], axis = 0)\n",
    "    \n",
    "    # ファイル名に'cat'が含まれるイメージ\n",
    "    if re.search('cat', img):\n",
    "        \n",
    "        cat_img = Image.open(img)\n",
    "        \n",
    "        cat_img = cat_img.resize((224, 224))\n",
    "        \n",
    "        cat_img = np.array(cat_img)\n",
    "        \n",
    "        cat_img = cat_img / 255.0\n",
    "        \n",
    "        cat_img = cat_img.reshape((1,224,224,3))\n",
    "        \n",
    "        cat_img_array = np.concatenate([cat_img_array, cat_img], axis = 0)\n"
   ]
  },
  {
   "cell_type": "code",
   "execution_count": 242,
   "metadata": {
    "ExecuteTime": {
     "end_time": "2019-09-18T01:17:56.216886Z",
     "start_time": "2019-09-18T01:17:56.212657Z"
    }
   },
   "outputs": [
    {
     "name": "stdout",
     "output_type": "stream",
     "text": [
      "dog_image:(5, 224, 224, 3)  cat_image:(5, 224, 224, 3)\n"
     ]
    }
   ],
   "source": [
    "print('dog_image:{}  cat_image:{}'.format(dog_img_array.shape, cat_img_array.shape))"
   ]
  },
  {
   "cell_type": "code",
   "execution_count": 243,
   "metadata": {},
   "outputs": [],
   "source": [
    "dog_cat_test = np.concatenate([dog_img_array,cat_img_array], axis=0)"
   ]
  },
  {
   "cell_type": "code",
   "execution_count": 244,
   "metadata": {},
   "outputs": [
    {
     "data": {
      "text/plain": [
       "array([1., 1., 1., 1., 1., 0., 0., 0., 0., 0.])"
      ]
     },
     "execution_count": 244,
     "metadata": {},
     "output_type": "execute_result"
    }
   ],
   "source": [
    "dog_label = np.ones(5)\n",
    "cat_label = np.zeros(5)\n",
    "y_test = np.concatenate([dog_label,cat_label])\n",
    "y_test"
   ]
  },
  {
   "cell_type": "code",
   "execution_count": 245,
   "metadata": {},
   "outputs": [
    {
     "data": {
      "text/plain": [
       "array([[0., 1.],\n",
       "       [0., 1.],\n",
       "       [0., 1.],\n",
       "       [0., 1.],\n",
       "       [0., 1.],\n",
       "       [1., 0.],\n",
       "       [1., 0.],\n",
       "       [1., 0.],\n",
       "       [1., 0.],\n",
       "       [1., 0.]], dtype=float32)"
      ]
     },
     "execution_count": 245,
     "metadata": {},
     "output_type": "execute_result"
    }
   ],
   "source": [
    "y_test_onehot = np_utils.to_categorical(y_test)\n",
    "y_test_onehot"
   ]
  },
  {
   "cell_type": "markdown",
   "metadata": {
    "ExecuteTime": {
     "end_time": "2019-09-17T22:24:27.432743Z",
     "start_time": "2019-09-17T22:24:27.427898Z"
    }
   },
   "source": [
    "# イメージの表示"
   ]
  },
  {
   "cell_type": "code",
   "execution_count": 273,
   "metadata": {
    "ExecuteTime": {
     "end_time": "2019-09-18T01:18:01.758767Z",
     "start_time": "2019-09-18T01:18:01.521161Z"
    }
   },
   "outputs": [
    {
     "data": {
      "text/plain": [
       "<matplotlib.image.AxesImage at 0x1acab6b5f8>"
      ]
     },
     "execution_count": 273,
     "metadata": {},
     "output_type": "execute_result"
    },
    {
     "data": {
      "image/png": "[encoded data removed]",
      "text/plain": [
       "<Figure size 432x288 with 1 Axes>"
      ]
     },
     "metadata": {
      "needs_background": "light"
     },
     "output_type": "display_data"
    }
   ],
   "source": [
    "plt.imshow(cat_img_array[4])"
   ]
  },
  {
   "cell_type": "markdown",
   "metadata": {},
   "source": [
    "## 【問題1】自作データセットでの分類の学習\n"
   ]
  },
  {
   "cell_type": "code",
   "execution_count": 247,
   "metadata": {},
   "outputs": [],
   "source": [
    "from keras.models import Sequential\n",
    "from keras.layers import Dense, Dropout, Flatten\n",
    "from keras.layers import Conv2D, MaxPooling2D\n",
    "from keras.utils import np_utils\n",
    "from keras.optimizers import RMSprop\n",
    "from sklearn.model_selection import train_test_split"
   ]
  },
  {
   "cell_type": "code",
   "execution_count": 248,
   "metadata": {},
   "outputs": [],
   "source": [
    "x_train, x_valid, y_train, y_valid = train_test_split(dog_cat_image, y_train_onehot, test_size=0.2)"
   ]
  },
  {
   "cell_type": "code",
   "execution_count": 249,
   "metadata": {},
   "outputs": [
    {
     "data": {
      "text/plain": [
       "(8, 224, 224, 3)"
      ]
     },
     "execution_count": 249,
     "metadata": {},
     "output_type": "execute_result"
    }
   ],
   "source": [
    "x_train.shape"
   ]
  },
  {
   "cell_type": "code",
   "execution_count": 310,
   "metadata": {},
   "outputs": [],
   "source": [
    "model = Sequential()\n",
    "model.add(Conv2D(32, kernel_size=(3, 3), activation='relu', input_shape=(224, 224, 3)))\n",
    "model.add(Conv2D(64, (3, 3), activation='relu'))\n",
    "model.add(MaxPooling2D(pool_size=(2, 2)))\n",
    "model.add(Dropout(0.25))\n",
    "model.add(Flatten())\n",
    "model.add(Dense(128, activation='relu'))\n",
    "model.add(Dropout(0.5))\n",
    "model.add(Dense(2, activation='softmax'))"
   ]
  },
  {
   "cell_type": "code",
   "execution_count": 311,
   "metadata": {},
   "outputs": [
    {
     "name": "stdout",
     "output_type": "stream",
     "text": [
      "Train on 8 samples, validate on 2 samples\n",
      "Epoch 1/10\n",
      "8/8 [==============================] - 18s 2s/step - loss: 0.5944 - acc: 0.6250 - val_loss: 16.1181 - val_acc: 0.0000e+00\n",
      "Epoch 2/10\n",
      "8/8 [==============================] - 5s 612ms/step - loss: 8.0590 - acc: 0.5000 - val_loss: 16.1181 - val_acc: 0.0000e+00\n",
      "Epoch 3/10\n",
      "8/8 [==============================] - 4s 531ms/step - loss: 10.4623 - acc: 0.2500 - val_loss: 1.1921e-07 - val_acc: 1.0000\n",
      "Epoch 4/10\n",
      "8/8 [==============================] - 5s 565ms/step - loss: 10.0738 - acc: 0.3750 - val_loss: 1.1921e-07 - val_acc: 1.0000\n",
      "Epoch 5/10\n",
      "8/8 [==============================] - 4s 552ms/step - loss: 10.0738 - acc: 0.3750 - val_loss: 1.1921e-07 - val_acc: 1.0000\n",
      "Epoch 6/10\n",
      "8/8 [==============================] - 5s 563ms/step - loss: 10.0738 - acc: 0.3750 - val_loss: 1.1921e-07 - val_acc: 1.0000\n",
      "Epoch 7/10\n",
      "8/8 [==============================] - 4s 492ms/step - loss: 10.0738 - acc: 0.3750 - val_loss: 1.1921e-07 - val_acc: 1.0000\n",
      "Epoch 8/10\n",
      "8/8 [==============================] - 3s 388ms/step - loss: 10.0738 - acc: 0.3750 - val_loss: 1.1921e-07 - val_acc: 1.0000\n",
      "Epoch 9/10\n",
      "8/8 [==============================] - 4s 479ms/step - loss: 10.0738 - acc: 0.3750 - val_loss: 1.1921e-07 - val_acc: 1.0000\n",
      "Epoch 10/10\n",
      "8/8 [==============================] - 4s 498ms/step - loss: 10.0738 - acc: 0.3750 - val_loss: 1.1921e-07 - val_acc: 1.0000\n"
     ]
    }
   ],
   "source": [
    "model.compile(loss='categorical_crossentropy',\n",
    "              optimizer=RMSprop(),\n",
    "              metrics=['accuracy'])\n",
    "\n",
    "history = model.fit(x_train, y_train,\n",
    "                    batch_size=8,\n",
    "                    epochs=10,\n",
    "                    verbose=1,\n",
    "                    validation_data=(x_valid, y_valid))\n"
   ]
  },
  {
   "cell_type": "code",
   "execution_count": 312,
   "metadata": {},
   "outputs": [
    {
     "name": "stdout",
     "output_type": "stream",
     "text": [
      "Test loss: 8.05904769897461\n",
      "Test accuracy: 0.5\n"
     ]
    }
   ],
   "source": [
    "score = model.evaluate(dog_cat_test, y_test_onehot, verbose=0)\n",
    "print('Test loss:', score[0])\n",
    "print('Test accuracy:', score[1])"
   ]
  },
  {
   "cell_type": "markdown",
   "metadata": {},
   "source": [
    "## 【問題2】分類データセットに対するデータ拡張\n"
   ]
  },
  {
   "cell_type": "markdown",
   "metadata": {},
   "source": [
    "### keras ImageDataGeneratorを使う"
   ]
  },
  {
   "cell_type": "code",
   "execution_count": 290,
   "metadata": {},
   "outputs": [],
   "source": [
    "from keras.preprocessing.image import ImageDataGenerator"
   ]
  },
  {
   "cell_type": "code",
   "execution_count": 291,
   "metadata": {},
   "outputs": [
    {
     "name": "stderr",
     "output_type": "stream",
     "text": [
      "/Users/takamoriyuki/.pyenv/versions/anaconda3-5.3.1/lib/python3.7/site-packages/keras_preprocessing/image/image_data_generator.py:341: UserWarning: This ImageDataGenerator specifies `zca_whitening` which overrides setting of`featurewise_std_normalization`.\n",
      "  warnings.warn('This ImageDataGenerator specifies '\n"
     ]
    }
   ],
   "source": [
    "train_datagen = ImageDataGenerator(\n",
    "    rescale=1. / 255,\n",
    "    shear_range=0.8,\n",
    "    zoom_range=0.6,\n",
    "    horizontal_flip=True,\n",
    "    featurewise_center=True,\n",
    "    featurewise_std_normalization=True,\n",
    "    zca_whitening=True\n",
    ")\n",
    "\n",
    "validation_datagen = ImageDataGenerator(\n",
    "    rescale=1. / 255,\n",
    "    featurewise_center=True,\n",
    "    featurewise_std_normalization=True,\n",
    "    zca_whitening=True\n",
    ")"
   ]
  },
  {
   "cell_type": "code",
   "execution_count": 305,
   "metadata": {},
   "outputs": [
    {
     "name": "stdout",
     "output_type": "stream",
     "text": [
      "Found 10 images belonging to 2 classes.\n",
      "Found 10 images belonging to 2 classes.\n"
     ]
    }
   ],
   "source": [
    "img_height, img_width = 200,150 \n",
    "train_generator = train_datagen.flow_from_directory(\n",
    "    './training2/',\n",
    "    target_size=(img_height, img_width),\n",
    "    batch_size=50,\n",
    "    class_mode='categorical')\n",
    "\n",
    "validation_generator = validation_datagen.flow_from_directory(\n",
    "    './test2/',\n",
    "    target_size=(img_height, img_width),\n",
    "    batch_size=50,\n",
    "    class_mode='categorical')"
   ]
  },
  {
   "cell_type": "code",
   "execution_count": 306,
   "metadata": {},
   "outputs": [],
   "source": [
    "model = Sequential()\n",
    "model.add(Conv2D(32, kernel_size=(3, 3), activation='relu', input_shape=(img_height, img_width, 3)))\n",
    "model.add(Conv2D(64, (3, 3), activation='relu'))\n",
    "model.add(MaxPooling2D(pool_size=(2, 2)))\n",
    "model.add(Dropout(0.25))\n",
    "model.add(Flatten())\n",
    "model.add(Dense(128, activation='relu'))\n",
    "model.add(Dropout(0.5))\n",
    "model.add(Dense(2, activation='softmax'))"
   ]
  },
  {
   "cell_type": "code",
   "execution_count": 307,
   "metadata": {},
   "outputs": [
    {
     "name": "stdout",
     "output_type": "stream",
     "text": [
      "Epoch 1/10\n"
     ]
    },
    {
     "name": "stderr",
     "output_type": "stream",
     "text": [
      "/Users/takamoriyuki/.pyenv/versions/anaconda3-5.3.1/lib/python3.7/site-packages/keras_preprocessing/image/image_data_generator.py:716: UserWarning: This ImageDataGenerator specifies `featurewise_center`, but it hasn't been fit on any training data. Fit it first by calling `.fit(numpy_data)`.\n",
      "  warnings.warn('This ImageDataGenerator specifies '\n",
      "/Users/takamoriyuki/.pyenv/versions/anaconda3-5.3.1/lib/python3.7/site-packages/keras_preprocessing/image/image_data_generator.py:735: UserWarning: This ImageDataGenerator specifies `zca_whitening`, but it hasn't been fit on any training data. Fit it first by calling `.fit(numpy_data)`.\n",
      "  warnings.warn('This ImageDataGenerator specifies '\n"
     ]
    },
    {
     "name": "stdout",
     "output_type": "stream",
     "text": [
      "50/50 [==============================] - 105s 2s/step - loss: 1.7918 - acc: 0.7480 - val_loss: 3.2434 - val_acc: 0.3000\n",
      "Epoch 2/10\n",
      "50/50 [==============================] - 101s 2s/step - loss: 0.1932 - acc: 0.9540 - val_loss: 6.1577 - val_acc: 0.3000\n",
      "Epoch 3/10\n",
      "50/50 [==============================] - 105s 2s/step - loss: 0.2641 - acc: 0.9400 - val_loss: 8.0596 - val_acc: 0.5000\n",
      "Epoch 4/10\n",
      "50/50 [==============================] - 112s 2s/step - loss: 0.0429 - acc: 0.9840 - val_loss: 8.3754 - val_acc: 0.4000\n",
      "Epoch 5/10\n",
      "50/50 [==============================] - 116s 2s/step - loss: 0.2951 - acc: 0.9720 - val_loss: 7.6356 - val_acc: 0.3000\n",
      "Epoch 6/10\n",
      "50/50 [==============================] - 112s 2s/step - loss: 0.0062 - acc: 0.9980 - val_loss: 8.0861 - val_acc: 0.4000\n",
      "Epoch 7/10\n",
      "50/50 [==============================] - 113s 2s/step - loss: 0.6051 - acc: 0.9400 - val_loss: 10.3350 - val_acc: 0.3000\n",
      "Epoch 8/10\n",
      "50/50 [==============================] - 102s 2s/step - loss: 0.0446 - acc: 0.9960 - val_loss: 9.6709 - val_acc: 0.4000\n",
      "Epoch 9/10\n",
      "50/50 [==============================] - 108s 2s/step - loss: 0.2175 - acc: 0.9780 - val_loss: 8.9422 - val_acc: 0.4000\n",
      "Epoch 10/10\n",
      "50/50 [==============================] - 112s 2s/step - loss: 8.1141e-04 - acc: 1.0000 - val_loss: 10.4841 - val_acc: 0.3000\n"
     ]
    }
   ],
   "source": [
    "model.compile(loss='categorical_crossentropy',\n",
    "              optimizer=RMSprop(),\n",
    "              metrics=['accuracy'])\n",
    "\n",
    "history = model.fit_generator(\n",
    "    train_generator,\n",
    "    steps_per_epoch=50,\n",
    "    epochs=10,\n",
    "    validation_data=validation_generator,\n",
    "    validation_steps=100)"
   ]
  },
  {
   "cell_type": "markdown",
   "metadata": {},
   "source": [
    "## 【問題3】物体検出データセットの用意\n"
   ]
  },
  {
   "cell_type": "code",
   "execution_count": 313,
   "metadata": {},
   "outputs": [],
   "source": [
    "# 画像をリシェイプしてからアノテーション\n",
    "#cv2 rectangle git 足し算しない yoloじゃない\n",
    "# np load text\n",
    "# elementtree\n",
    "#https://github.com/albu/albumentations/blob/master/notebooks/example_bboxes.ipynb\n",
    "import cv2\n",
    "\n",
    "import numpy  as np\n",
    "import os\n",
    "import glob \n",
    "import re\n",
    "\n",
    "import matplotlib.pyplot as plt\n",
    "\n",
    "from PIL import Image\n",
    "\n",
    "%matplotlib inline"
   ]
  },
  {
   "cell_type": "code",
   "execution_count": 314,
   "metadata": {},
   "outputs": [],
   "source": [
    "path = './training/' "
   ]
  },
  {
   "cell_type": "code",
   "execution_count": 315,
   "metadata": {},
   "outputs": [],
   "source": [
    "img_list = glob.glob(path + '/*' + \".jpeg\")"
   ]
  },
  {
   "cell_type": "code",
   "execution_count": 316,
   "metadata": {
    "ExecuteTime": {
     "end_time": "2019-09-18T01:17:54.387669Z",
     "start_time": "2019-09-18T01:17:54.329262Z"
    }
   },
   "outputs": [],
   "source": [
    "# np.resizeはだめ、ぜったい\n",
    "\n",
    "dog_img_array = np.empty((0,224,224,3))\n",
    "cat_img_array = np.empty((0,224,224,3))\n",
    "\n",
    "for img in img_list:\n",
    "    \n",
    "    # ファイル名に'dog'が含まれるイメージ\n",
    "    if re.search('dog', img):\n",
    "        \n",
    "        dog_img = Image.open(img)\n",
    "        \n",
    "        # サイズを揃える\n",
    "        dog_img = dog_img.resize((224, 224))\n",
    "        \n",
    "        # PIL.Image.Imageからnumpy配列へ\n",
    "        dog_img = np.array(dog_img)\n",
    "        \n",
    "        # 正規化\n",
    "        dog_img = dog_img / 255.0\n",
    "        \n",
    "        # axisの追加\n",
    "        dog_img = dog_img.reshape((1,224,224,3))\n",
    "        \n",
    "        dog_img_array = np.concatenate([dog_img_array, dog_img], axis = 0)\n",
    "    \n",
    "    # ファイル名に'cat'が含まれるイメージ\n",
    "    if re.search('cat', img):\n",
    "        \n",
    "        cat_img = Image.open(img)\n",
    "        \n",
    "        cat_img = cat_img.resize((224, 224))\n",
    "        \n",
    "        cat_img = np.array(cat_img)\n",
    "        \n",
    "        cat_img = cat_img / 255.0\n",
    "        \n",
    "        cat_img = cat_img.reshape((1,224,224,3))\n",
    "        \n",
    "        cat_img_array = np.concatenate([cat_img_array, cat_img], axis = 0)\n"
   ]
  },
  {
   "cell_type": "code",
   "execution_count": 317,
   "metadata": {},
   "outputs": [],
   "source": [
    "cat_dog_image = np.concatenate([cat_img_array,dog_img_array], axis=0)"
   ]
  },
  {
   "cell_type": "code",
   "execution_count": null,
   "metadata": {},
   "outputs": [],
   "source": []
  },
  {
   "cell_type": "code",
   "execution_count": null,
   "metadata": {},
   "outputs": [],
   "source": []
  },
  {
   "cell_type": "markdown",
   "metadata": {},
   "source": [
    "## 【問題4】物体検出データセットに対するデータ拡張"
   ]
  },
  {
   "cell_type": "code",
   "execution_count": null,
   "metadata": {},
   "outputs": [],
   "source": []
  }
 ],
 "metadata": {
  "kernelspec": {
   "display_name": "Python 3",
   "language": "python",
   "name": "python3"
  },
  "language_info": {
   "codemirror_mode": {
    "name": "ipython",
    "version": 3
   },
   "file_extension": ".py",
   "mimetype": "text/x-python",
   "name": "python",
   "nbconvert_exporter": "python",
   "pygments_lexer": "ipython3",
   "version": "3.7.0"
  }
 },
 "nbformat": 4,
 "nbformat_minor": 2
}
